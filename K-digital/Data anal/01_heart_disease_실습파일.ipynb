{
 "cells": [
  {
   "cell_type": "markdown",
   "id": "2b316474",
   "metadata": {},
   "source": [
    "# table data를 활용한 간단한 EDA와 전처리"
   ]
  },
  {
   "cell_type": "code",
   "execution_count": 55,
   "id": "14cc00fc",
   "metadata": {},
   "outputs": [
    {
     "data": {
      "image/png": "[encoded data removed]",
      "text/html": [
       "<div style=\"vertical-align: middle;\"><strong>seaborn_cubehelix</strong> </div><div class=\"cmap\"><img alt=\"seaborn_cubehelix colormap\" title=\"seaborn_cubehelix\" style=\"border: 1px solid #555;\" src=\"data:image/png;base64,iVBORw0KGgoAAAANSUhEUgAAAgAAAABACAYAAABsv8+/AAAAIHRFWHRUaXRsZQBzZWFib3JuX2N1YmVoZWxpeCBjb2xvcm1hcCHoIPcAAAAmdEVYdERlc2NyaXB0aW9uAHNlYWJvcm5fY3ViZWhlbGl4IGNvbG9ybWFwGlvH/wAAADB0RVh0QXV0aG9yAE1hdHBsb3RsaWIgdjMuNS4xLCBodHRwczovL21hdHBsb3RsaWIub3Jn97fOzwAAADJ0RVh0U29mdHdhcmUATWF0cGxvdGxpYiB2My41LjEsIGh0dHBzOi8vbWF0cGxvdGxpYi5vcmfZEVHoAAACHklEQVR4nO3WQW7bMBCGUbb3v1Ru0XUOQmZRyKpGGodAs/vf2wQhZWpsJfD36/PPxxpjjLHm+Ndaf5fHbNbrz2P/uL6u717fvW52513nO67r7nf8vmazXq+fq+yPx/3b68rc9/1j/N059ua8zde+32P7mLO+bF2ue63PZv11n+t9R/319vz37nd/X+V15bx2v/ncz/nG2+u7x9w/3/fX755X/9zvr3t/3v3P7Hr99hyzO+/9HPO79/Was+yX687z9u6zO0e7Pq7r/3/e+pE56ud0/lvW9W7udZmn/3y7+Z+fY7/frDfXv+6/ud/NPb/Zr+/r/jzm3hzlH70/75h7Pp53zv38vTvr93SZq85x7j+f93sAAHEEAAAEEgAAEEgAAEAgAQAAgQQAAAQSAAAQSAAAQCABAACBBAAABBIAABBIAABAIAEAAIEEAAAEEgAAEEgAAEAgAQAAgQQAAAQSAAAQSAAAQCABAACBBAAABBIAABBIAABAIAEAAIEEAAAEEgAAEEgAAEAgAQAAgQQAAAQSAAAQSAAAQCABAACBBAAABBIAABBIAABAIAEAAIEEAAAEEgAAEEgAAEAgAQAAgQQAAAQSAAAQSAAAQCABAACBBAAABBIAABBIAABAIAEAAIEEAAAEEgAAEEgAAEAgAQAAgQQAAAQSAAAQSAAAQCABAACBBAAABBIAABBIAABAIAEAAIEEAAAEEgAAEOgLKXGnFBk28owAAAAASUVORK5CYII=\"></div><div style=\"vertical-align: middle; max-width: 514px; display: flex; justify-content: space-between;\"><div style=\"float: left;\"><div title=\"#e3d9c1ff\" style=\"display: inline-block; width: 1em; height: 1em; margin: 0; vertical-align: middle; border: 1px solid #555; background-color: #e3d9c1ff;\"></div> under</div><div style=\"margin: 0 auto; display: inline-block;\">bad <div title=\"#00000000\" style=\"display: inline-block; width: 1em; height: 1em; margin: 0; vertical-align: middle; border: 1px solid #555; background-color: #00000000;\"></div></div><div style=\"float: right;\">over <div title=\"#27213fff\" style=\"display: inline-block; width: 1em; height: 1em; margin: 0; vertical-align: middle; border: 1px solid #555; background-color: #27213fff;\"></div></div>"
      ],
      "text/plain": [
       "<matplotlib.colors.ListedColormap at 0x297afa5c040>"
      ]
     },
     "execution_count": 55,
     "metadata": {},
     "output_type": "execute_result"
    }
   ],
   "source": [
    "import os\n",
    "import numpy as np\n",
    "import pandas as pd\n",
    "import warnings\n",
    "warnings.filterwarnings('ignore')\n",
    "sns.color_palette(\"ch:s=-.2,r=.6\", as_cmap=True)"
   ]
  },
  {
   "cell_type": "markdown",
   "id": "05328a83",
   "metadata": {},
   "source": [
    "# 1. 데이터 불러오기"
   ]
  },
  {
   "cell_type": "code",
   "execution_count": 22,
   "id": "3db8b9f7",
   "metadata": {},
   "outputs": [],
   "source": [
    "base_path = \"C:\\\\Users\\\\user\\\\Desktop\\\\016_\\\\week3\\\\5\"\n",
    "data_path = os.path.join(base_path, 'heart_disease_v1.csv')"
   ]
  },
  {
   "cell_type": "code",
   "execution_count": 23,
   "id": "03af4bd8",
   "metadata": {},
   "outputs": [],
   "source": [
    "data = pd.read_csv(data_path)"
   ]
  },
  {
   "cell_type": "code",
   "execution_count": 24,
   "id": "679d8d44",
   "metadata": {},
   "outputs": [
    {
     "data": {
      "text/html": [
       "<div>\n",
       "<style scoped>\n",
       "    .dataframe tbody tr th:only-of-type {\n",
       "        vertical-align: middle;\n",
       "    }\n",
       "\n",
       "    .dataframe tbody tr th {\n",
       "        vertical-align: top;\n",
       "    }\n",
       "\n",
       "    .dataframe thead th {\n",
       "        text-align: right;\n",
       "    }\n",
       "</style>\n",
       "<table border=\"1\" class=\"dataframe\">\n",
       "  <thead>\n",
       "    <tr style=\"text-align: right;\">\n",
       "      <th></th>\n",
       "      <th>birth_year</th>\n",
       "      <th>sex</th>\n",
       "      <th>cp</th>\n",
       "      <th>trestbps</th>\n",
       "      <th>chol</th>\n",
       "      <th>fbs</th>\n",
       "      <th>restecg</th>\n",
       "      <th>thalach</th>\n",
       "      <th>exang</th>\n",
       "      <th>oldpeak</th>\n",
       "      <th>slope</th>\n",
       "      <th>ca</th>\n",
       "      <th>thal</th>\n",
       "      <th>target</th>\n",
       "    </tr>\n",
       "  </thead>\n",
       "  <tbody>\n",
       "    <tr>\n",
       "      <th>0</th>\n",
       "      <td>1956</td>\n",
       "      <td>M</td>\n",
       "      <td>3</td>\n",
       "      <td>145</td>\n",
       "      <td>233</td>\n",
       "      <td>1</td>\n",
       "      <td>0</td>\n",
       "      <td>150</td>\n",
       "      <td>0</td>\n",
       "      <td>2.3</td>\n",
       "      <td>0</td>\n",
       "      <td>0</td>\n",
       "      <td>1</td>\n",
       "      <td>1</td>\n",
       "    </tr>\n",
       "    <tr>\n",
       "      <th>1</th>\n",
       "      <td>1982</td>\n",
       "      <td>M</td>\n",
       "      <td>2</td>\n",
       "      <td>130</td>\n",
       "      <td>250</td>\n",
       "      <td>0</td>\n",
       "      <td>1</td>\n",
       "      <td>187</td>\n",
       "      <td>0</td>\n",
       "      <td>3.5</td>\n",
       "      <td>0</td>\n",
       "      <td>0</td>\n",
       "      <td>2</td>\n",
       "      <td>1</td>\n",
       "    </tr>\n",
       "    <tr>\n",
       "      <th>2</th>\n",
       "      <td>1978</td>\n",
       "      <td>F</td>\n",
       "      <td>1</td>\n",
       "      <td>130</td>\n",
       "      <td>204</td>\n",
       "      <td>0</td>\n",
       "      <td>0</td>\n",
       "      <td>172</td>\n",
       "      <td>0</td>\n",
       "      <td>1.4</td>\n",
       "      <td>2</td>\n",
       "      <td>0</td>\n",
       "      <td>2</td>\n",
       "      <td>1</td>\n",
       "    </tr>\n",
       "    <tr>\n",
       "      <th>3</th>\n",
       "      <td>1963</td>\n",
       "      <td>M</td>\n",
       "      <td>1</td>\n",
       "      <td>120</td>\n",
       "      <td>236</td>\n",
       "      <td>0</td>\n",
       "      <td>1</td>\n",
       "      <td>178</td>\n",
       "      <td>0</td>\n",
       "      <td>0.8</td>\n",
       "      <td>2</td>\n",
       "      <td>0</td>\n",
       "      <td>2</td>\n",
       "      <td>1</td>\n",
       "    </tr>\n",
       "    <tr>\n",
       "      <th>4</th>\n",
       "      <td>1962</td>\n",
       "      <td>F</td>\n",
       "      <td>0</td>\n",
       "      <td>120</td>\n",
       "      <td>354</td>\n",
       "      <td>0</td>\n",
       "      <td>1</td>\n",
       "      <td>163</td>\n",
       "      <td>1</td>\n",
       "      <td>0.6</td>\n",
       "      <td>2</td>\n",
       "      <td>0</td>\n",
       "      <td>2</td>\n",
       "      <td>1</td>\n",
       "    </tr>\n",
       "    <tr>\n",
       "      <th>...</th>\n",
       "      <td>...</td>\n",
       "      <td>...</td>\n",
       "      <td>...</td>\n",
       "      <td>...</td>\n",
       "      <td>...</td>\n",
       "      <td>...</td>\n",
       "      <td>...</td>\n",
       "      <td>...</td>\n",
       "      <td>...</td>\n",
       "      <td>...</td>\n",
       "      <td>...</td>\n",
       "      <td>...</td>\n",
       "      <td>...</td>\n",
       "      <td>...</td>\n",
       "    </tr>\n",
       "    <tr>\n",
       "      <th>298</th>\n",
       "      <td>1962</td>\n",
       "      <td>F</td>\n",
       "      <td>0</td>\n",
       "      <td>140</td>\n",
       "      <td>241</td>\n",
       "      <td>0</td>\n",
       "      <td>1</td>\n",
       "      <td>123</td>\n",
       "      <td>1</td>\n",
       "      <td>0.2</td>\n",
       "      <td>1</td>\n",
       "      <td>0</td>\n",
       "      <td>3</td>\n",
       "      <td>0</td>\n",
       "    </tr>\n",
       "    <tr>\n",
       "      <th>299</th>\n",
       "      <td>1974</td>\n",
       "      <td>M</td>\n",
       "      <td>3</td>\n",
       "      <td>110</td>\n",
       "      <td>264</td>\n",
       "      <td>0</td>\n",
       "      <td>1</td>\n",
       "      <td>132</td>\n",
       "      <td>0</td>\n",
       "      <td>1.2</td>\n",
       "      <td>1</td>\n",
       "      <td>0</td>\n",
       "      <td>3</td>\n",
       "      <td>0</td>\n",
       "    </tr>\n",
       "    <tr>\n",
       "      <th>300</th>\n",
       "      <td>1951</td>\n",
       "      <td>M</td>\n",
       "      <td>0</td>\n",
       "      <td>144</td>\n",
       "      <td>193</td>\n",
       "      <td>1</td>\n",
       "      <td>1</td>\n",
       "      <td>141</td>\n",
       "      <td>0</td>\n",
       "      <td>3.4</td>\n",
       "      <td>1</td>\n",
       "      <td>2</td>\n",
       "      <td>3</td>\n",
       "      <td>0</td>\n",
       "    </tr>\n",
       "    <tr>\n",
       "      <th>301</th>\n",
       "      <td>1962</td>\n",
       "      <td>M</td>\n",
       "      <td>0</td>\n",
       "      <td>130</td>\n",
       "      <td>131</td>\n",
       "      <td>0</td>\n",
       "      <td>1</td>\n",
       "      <td>115</td>\n",
       "      <td>1</td>\n",
       "      <td>1.2</td>\n",
       "      <td>1</td>\n",
       "      <td>1</td>\n",
       "      <td>3</td>\n",
       "      <td>0</td>\n",
       "    </tr>\n",
       "    <tr>\n",
       "      <th>302</th>\n",
       "      <td>1962</td>\n",
       "      <td>F</td>\n",
       "      <td>1</td>\n",
       "      <td>130</td>\n",
       "      <td>236</td>\n",
       "      <td>0</td>\n",
       "      <td>0</td>\n",
       "      <td>174</td>\n",
       "      <td>0</td>\n",
       "      <td>0.0</td>\n",
       "      <td>1</td>\n",
       "      <td>1</td>\n",
       "      <td>2</td>\n",
       "      <td>0</td>\n",
       "    </tr>\n",
       "  </tbody>\n",
       "</table>\n",
       "<p>303 rows × 14 columns</p>\n",
       "</div>"
      ],
      "text/plain": [
       "     birth_year sex  cp  trestbps  chol  fbs  restecg  thalach  exang  \\\n",
       "0          1956   M   3       145   233    1        0      150      0   \n",
       "1          1982   M   2       130   250    0        1      187      0   \n",
       "2          1978   F   1       130   204    0        0      172      0   \n",
       "3          1963   M   1       120   236    0        1      178      0   \n",
       "4          1962   F   0       120   354    0        1      163      1   \n",
       "..          ...  ..  ..       ...   ...  ...      ...      ...    ...   \n",
       "298        1962   F   0       140   241    0        1      123      1   \n",
       "299        1974   M   3       110   264    0        1      132      0   \n",
       "300        1951   M   0       144   193    1        1      141      0   \n",
       "301        1962   M   0       130   131    0        1      115      1   \n",
       "302        1962   F   1       130   236    0        0      174      0   \n",
       "\n",
       "     oldpeak  slope  ca  thal  target  \n",
       "0        2.3      0   0     1       1  \n",
       "1        3.5      0   0     2       1  \n",
       "2        1.4      2   0     2       1  \n",
       "3        0.8      2   0     2       1  \n",
       "4        0.6      2   0     2       1  \n",
       "..       ...    ...  ..   ...     ...  \n",
       "298      0.2      1   0     3       0  \n",
       "299      1.2      1   0     3       0  \n",
       "300      3.4      1   2     3       0  \n",
       "301      1.2      1   1     3       0  \n",
       "302      0.0      1   1     2       0  \n",
       "\n",
       "[303 rows x 14 columns]"
      ]
     },
     "execution_count": 24,
     "metadata": {},
     "output_type": "execute_result"
    }
   ],
   "source": [
    "data"
   ]
  },
  {
   "cell_type": "markdown",
   "id": "3808cf26",
   "metadata": {},
   "source": [
    "# 2. 데이터 살펴보기\n",
    "\n",
    "아래는 데이터를 받으면 먼저 확인해야할 것입니다.\n",
    "\n",
    "1. 컬럼 별 데이터의 형태 (Type)\n",
    "2. 데이터 개수 (Shape)\n",
    "3. 데이터 결측치 (Missing Value) \n",
    "4. 데이터 통계값 (Statistics)\n",
    "5. 데이터의 분포 (Distribution)\n",
    "6. 데이터의 예외값 (Outlier)\n",
    "\n",
    "## 2-1 컬럼 설명 by kaggle\n",
    "\n",
    "\n",
    "> `birth_year`: 출생년도 <br>\n",
    "> `sex`: 성별(M = 남성, F = 여성)<br>\n",
    "> `cp`: 흉통(1=전형적인 협심증, 2= 비전형 협심증, 3=비혈관통증, 4=무증상)<br>\n",
    "> `trestbps`: 안정시 혈압<br>\n",
    "> `chol`: 혈청 콜레스테롤(mg/dl)<br>\n",
    "> `fbs`: 공복 혈당. 혈당이 120보다 큰 경우 1, 120 이하 0<br>\n",
    "> `restecg`: 안정시 심전도 결과(0=정상, 1=ST-T파 이상, 2=좌심실 비대)<br>\n",
    "> `thalach`: 최대 심박수<br>\n",
    "> `exang`: 운동 유발 협심증(1=있다, 0=없다)<br>\n",
    "> `oldpeak`: 휴식에 비해 운동으로 유발된 ST 우울증<br>\n",
    "> `slope`: 피크 운동 ST 세그먼트 기울기(1=상승, 2=평평함, 3=하향 경사)<br>\n",
    "> `ca`: 플로로소피로 착색된 주요 혈관의 수<br>\n",
    "> `thal`:(3 = 정상, 6 = 고정된 결함, 7 = 가역적인 결함)<br>\n",
    "> `target`: 심장병 유무 (1=있다, 0=없다)<br>\n"
   ]
  },
  {
   "cell_type": "markdown",
   "id": "d5a98a38",
   "metadata": {},
   "source": [
    "## 2-2 데이터 대략적으로 이해하기"
   ]
  },
  {
   "cell_type": "code",
   "execution_count": 25,
   "id": "a9d6e0d1",
   "metadata": {
    "scrolled": true
   },
   "outputs": [
    {
     "data": {
      "text/html": [
       "<div>\n",
       "<style scoped>\n",
       "    .dataframe tbody tr th:only-of-type {\n",
       "        vertical-align: middle;\n",
       "    }\n",
       "\n",
       "    .dataframe tbody tr th {\n",
       "        vertical-align: top;\n",
       "    }\n",
       "\n",
       "    .dataframe thead th {\n",
       "        text-align: right;\n",
       "    }\n",
       "</style>\n",
       "<table border=\"1\" class=\"dataframe\">\n",
       "  <thead>\n",
       "    <tr style=\"text-align: right;\">\n",
       "      <th></th>\n",
       "      <th>birth_year</th>\n",
       "      <th>sex</th>\n",
       "      <th>cp</th>\n",
       "      <th>trestbps</th>\n",
       "      <th>chol</th>\n",
       "      <th>fbs</th>\n",
       "      <th>restecg</th>\n",
       "      <th>thalach</th>\n",
       "      <th>exang</th>\n",
       "      <th>oldpeak</th>\n",
       "      <th>slope</th>\n",
       "      <th>ca</th>\n",
       "      <th>thal</th>\n",
       "      <th>target</th>\n",
       "    </tr>\n",
       "  </thead>\n",
       "  <tbody>\n",
       "    <tr>\n",
       "      <th>298</th>\n",
       "      <td>1962</td>\n",
       "      <td>F</td>\n",
       "      <td>0</td>\n",
       "      <td>140</td>\n",
       "      <td>241</td>\n",
       "      <td>0</td>\n",
       "      <td>1</td>\n",
       "      <td>123</td>\n",
       "      <td>1</td>\n",
       "      <td>0.2</td>\n",
       "      <td>1</td>\n",
       "      <td>0</td>\n",
       "      <td>3</td>\n",
       "      <td>0</td>\n",
       "    </tr>\n",
       "    <tr>\n",
       "      <th>299</th>\n",
       "      <td>1974</td>\n",
       "      <td>M</td>\n",
       "      <td>3</td>\n",
       "      <td>110</td>\n",
       "      <td>264</td>\n",
       "      <td>0</td>\n",
       "      <td>1</td>\n",
       "      <td>132</td>\n",
       "      <td>0</td>\n",
       "      <td>1.2</td>\n",
       "      <td>1</td>\n",
       "      <td>0</td>\n",
       "      <td>3</td>\n",
       "      <td>0</td>\n",
       "    </tr>\n",
       "    <tr>\n",
       "      <th>300</th>\n",
       "      <td>1951</td>\n",
       "      <td>M</td>\n",
       "      <td>0</td>\n",
       "      <td>144</td>\n",
       "      <td>193</td>\n",
       "      <td>1</td>\n",
       "      <td>1</td>\n",
       "      <td>141</td>\n",
       "      <td>0</td>\n",
       "      <td>3.4</td>\n",
       "      <td>1</td>\n",
       "      <td>2</td>\n",
       "      <td>3</td>\n",
       "      <td>0</td>\n",
       "    </tr>\n",
       "    <tr>\n",
       "      <th>301</th>\n",
       "      <td>1962</td>\n",
       "      <td>M</td>\n",
       "      <td>0</td>\n",
       "      <td>130</td>\n",
       "      <td>131</td>\n",
       "      <td>0</td>\n",
       "      <td>1</td>\n",
       "      <td>115</td>\n",
       "      <td>1</td>\n",
       "      <td>1.2</td>\n",
       "      <td>1</td>\n",
       "      <td>1</td>\n",
       "      <td>3</td>\n",
       "      <td>0</td>\n",
       "    </tr>\n",
       "    <tr>\n",
       "      <th>302</th>\n",
       "      <td>1962</td>\n",
       "      <td>F</td>\n",
       "      <td>1</td>\n",
       "      <td>130</td>\n",
       "      <td>236</td>\n",
       "      <td>0</td>\n",
       "      <td>0</td>\n",
       "      <td>174</td>\n",
       "      <td>0</td>\n",
       "      <td>0.0</td>\n",
       "      <td>1</td>\n",
       "      <td>1</td>\n",
       "      <td>2</td>\n",
       "      <td>0</td>\n",
       "    </tr>\n",
       "  </tbody>\n",
       "</table>\n",
       "</div>"
      ],
      "text/plain": [
       "     birth_year sex  cp  trestbps  chol  fbs  restecg  thalach  exang  \\\n",
       "298        1962   F   0       140   241    0        1      123      1   \n",
       "299        1974   M   3       110   264    0        1      132      0   \n",
       "300        1951   M   0       144   193    1        1      141      0   \n",
       "301        1962   M   0       130   131    0        1      115      1   \n",
       "302        1962   F   1       130   236    0        0      174      0   \n",
       "\n",
       "     oldpeak  slope  ca  thal  target  \n",
       "298      0.2      1   0     3       0  \n",
       "299      1.2      1   0     3       0  \n",
       "300      3.4      1   2     3       0  \n",
       "301      1.2      1   1     3       0  \n",
       "302      0.0      1   1     2       0  "
      ]
     },
     "execution_count": 25,
     "metadata": {},
     "output_type": "execute_result"
    }
   ],
   "source": [
    "data.tail()"
   ]
  },
  {
   "cell_type": "code",
   "execution_count": 26,
   "id": "ae3c3ade",
   "metadata": {},
   "outputs": [
    {
     "name": "stdout",
     "output_type": "stream",
     "text": [
      "<class 'pandas.core.frame.DataFrame'>\n",
      "RangeIndex: 303 entries, 0 to 302\n",
      "Data columns (total 14 columns):\n",
      " #   Column      Non-Null Count  Dtype  \n",
      "---  ------      --------------  -----  \n",
      " 0   birth_year  303 non-null    int64  \n",
      " 1   sex         303 non-null    object \n",
      " 2   cp          303 non-null    int64  \n",
      " 3   trestbps    303 non-null    int64  \n",
      " 4   chol        303 non-null    int64  \n",
      " 5   fbs         303 non-null    int64  \n",
      " 6   restecg     303 non-null    int64  \n",
      " 7   thalach     303 non-null    int64  \n",
      " 8   exang       303 non-null    int64  \n",
      " 9   oldpeak     303 non-null    float64\n",
      " 10  slope       303 non-null    int64  \n",
      " 11  ca          303 non-null    int64  \n",
      " 12  thal        303 non-null    int64  \n",
      " 13  target      303 non-null    int64  \n",
      "dtypes: float64(1), int64(12), object(1)\n",
      "memory usage: 33.3+ KB\n"
     ]
    }
   ],
   "source": [
    "# 데이터의 전반적인 형태 체크\n",
    "data.info()"
   ]
  },
  {
   "cell_type": "code",
   "execution_count": 31,
   "id": "8fa7b05b",
   "metadata": {},
   "outputs": [
    {
     "data": {
      "text/html": [
       "<div>\n",
       "<style scoped>\n",
       "    .dataframe tbody tr th:only-of-type {\n",
       "        vertical-align: middle;\n",
       "    }\n",
       "\n",
       "    .dataframe tbody tr th {\n",
       "        vertical-align: top;\n",
       "    }\n",
       "\n",
       "    .dataframe thead th {\n",
       "        text-align: right;\n",
       "    }\n",
       "</style>\n",
       "<table border=\"1\" class=\"dataframe\">\n",
       "  <thead>\n",
       "    <tr style=\"text-align: right;\">\n",
       "      <th></th>\n",
       "      <th>count</th>\n",
       "      <th>mean</th>\n",
       "      <th>std</th>\n",
       "      <th>min</th>\n",
       "      <th>25%</th>\n",
       "      <th>50%</th>\n",
       "      <th>75%</th>\n",
       "      <th>max</th>\n",
       "    </tr>\n",
       "  </thead>\n",
       "  <tbody>\n",
       "    <tr>\n",
       "      <th>birth_year</th>\n",
       "      <td>303.0</td>\n",
       "      <td>1964.633663</td>\n",
       "      <td>9.082101</td>\n",
       "      <td>1942.0</td>\n",
       "      <td>1958.0</td>\n",
       "      <td>1964.0</td>\n",
       "      <td>1971.5</td>\n",
       "      <td>1990.0</td>\n",
       "    </tr>\n",
       "    <tr>\n",
       "      <th>cp</th>\n",
       "      <td>303.0</td>\n",
       "      <td>0.966997</td>\n",
       "      <td>1.032052</td>\n",
       "      <td>0.0</td>\n",
       "      <td>0.0</td>\n",
       "      <td>1.0</td>\n",
       "      <td>2.0</td>\n",
       "      <td>3.0</td>\n",
       "    </tr>\n",
       "    <tr>\n",
       "      <th>trestbps</th>\n",
       "      <td>303.0</td>\n",
       "      <td>131.623762</td>\n",
       "      <td>17.538143</td>\n",
       "      <td>94.0</td>\n",
       "      <td>120.0</td>\n",
       "      <td>130.0</td>\n",
       "      <td>140.0</td>\n",
       "      <td>200.0</td>\n",
       "    </tr>\n",
       "    <tr>\n",
       "      <th>chol</th>\n",
       "      <td>303.0</td>\n",
       "      <td>246.264026</td>\n",
       "      <td>51.830751</td>\n",
       "      <td>126.0</td>\n",
       "      <td>211.0</td>\n",
       "      <td>240.0</td>\n",
       "      <td>274.5</td>\n",
       "      <td>564.0</td>\n",
       "    </tr>\n",
       "    <tr>\n",
       "      <th>fbs</th>\n",
       "      <td>303.0</td>\n",
       "      <td>0.148515</td>\n",
       "      <td>0.356198</td>\n",
       "      <td>0.0</td>\n",
       "      <td>0.0</td>\n",
       "      <td>0.0</td>\n",
       "      <td>0.0</td>\n",
       "      <td>1.0</td>\n",
       "    </tr>\n",
       "    <tr>\n",
       "      <th>restecg</th>\n",
       "      <td>303.0</td>\n",
       "      <td>0.528053</td>\n",
       "      <td>0.525860</td>\n",
       "      <td>0.0</td>\n",
       "      <td>0.0</td>\n",
       "      <td>1.0</td>\n",
       "      <td>1.0</td>\n",
       "      <td>2.0</td>\n",
       "    </tr>\n",
       "    <tr>\n",
       "      <th>thalach</th>\n",
       "      <td>303.0</td>\n",
       "      <td>149.646865</td>\n",
       "      <td>22.905161</td>\n",
       "      <td>71.0</td>\n",
       "      <td>133.5</td>\n",
       "      <td>153.0</td>\n",
       "      <td>166.0</td>\n",
       "      <td>202.0</td>\n",
       "    </tr>\n",
       "    <tr>\n",
       "      <th>exang</th>\n",
       "      <td>303.0</td>\n",
       "      <td>0.326733</td>\n",
       "      <td>0.469794</td>\n",
       "      <td>0.0</td>\n",
       "      <td>0.0</td>\n",
       "      <td>0.0</td>\n",
       "      <td>1.0</td>\n",
       "      <td>1.0</td>\n",
       "    </tr>\n",
       "    <tr>\n",
       "      <th>oldpeak</th>\n",
       "      <td>303.0</td>\n",
       "      <td>1.039604</td>\n",
       "      <td>1.161075</td>\n",
       "      <td>0.0</td>\n",
       "      <td>0.0</td>\n",
       "      <td>0.8</td>\n",
       "      <td>1.6</td>\n",
       "      <td>6.2</td>\n",
       "    </tr>\n",
       "    <tr>\n",
       "      <th>slope</th>\n",
       "      <td>303.0</td>\n",
       "      <td>1.399340</td>\n",
       "      <td>0.616226</td>\n",
       "      <td>0.0</td>\n",
       "      <td>1.0</td>\n",
       "      <td>1.0</td>\n",
       "      <td>2.0</td>\n",
       "      <td>2.0</td>\n",
       "    </tr>\n",
       "    <tr>\n",
       "      <th>ca</th>\n",
       "      <td>303.0</td>\n",
       "      <td>0.729373</td>\n",
       "      <td>1.022606</td>\n",
       "      <td>0.0</td>\n",
       "      <td>0.0</td>\n",
       "      <td>0.0</td>\n",
       "      <td>1.0</td>\n",
       "      <td>4.0</td>\n",
       "    </tr>\n",
       "    <tr>\n",
       "      <th>thal</th>\n",
       "      <td>303.0</td>\n",
       "      <td>2.313531</td>\n",
       "      <td>0.612277</td>\n",
       "      <td>0.0</td>\n",
       "      <td>2.0</td>\n",
       "      <td>2.0</td>\n",
       "      <td>3.0</td>\n",
       "      <td>3.0</td>\n",
       "    </tr>\n",
       "    <tr>\n",
       "      <th>target</th>\n",
       "      <td>303.0</td>\n",
       "      <td>0.544554</td>\n",
       "      <td>0.498835</td>\n",
       "      <td>0.0</td>\n",
       "      <td>0.0</td>\n",
       "      <td>1.0</td>\n",
       "      <td>1.0</td>\n",
       "      <td>1.0</td>\n",
       "    </tr>\n",
       "  </tbody>\n",
       "</table>\n",
       "</div>"
      ],
      "text/plain": [
       "            count         mean        std     min     25%     50%     75%  \\\n",
       "birth_year  303.0  1964.633663   9.082101  1942.0  1958.0  1964.0  1971.5   \n",
       "cp          303.0     0.966997   1.032052     0.0     0.0     1.0     2.0   \n",
       "trestbps    303.0   131.623762  17.538143    94.0   120.0   130.0   140.0   \n",
       "chol        303.0   246.264026  51.830751   126.0   211.0   240.0   274.5   \n",
       "fbs         303.0     0.148515   0.356198     0.0     0.0     0.0     0.0   \n",
       "restecg     303.0     0.528053   0.525860     0.0     0.0     1.0     1.0   \n",
       "thalach     303.0   149.646865  22.905161    71.0   133.5   153.0   166.0   \n",
       "exang       303.0     0.326733   0.469794     0.0     0.0     0.0     1.0   \n",
       "oldpeak     303.0     1.039604   1.161075     0.0     0.0     0.8     1.6   \n",
       "slope       303.0     1.399340   0.616226     0.0     1.0     1.0     2.0   \n",
       "ca          303.0     0.729373   1.022606     0.0     0.0     0.0     1.0   \n",
       "thal        303.0     2.313531   0.612277     0.0     2.0     2.0     3.0   \n",
       "target      303.0     0.544554   0.498835     0.0     0.0     1.0     1.0   \n",
       "\n",
       "               max  \n",
       "birth_year  1990.0  \n",
       "cp             3.0  \n",
       "trestbps     200.0  \n",
       "chol         564.0  \n",
       "fbs            1.0  \n",
       "restecg        2.0  \n",
       "thalach      202.0  \n",
       "exang          1.0  \n",
       "oldpeak        6.2  \n",
       "slope          2.0  \n",
       "ca             4.0  \n",
       "thal           3.0  \n",
       "target         1.0  "
      ]
     },
     "execution_count": 31,
     "metadata": {},
     "output_type": "execute_result"
    }
   ],
   "source": [
    "data.describe().T"
   ]
  },
  {
   "cell_type": "code",
   "execution_count": 28,
   "id": "f400e96a",
   "metadata": {
    "scrolled": true
   },
   "outputs": [
    {
     "data": {
      "text/plain": [
       "birth_year    0\n",
       "sex           0\n",
       "cp            0\n",
       "trestbps      0\n",
       "chol          0\n",
       "fbs           0\n",
       "restecg       0\n",
       "thalach       0\n",
       "exang         0\n",
       "oldpeak       0\n",
       "slope         0\n",
       "ca            0\n",
       "thal          0\n",
       "target        0\n",
       "dtype: int64"
      ]
     },
     "execution_count": 28,
     "metadata": {},
     "output_type": "execute_result"
    }
   ],
   "source": [
    "# 결측값 확인\n",
    "data.isna().sum()"
   ]
  },
  {
   "cell_type": "markdown",
   "id": "e68c0cf4",
   "metadata": {},
   "source": [
    "## 2-3 categorical columns"
   ]
  },
  {
   "cell_type": "code",
   "execution_count": 32,
   "id": "d09e6c2c",
   "metadata": {},
   "outputs": [
    {
     "data": {
      "text/plain": [
       "1    165\n",
       "0    138\n",
       "Name: target, dtype: int64"
      ]
     },
     "execution_count": 32,
     "metadata": {},
     "output_type": "execute_result"
    }
   ],
   "source": [
    "# target 값 확인\n",
    "data['target'].value_counts()"
   ]
  },
  {
   "cell_type": "code",
   "execution_count": 33,
   "id": "9945d184",
   "metadata": {},
   "outputs": [
    {
     "data": {
      "text/plain": [
       "M    207\n",
       "F     96\n",
       "Name: sex, dtype: int64"
      ]
     },
     "execution_count": 33,
     "metadata": {},
     "output_type": "execute_result"
    }
   ],
   "source": [
    "#성별 sex\n",
    "data['sex'].value_counts()"
   ]
  },
  {
   "cell_type": "code",
   "execution_count": 34,
   "id": "fe27ae61",
   "metadata": {
    "scrolled": true
   },
   "outputs": [
    {
     "data": {
      "text/plain": [
       "0    143\n",
       "2     87\n",
       "1     50\n",
       "3     23\n",
       "Name: cp, dtype: int64"
      ]
     },
     "execution_count": 34,
     "metadata": {},
     "output_type": "execute_result"
    }
   ],
   "source": [
    "# 흉통 cp\n",
    "data['cp'].value_counts()"
   ]
  },
  {
   "cell_type": "code",
   "execution_count": 35,
   "id": "4d5f99a3",
   "metadata": {},
   "outputs": [
    {
     "data": {
      "text/plain": [
       "0    258\n",
       "1     45\n",
       "Name: fbs, dtype: int64"
      ]
     },
     "execution_count": 35,
     "metadata": {},
     "output_type": "execute_result"
    }
   ],
   "source": [
    "#공복혈당 fbs \n",
    "data['fbs'].value_counts()"
   ]
  },
  {
   "cell_type": "code",
   "execution_count": 36,
   "id": "8684a6eb",
   "metadata": {},
   "outputs": [
    {
     "data": {
      "text/plain": [
       "1    152\n",
       "0    147\n",
       "2      4\n",
       "Name: restecg, dtype: int64"
      ]
     },
     "execution_count": 36,
     "metadata": {},
     "output_type": "execute_result"
    }
   ],
   "source": [
    "#안정시 심전도 결과 restecg\n",
    "data['restecg'].value_counts()"
   ]
  },
  {
   "cell_type": "code",
   "execution_count": 37,
   "id": "f46d4f3c",
   "metadata": {},
   "outputs": [
    {
     "data": {
      "text/plain": [
       "0    175\n",
       "1     65\n",
       "2     38\n",
       "3     20\n",
       "4      5\n",
       "Name: ca, dtype: int64"
      ]
     },
     "execution_count": 37,
     "metadata": {},
     "output_type": "execute_result"
    }
   ],
   "source": [
    "#플로로소피로 착색된 주요 혈관의 수 ca\n",
    "data['ca'].value_counts()"
   ]
  },
  {
   "cell_type": "markdown",
   "id": "dc4a768f",
   "metadata": {},
   "source": [
    "## 2-4 시각화 package 소개\n",
    "- matplotlib\n",
    "\n",
    "> 가장 기본이 되는 패키지입니다. <br>\n",
    "> 다른 시각화 라이브러리를 사용하더라도 내부적으로는 matplotlibrary를 사용해서 그려집니다.<br>\n",
    "> 그리려는 plot에 한글이 포함된 경우 글자가 깨지는 문제점이 있습니다.<br>\n",
    "> 주피터 노트북 시작시 한글 폰트를 한번만 지정해주면 해결할 수 있습니다.<br>\n",
    "> 그려진 plot을 바탕화면으로 드래그 하면 쉽게 이미지로 저장할 수 있습니다.<br>\n",
    "> line, scatter, 컨투어, 서피트, bar chart, histogram 등 그릴 수 있습니다<br>\n",
    "\n",
    "- seaborn\n",
    "\n",
    "> 자동 집계 기능이 있어서 편리하게 시각화를 할 수 있습니다.<br>\n",
    "> palette 기능을 통해 쉽게 원하는 색 조합을 적용할 수 있습니다.<br>\n",
    "> palette: https://seaborn.pydata.org/tutorial/color_palettes.html"
   ]
  },
  {
   "cell_type": "code",
   "execution_count": 38,
   "id": "db119e04",
   "metadata": {},
   "outputs": [],
   "source": [
    "import matplotlib.pyplot as plt\n",
    "import seaborn as sns"
   ]
  },
  {
   "cell_type": "code",
   "execution_count": 39,
   "id": "3ec43c21",
   "metadata": {},
   "outputs": [],
   "source": [
    "from matplotlib import font_manager, rc\n",
    "font_path = \"C:/Windows/Fonts/malgunsl.TTF\"\n",
    "font = font_manager.FontProperties(fname=font_path).get_name()\n",
    "rc('font', family=font)"
   ]
  },
  {
   "cell_type": "markdown",
   "id": "7d3ea16f",
   "metadata": {},
   "source": [
    "## 2-5 앞서 살펴본 자료 시각화\n",
    "### catagorical data"
   ]
  },
  {
   "cell_type": "code",
   "execution_count": 41,
   "id": "003980f8",
   "metadata": {
    "scrolled": false
   },
   "outputs": [
    {
     "data": {
      "image/png": "[encoded data removed]",
      "text/plain": [
       "<Figure size 1400x1000 with 1 Axes>"
      ]
     },
     "metadata": {
      "needs_background": "light"
     },
     "output_type": "display_data"
    }
   ],
   "source": [
    "plt.figure(figsize=(7,5), dpi=200)\n",
    "sns.countplot(data=data, x='sex')\n",
    "plt.show()"
   ]
  },
  {
   "cell_type": "code",
   "execution_count": 42,
   "id": "6d9d6604",
   "metadata": {},
   "outputs": [
    {
     "data": {
      "image/png": "[encoded data removed]",
      "text/plain": [
       "<Figure size 1800x1000 with 8 Axes>"
      ]
     },
     "metadata": {
      "needs_background": "light"
     },
     "output_type": "display_data"
    }
   ],
   "source": [
    "#한번에 그리는 방법\n",
    "\n",
    "col_list = ['sex','cp','fbs','restecg','exang','ca','thal','target']\n",
    "\n",
    "fig, ax = plt.subplots(2,4, figsize=(18,10), dpi=100) \n",
    "for col, ax in zip(col_list, ax.flatten()):\n",
    "    sns.countplot(data=data, y=col, ax=ax) \n",
    "    ax.set_title(col, fontweight='bold')\n",
    "fig.tight_layout() \n",
    "plt.show()"
   ]
  },
  {
   "cell_type": "code",
   "execution_count": 51,
   "id": "6012badf",
   "metadata": {},
   "outputs": [
    {
     "data": {
      "image/png": "[encoded data removed]",
      "text/plain": [
       "<Figure size 864x288 with 1 Axes>"
      ]
     },
     "metadata": {
      "needs_background": "light"
     },
     "output_type": "display_data"
    }
   ],
   "source": [
    "plt.figure(figsize=(12,4))\n",
    "sns.countplot(data=data, x='birth_year')\n",
    "plt.xticks(rotation=0)\n",
    "plt.show()"
   ]
  },
  {
   "cell_type": "code",
   "execution_count": 391,
   "id": "a4319a08",
   "metadata": {},
   "outputs": [
    {
     "data": {
      "image/png": "[encoded data removed]",
      "text/plain": [
       "<Figure size 1800x1000 with 8 Axes>"
      ]
     },
     "metadata": {
      "needs_background": "light"
     },
     "output_type": "display_data"
    }
   ],
   "source": [
    "fig, ax = plt.subplots(2,4, figsize=(18,10), dpi=100) \n",
    "for col, ax in zip(col_list, ax.flatten()):\n",
    "    tmp_cnt = data[col].value_counts().sort_index()\n",
    "    ax.bar(tmp_cnt.index,tmp_cnt) \n",
    "    ax.set_title(col, fontweight='bold')\n",
    "fig.tight_layout() \n",
    "plt.show()\n",
    "\n"
   ]
  },
  {
   "cell_type": "markdown",
   "id": "f1c3128d",
   "metadata": {},
   "source": [
    "### continuous data"
   ]
  },
  {
   "cell_type": "code",
   "execution_count": 33,
   "id": "1c7dd5a0",
   "metadata": {},
   "outputs": [
    {
     "data": {
      "text/html": [
       "<div>\n",
       "<style scoped>\n",
       "    .dataframe tbody tr th:only-of-type {\n",
       "        vertical-align: middle;\n",
       "    }\n",
       "\n",
       "    .dataframe tbody tr th {\n",
       "        vertical-align: top;\n",
       "    }\n",
       "\n",
       "    .dataframe thead th {\n",
       "        text-align: right;\n",
       "    }\n",
       "</style>\n",
       "<table border=\"1\" class=\"dataframe\">\n",
       "  <thead>\n",
       "    <tr style=\"text-align: right;\">\n",
       "      <th></th>\n",
       "      <th>birth_year</th>\n",
       "      <th>sex</th>\n",
       "      <th>cp</th>\n",
       "      <th>trestbps</th>\n",
       "      <th>chol</th>\n",
       "      <th>fbs</th>\n",
       "      <th>restecg</th>\n",
       "      <th>thalach</th>\n",
       "      <th>exang</th>\n",
       "      <th>oldpeak</th>\n",
       "      <th>slope</th>\n",
       "      <th>ca</th>\n",
       "      <th>thal</th>\n",
       "      <th>target</th>\n",
       "    </tr>\n",
       "  </thead>\n",
       "  <tbody>\n",
       "    <tr>\n",
       "      <th>0</th>\n",
       "      <td>1956</td>\n",
       "      <td>M</td>\n",
       "      <td>3</td>\n",
       "      <td>145</td>\n",
       "      <td>233</td>\n",
       "      <td>1</td>\n",
       "      <td>0</td>\n",
       "      <td>150</td>\n",
       "      <td>0</td>\n",
       "      <td>2.3</td>\n",
       "      <td>0</td>\n",
       "      <td>0</td>\n",
       "      <td>1</td>\n",
       "      <td>1</td>\n",
       "    </tr>\n",
       "    <tr>\n",
       "      <th>1</th>\n",
       "      <td>1982</td>\n",
       "      <td>M</td>\n",
       "      <td>2</td>\n",
       "      <td>130</td>\n",
       "      <td>250</td>\n",
       "      <td>0</td>\n",
       "      <td>1</td>\n",
       "      <td>187</td>\n",
       "      <td>0</td>\n",
       "      <td>3.5</td>\n",
       "      <td>0</td>\n",
       "      <td>0</td>\n",
       "      <td>2</td>\n",
       "      <td>1</td>\n",
       "    </tr>\n",
       "    <tr>\n",
       "      <th>2</th>\n",
       "      <td>1978</td>\n",
       "      <td>F</td>\n",
       "      <td>1</td>\n",
       "      <td>130</td>\n",
       "      <td>204</td>\n",
       "      <td>0</td>\n",
       "      <td>0</td>\n",
       "      <td>172</td>\n",
       "      <td>0</td>\n",
       "      <td>1.4</td>\n",
       "      <td>2</td>\n",
       "      <td>0</td>\n",
       "      <td>2</td>\n",
       "      <td>1</td>\n",
       "    </tr>\n",
       "    <tr>\n",
       "      <th>3</th>\n",
       "      <td>1963</td>\n",
       "      <td>M</td>\n",
       "      <td>1</td>\n",
       "      <td>120</td>\n",
       "      <td>236</td>\n",
       "      <td>0</td>\n",
       "      <td>1</td>\n",
       "      <td>178</td>\n",
       "      <td>0</td>\n",
       "      <td>0.8</td>\n",
       "      <td>2</td>\n",
       "      <td>0</td>\n",
       "      <td>2</td>\n",
       "      <td>1</td>\n",
       "    </tr>\n",
       "    <tr>\n",
       "      <th>4</th>\n",
       "      <td>1962</td>\n",
       "      <td>F</td>\n",
       "      <td>0</td>\n",
       "      <td>120</td>\n",
       "      <td>354</td>\n",
       "      <td>0</td>\n",
       "      <td>1</td>\n",
       "      <td>163</td>\n",
       "      <td>1</td>\n",
       "      <td>0.6</td>\n",
       "      <td>2</td>\n",
       "      <td>0</td>\n",
       "      <td>2</td>\n",
       "      <td>1</td>\n",
       "    </tr>\n",
       "  </tbody>\n",
       "</table>\n",
       "</div>"
      ],
      "text/plain": [
       "   birth_year sex  cp  trestbps  chol  fbs  restecg  thalach  exang  oldpeak  \\\n",
       "0        1956   M   3       145   233    1        0      150      0      2.3   \n",
       "1        1982   M   2       130   250    0        1      187      0      3.5   \n",
       "2        1978   F   1       130   204    0        0      172      0      1.4   \n",
       "3        1963   M   1       120   236    0        1      178      0      0.8   \n",
       "4        1962   F   0       120   354    0        1      163      1      0.6   \n",
       "\n",
       "   slope  ca  thal  target  \n",
       "0      0   0     1       1  \n",
       "1      0   0     2       1  \n",
       "2      2   0     2       1  \n",
       "3      2   0     2       1  \n",
       "4      2   0     2       1  "
      ]
     },
     "execution_count": 33,
     "metadata": {},
     "output_type": "execute_result"
    }
   ],
   "source": [
    "data.head()"
   ]
  },
  {
   "cell_type": "code",
   "execution_count": 47,
   "id": "0304675e",
   "metadata": {},
   "outputs": [
    {
     "data": {
      "image/png": "[encoded data removed]",
      "text/plain": [
       "<Figure size 720x288 with 1 Axes>"
      ]
     },
     "metadata": {
      "needs_background": "light"
     },
     "output_type": "display_data"
    }
   ],
   "source": [
    "# 'birth_year', 'target' 'kdeplot'\n",
    "plt.figure(figsize=(10,4))\n",
    "sns.kdeplot(data=data, x='birth_year', hue='target')\n",
    "plt.show()"
   ]
  },
  {
   "cell_type": "code",
   "execution_count": 57,
   "id": "1584456d",
   "metadata": {},
   "outputs": [
    {
     "data": {
      "image/png": "[encoded data removed]",
      "text/plain": [
       "<Figure size 720x288 with 1 Axes>"
      ]
     },
     "metadata": {
      "needs_background": "light"
     },
     "output_type": "display_data"
    }
   ],
   "source": [
    "plt.figure(figsize=(10,4))\n",
    "sns.kdeplot(data=data, x='birth_year', hue='target', bw=0.1) # bw = 보정률\n",
    "plt.show()"
   ]
  },
  {
   "cell_type": "code",
   "execution_count": 48,
   "id": "906c52e4",
   "metadata": {
    "scrolled": true
   },
   "outputs": [
    {
     "data": {
      "image/png": "[encoded data removed]",
      "text/plain": [
       "<Figure size 720x288 with 1 Axes>"
      ]
     },
     "metadata": {
      "needs_background": "light"
     },
     "output_type": "display_data"
    }
   ],
   "source": [
    "# trestbps 안정시 심박수\n",
    "plt.figure(figsize=(10,4))\n",
    "sns.color_palette(\"ch:s=-.2,r=.6\", as_cmap=True)\n",
    "sns.kdeplot(data=data, x='trestbps', hue='target')\n",
    "plt.xticks(rotation=45)\n",
    "plt.show()"
   ]
  },
  {
   "cell_type": "code",
   "execution_count": 54,
   "id": "6bfe1454",
   "metadata": {},
   "outputs": [
    {
     "data": {
      "image/png": "[encoded data removed]",
      "text/plain": [
       "<Figure size 720x288 with 1 Axes>"
      ]
     },
     "metadata": {
      "needs_background": "light"
     },
     "output_type": "display_data"
    }
   ],
   "source": [
    "sns.color_palette(\"ch:s=-.2,r=.6\", as_cmap=True)\n",
    "plt.figure(figsize=(10,4))\n",
    "sns.kdeplot(data=data, x='trestbps', hue='target')\n",
    "plt.xticks(rotation=45)\n",
    "plt.show()"
   ]
  },
  {
   "cell_type": "code",
   "execution_count": 98,
   "id": "294610ab",
   "metadata": {
    "scrolled": true
   },
   "outputs": [
    {
     "data": {
      "image/png": "[encoded data removed]",
      "text/plain": [
       "<Figure size 720x288 with 1 Axes>"
      ]
     },
     "metadata": {
      "needs_background": "light"
     },
     "output_type": "display_data"
    }
   ],
   "source": [
    "# chol 혈청 콜레스트롤\n"
   ]
  },
  {
   "cell_type": "code",
   "execution_count": 56,
   "id": "55b5c14e",
   "metadata": {},
   "outputs": [
    {
     "data": {
      "image/png": "[encoded data removed]",
      "text/plain": [
       "<Figure size 720x288 with 1 Axes>"
      ]
     },
     "metadata": {
      "needs_background": "light"
     },
     "output_type": "display_data"
    }
   ],
   "source": [
    "plt.figure(figsize=(10,4))\n",
    "sns.kdeplot(data=data, x='chol', hue='target')\n",
    "plt.show()"
   ]
  },
  {
   "cell_type": "markdown",
   "id": "3f4eb672",
   "metadata": {},
   "source": [
    "## 2.6 Target에 따른 특성 차이"
   ]
  },
  {
   "cell_type": "code",
   "execution_count": 41,
   "id": "be181c20",
   "metadata": {},
   "outputs": [
    {
     "data": {
      "image/png": "[encoded data removed]",
      "text/plain": [
       "<Figure size 576x360 with 1 Axes>"
      ]
     },
     "metadata": {
      "needs_background": "light"
     },
     "output_type": "display_data"
    }
   ],
   "source": [
    "pd.crosstab(data.sex, data.target).plot(kind='bar', figsize=(8, 5))\n",
    "plt.show()"
   ]
  },
  {
   "cell_type": "code",
   "execution_count": 70,
   "id": "3269c0ad",
   "metadata": {},
   "outputs": [
    {
     "data": {
      "text/plain": [
       "0    79\n",
       "1    68\n",
       "Name: target, dtype: int64"
      ]
     },
     "execution_count": 70,
     "metadata": {},
     "output_type": "execute_result"
    }
   ],
   "source": [
    "# 심전도(restecg) 결과가 0인 것 중 target 개수 보기 (안정시 심전도 결과(0=정상, 1=ST-T파 이상, 2=좌심실 비대))\n",
    "data[data['restecg'] == 0]['target'].value_counts()"
   ]
  },
  {
   "cell_type": "code",
   "execution_count": 49,
   "id": "f4cf6b61",
   "metadata": {
    "scrolled": false
   },
   "outputs": [
    {
     "data": {
      "text/plain": [
       "restecg\n",
       "0    0.462585\n",
       "1    0.631579\n",
       "2    0.250000\n",
       "Name: target, dtype: float64"
      ]
     },
     "execution_count": 49,
     "metadata": {},
     "output_type": "execute_result"
    }
   ],
   "source": [
    "# 심전도 그룹\n"
   ]
  },
  {
   "cell_type": "code",
   "execution_count": 78,
   "id": "76aed963",
   "metadata": {},
   "outputs": [
    {
     "data": {
      "text/plain": [
       "restecg\n",
       "0    0.462585\n",
       "1    0.631579\n",
       "2    0.250000\n",
       "Name: target, dtype: float64"
      ]
     },
     "execution_count": 78,
     "metadata": {},
     "output_type": "execute_result"
    }
   ],
   "source": [
    "data.groupby('restecg')['target'].mean()"
   ]
  },
  {
   "cell_type": "code",
   "execution_count": 87,
   "id": "974ed77d",
   "metadata": {
    "scrolled": false
   },
   "outputs": [
    {
     "data": {
      "image/png": "[encoded data removed]",
      "text/plain": [
       "<Figure size 720x360 with 1 Axes>"
      ]
     },
     "metadata": {
      "needs_background": "light"
     },
     "output_type": "display_data"
    }
   ],
   "source": [
    "# restecg countplot\n",
    "plt.figure(figsize=(10,5))\n",
    "sns.set_palette(\"ch:s=-.2,r=.6\")\n",
    "sns.countplot(data=data, x='restecg', hue='target')\n",
    "plt.show()"
   ]
  },
  {
   "cell_type": "code",
   "execution_count": 88,
   "id": "c54ec749",
   "metadata": {
    "scrolled": false
   },
   "outputs": [
    {
     "data": {
      "image/png": "[encoded data removed]",
      "text/plain": [
       "<Figure size 720x360 with 1 Axes>"
      ]
     },
     "metadata": {
      "needs_background": "light"
     },
     "output_type": "display_data"
    }
   ],
   "source": [
    "#ca 칼럼으로 같은 플랏 그려보기\n",
    "# restecg countplot\n",
    "plt.figure(figsize=(10,5))\n",
    "sns.set_palette(\"ch:s=-.2,r=.6\")\n",
    "sns.countplot(data=data, x='ca', hue='target')\n",
    "plt.show()"
   ]
  },
  {
   "cell_type": "code",
   "execution_count": 88,
   "id": "fac54844",
   "metadata": {
    "scrolled": false
   },
   "outputs": [
    {
     "data": {
      "image/png": "[encoded data removed]",
      "text/plain": [
       "<Figure size 576x576 with 1 Axes>"
      ]
     },
     "metadata": {
      "needs_background": "light"
     },
     "output_type": "display_data"
    }
   ],
   "source": [
    "# 출생년도와 최대 심박수 (thalach)\n",
    "plt.figure(figsize=(8,8))\n",
    "plt.scatter(x=data.birth_year[data.target==0], y=data.thalach[data.target==0], c='blue', )\n",
    "plt.scatter(x=data.birth_year[data.target==1], y=data.thalach[data.target==1], c='red', )\n",
    "plt.show()"
   ]
  },
  {
   "cell_type": "code",
   "execution_count": null,
   "id": "0a566323",
   "metadata": {},
   "outputs": [],
   "source": []
  },
  {
   "cell_type": "code",
   "execution_count": 94,
   "id": "378ea0c2",
   "metadata": {},
   "outputs": [
    {
     "data": {
      "text/plain": [
       "<seaborn.axisgrid.FacetGrid at 0x297b4f61ee0>"
      ]
     },
     "execution_count": 94,
     "metadata": {},
     "output_type": "execute_result"
    },
    {
     "data": {
      "text/plain": [
       "<Figure size 720x720 with 0 Axes>"
      ]
     },
     "metadata": {},
     "output_type": "display_data"
    },
    {
     "data": {
      "image/png": "[encoded data removed]",
      "text/plain": [
       "<Figure size 761.5x720 with 1 Axes>"
      ]
     },
     "metadata": {
      "needs_background": "light"
     },
     "output_type": "display_data"
    }
   ],
   "source": [
    "# sns 로 같은 플랏 그리기, catplot\n",
    "plt.figure(figsize=(10,10))\n",
    "sns.catplot(data=data, x='birth_year',  y='thalach', hue='target', height=10)"
   ]
  },
  {
   "cell_type": "markdown",
   "id": "3a2dd6ee",
   "metadata": {},
   "source": [
    "# 3. 통계분석\n",
    "\n",
    "앞선 시각화를 보면, 심장병과 안정시 혈압이 큰 관계가 없어 보입니다.\n",
    "\n",
    "심장병이 있는 집단과 없는 집단 간 안정시 혈압 평균에 통계적으로 유의미한 차이가 있는지 살펴보겠습니다.\n",
    "\n",
    "## 3-1 정규성 검정\n",
    "\n",
    "전통적인 통계 검정법들은 데이터의 분포를 정규분포로 가정하고 수행되기 때문에 데이터 자체의 정규성을 확인하는 검정이 필수적입니다.\n",
    "\n",
    "중심극한정리에 의해 표본수가 30이상이 되면 데이터셋이 정규분포에 가까워지지만, 실제로 많은 데이터들을 분석하다보면 반드시 정규분포를 따르는 것은 아닙니다.\n",
    "\n",
    "<b>정규성 검정의 종류</b>\n",
    "- Shaprio-Wilks test\n",
    "- Kolmogorove-Smirnov test\n",
    "- Quantile-Quantile plot(QQ-plot)\n",
    "\n",
    "의료 논문의 경우 Shaprio-Wilks test 를 많이 사용하므로 이번 시간에는 Shaprio-Wilks test를 해보겠습니다.\n",
    "\n",
    "> Shaprio-Wilks test <br>\n",
    "> - 귀무가설 H0: 데이터셋이 정규분포를 따른다.\n",
    "> - 대립가설 H1: 데이터셋이 정규분포를 따르지 않는다."
   ]
  },
  {
   "cell_type": "code",
   "execution_count": 250,
   "id": "d9506a87",
   "metadata": {},
   "outputs": [
    {
     "data": {
      "text/html": [
       "<div>\n",
       "<style scoped>\n",
       "    .dataframe tbody tr th:only-of-type {\n",
       "        vertical-align: middle;\n",
       "    }\n",
       "\n",
       "    .dataframe tbody tr th {\n",
       "        vertical-align: top;\n",
       "    }\n",
       "\n",
       "    .dataframe thead th {\n",
       "        text-align: right;\n",
       "    }\n",
       "</style>\n",
       "<table border=\"1\" class=\"dataframe\">\n",
       "  <thead>\n",
       "    <tr style=\"text-align: right;\">\n",
       "      <th></th>\n",
       "      <th>age</th>\n",
       "      <th>sex</th>\n",
       "      <th>cp</th>\n",
       "      <th>trestbps</th>\n",
       "      <th>chol</th>\n",
       "      <th>fbs</th>\n",
       "      <th>restecg</th>\n",
       "      <th>thalach</th>\n",
       "      <th>exang</th>\n",
       "      <th>oldpeak</th>\n",
       "      <th>slope</th>\n",
       "      <th>ca</th>\n",
       "      <th>thal</th>\n",
       "      <th>target</th>\n",
       "    </tr>\n",
       "  </thead>\n",
       "  <tbody>\n",
       "    <tr>\n",
       "      <th>0</th>\n",
       "      <td>63</td>\n",
       "      <td>1</td>\n",
       "      <td>3</td>\n",
       "      <td>145</td>\n",
       "      <td>233</td>\n",
       "      <td>1</td>\n",
       "      <td>0</td>\n",
       "      <td>150</td>\n",
       "      <td>0</td>\n",
       "      <td>2.3</td>\n",
       "      <td>0</td>\n",
       "      <td>0</td>\n",
       "      <td>1</td>\n",
       "      <td>1</td>\n",
       "    </tr>\n",
       "    <tr>\n",
       "      <th>1</th>\n",
       "      <td>37</td>\n",
       "      <td>1</td>\n",
       "      <td>2</td>\n",
       "      <td>130</td>\n",
       "      <td>250</td>\n",
       "      <td>0</td>\n",
       "      <td>1</td>\n",
       "      <td>187</td>\n",
       "      <td>0</td>\n",
       "      <td>3.5</td>\n",
       "      <td>0</td>\n",
       "      <td>0</td>\n",
       "      <td>2</td>\n",
       "      <td>1</td>\n",
       "    </tr>\n",
       "    <tr>\n",
       "      <th>2</th>\n",
       "      <td>41</td>\n",
       "      <td>0</td>\n",
       "      <td>1</td>\n",
       "      <td>130</td>\n",
       "      <td>204</td>\n",
       "      <td>0</td>\n",
       "      <td>0</td>\n",
       "      <td>172</td>\n",
       "      <td>0</td>\n",
       "      <td>1.4</td>\n",
       "      <td>2</td>\n",
       "      <td>0</td>\n",
       "      <td>2</td>\n",
       "      <td>1</td>\n",
       "    </tr>\n",
       "    <tr>\n",
       "      <th>3</th>\n",
       "      <td>56</td>\n",
       "      <td>1</td>\n",
       "      <td>1</td>\n",
       "      <td>120</td>\n",
       "      <td>236</td>\n",
       "      <td>0</td>\n",
       "      <td>1</td>\n",
       "      <td>178</td>\n",
       "      <td>0</td>\n",
       "      <td>0.8</td>\n",
       "      <td>2</td>\n",
       "      <td>0</td>\n",
       "      <td>2</td>\n",
       "      <td>1</td>\n",
       "    </tr>\n",
       "    <tr>\n",
       "      <th>4</th>\n",
       "      <td>57</td>\n",
       "      <td>0</td>\n",
       "      <td>0</td>\n",
       "      <td>120</td>\n",
       "      <td>354</td>\n",
       "      <td>0</td>\n",
       "      <td>1</td>\n",
       "      <td>163</td>\n",
       "      <td>1</td>\n",
       "      <td>0.6</td>\n",
       "      <td>2</td>\n",
       "      <td>0</td>\n",
       "      <td>2</td>\n",
       "      <td>1</td>\n",
       "    </tr>\n",
       "  </tbody>\n",
       "</table>\n",
       "</div>"
      ],
      "text/plain": [
       "   age  sex  cp  trestbps  chol  fbs  restecg  thalach  exang  oldpeak  slope  \\\n",
       "0   63    1   3       145   233    1        0      150      0      2.3      0   \n",
       "1   37    1   2       130   250    0        1      187      0      3.5      0   \n",
       "2   41    0   1       130   204    0        0      172      0      1.4      2   \n",
       "3   56    1   1       120   236    0        1      178      0      0.8      2   \n",
       "4   57    0   0       120   354    0        1      163      1      0.6      2   \n",
       "\n",
       "   ca  thal  target  \n",
       "0   0     1       1  \n",
       "1   0     2       1  \n",
       "2   0     2       1  \n",
       "3   0     2       1  \n",
       "4   0     2       1  "
      ]
     },
     "execution_count": 250,
     "metadata": {},
     "output_type": "execute_result"
    }
   ],
   "source": [
    "data.head()"
   ]
  },
  {
   "cell_type": "code",
   "execution_count": 105,
   "id": "71ccdd9a",
   "metadata": {},
   "outputs": [
    {
     "data": {
      "text/plain": [
       "ShapiroResult(statistic=0.965917706489563, pvalue=1.4580031120203785e-06)"
      ]
     },
     "execution_count": 105,
     "metadata": {},
     "output_type": "execute_result"
    }
   ],
   "source": [
    "from scipy.stats import shapiro\n",
    "shapiro(data['trestbps'])"
   ]
  },
  {
   "cell_type": "markdown",
   "id": "ccfe43a6",
   "metadata": {},
   "source": [
    "p-value 0.05이하로 귀무가설을 기각하고 대립가설을 채택합니다.\n",
    "\n",
    "이 경우 비모수적인 방법을 통해 평균 차이를 비교합니다."
   ]
  },
  {
   "cell_type": "markdown",
   "id": "2f70b5fb",
   "metadata": {},
   "source": [
    "## 3-2 Mann-Whitney U test\n",
    "\n",
    "서로 다른 두 집단 차이를 분석하는 가장 일반적인 방법인 T-Test와 다르게, \n",
    "\n",
    "자료의 수치가 <b>순위 척도(ordinal scale) 또는 정규성 만족이 안되는 경우</b> 사용하는 방법입니다.\n",
    "\n",
    "이 데이터의 `trestbps` 컬럼을 가지고 분석해보겠습니다.\n",
    "\n",
    "> 심장병이 있는 그룹과 없는 그룹의 안정시 혈압 평균에 유의미한 차이가 있는지 살펴보겠습니다.\n",
    "\n",
    "<div class=\"alert alert-block alert-warning\">\n",
    "    <b>Quiz</b> 먼저 심장병이 있는 그룹의 평균 혈압과, 심장병이 없는 그룹의 평균 혈압을 구해보세요\n",
    "</div>"
   ]
  },
  {
   "cell_type": "code",
   "execution_count": 95,
   "id": "7f0b9b92",
   "metadata": {
    "scrolled": true
   },
   "outputs": [
    {
     "data": {
      "text/plain": [
       "0      145\n",
       "1      130\n",
       "2      130\n",
       "3      120\n",
       "4      120\n",
       "      ... \n",
       "298    140\n",
       "299    110\n",
       "300    144\n",
       "301    130\n",
       "302    130\n",
       "Name: trestbps, Length: 303, dtype: int64"
      ]
     },
     "execution_count": 95,
     "metadata": {},
     "output_type": "execute_result"
    }
   ],
   "source": [
    "data[data['target']==0]['trestbps'].mean()"
   ]
  },
  {
   "cell_type": "code",
   "execution_count": 96,
   "id": "396de510",
   "metadata": {},
   "outputs": [
    {
     "data": {
      "text/plain": [
       "134.3985507246377"
      ]
     },
     "execution_count": 96,
     "metadata": {},
     "output_type": "execute_result"
    }
   ],
   "source": [
    "data[data['target']==0]['trestbps'].mean()"
   ]
  },
  {
   "cell_type": "code",
   "execution_count": 97,
   "id": "9e945a4b",
   "metadata": {},
   "outputs": [
    {
     "data": {
      "text/plain": [
       "129.3030303030303"
      ]
     },
     "execution_count": 97,
     "metadata": {},
     "output_type": "execute_result"
    }
   ],
   "source": [
    "data[data['target']==1]['trestbps'].mean()"
   ]
  },
  {
   "cell_type": "code",
   "execution_count": null,
   "id": "bed29cbd",
   "metadata": {},
   "outputs": [],
   "source": []
  },
  {
   "cell_type": "markdown",
   "id": "457ddfb4",
   "metadata": {},
   "source": [
    "심장병이 있는 그룹의 평균 혈압은 129.30이며, 없는 그룹은 134.398 입니다."
   ]
  },
  {
   "cell_type": "code",
   "execution_count": 98,
   "id": "806ef897",
   "metadata": {},
   "outputs": [
    {
     "data": {
      "text/plain": [
       "MannwhitneyuResult(statistic=12985.5, pvalue=0.03465244526020498)"
      ]
     },
     "execution_count": 98,
     "metadata": {},
     "output_type": "execute_result"
    }
   ],
   "source": [
    "from scipy.stats import mannwhitneyu\n",
    "mannwhitneyu(data[data['target']==0]['trestbps'],data[data['target']==1]['trestbps'])"
   ]
  },
  {
   "cell_type": "markdown",
   "id": "fdf726a7",
   "metadata": {},
   "source": [
    "p-value 0.05이하로 두 집단간의 평균 혈압이 다르다고 볼 수 있습니다."
   ]
  },
  {
   "cell_type": "markdown",
   "id": "d5334a25",
   "metadata": {},
   "source": [
    "## 3-3 t-test\n",
    "- 집단간 평균 차이를 위한 검정방법 입니다.\n",
    "- 서로 독립된 두 집단 간의 평균 차이가 있는지를 확인하기 위해서 사용합니다\n",
    "\n",
    "정규성이 만족되는 경우 사용하는 통계 검정 방법이지만,\n",
    "같은 내용을 정규성 만족이 된다고 가정하고 사용해보겠습니다.\n",
    "\n",
    "\n",
    "먼저 t-test를 수행시 등분산성이 만족되어야 합니다.\n",
    "\n",
    "> 등분산 검정<br>\n",
    "> - 귀무가설 H0: 데이터셋의 분산이 같다(등분산이다)\n",
    "> - 대립가설 H1: 데이터셋의 분산이 같지 않다(등분산이 아니다)<br><br>\n",
    "> 등분산선 검정은 Bartlett's test와 Levene's test 등이 있으나, 본 예제에서는 Levene's test 를 수행하겠습니다.\n",
    "\n",
    "> t-test <br>\n",
    "> - 귀무가설 H0: 두 집단의 모평균이 같다\n",
    "> - 대립가설 H1: 두 집단의 모평균이 다르다"
   ]
  },
  {
   "cell_type": "code",
   "execution_count": 410,
   "id": "e6b7ddaa",
   "metadata": {},
   "outputs": [
    {
     "data": {
      "text/plain": [
       "LeveneResult(statistic=1.8569845481574663, pvalue=0.17399187776048558)"
      ]
     },
     "execution_count": 410,
     "metadata": {},
     "output_type": "execute_result"
    }
   ],
   "source": [
    "from scipy.stats import levene\n",
    "levene(data[data['target']==0]['trestbps'],data[data['target']==1]['trestbps'])"
   ]
  },
  {
   "cell_type": "markdown",
   "id": "76c3818e",
   "metadata": {},
   "source": [
    "p-value가 0.05 이상이므로 귀무가설을 채택합니다. 따라서 두 집단은 등분산이라고 할 수 있습니다..\n",
    "\n",
    "따라서 t-test의 `equal_var`을 True로 입력합니다"
   ]
  },
  {
   "cell_type": "code",
   "execution_count": 163,
   "id": "12051e79",
   "metadata": {},
   "outputs": [],
   "source": [
    "import scipy.stats"
   ]
  },
  {
   "cell_type": "code",
   "execution_count": 411,
   "id": "738a3555",
   "metadata": {},
   "outputs": [
    {
     "data": {
      "text/plain": [
       "Ttest_indResult(statistic=2.5412927171039, pvalue=0.011546059200233312)"
      ]
     },
     "execution_count": 411,
     "metadata": {},
     "output_type": "execute_result"
    }
   ],
   "source": [
    "scipy.stats.ttest_ind(data[data['target']==0]['trestbps'],data[data['target']==1]['trestbps'], equal_var=True,\n",
    "#                       alternative='greater'\n",
    "                     )"
   ]
  },
  {
   "cell_type": "markdown",
   "id": "3ae01681",
   "metadata": {},
   "source": [
    "p-value < 0.05 이므로 귀무가설을 기각하고 대립가설을 채택합니다.\n",
    "\n",
    "따라서 심장병이 있는 집단과 없는 집단 간의 안정시 혈압 평균은 다르다고 볼 수 있습니다."
   ]
  },
  {
   "cell_type": "markdown",
   "id": "0631dead",
   "metadata": {},
   "source": [
    "\n",
    "<div class=\"alert alert-block alert-warning\">\n",
    "    <b>Quiz</b>  심장병이 있는 그룹과 없는 그룹 간의 혈청 콜레스테롤 양의 차이가 있는지 알아보겠습니다.<br><br>\n",
    "     chol 컬럼을 사용하여 분석해보세요\n",
    "</div>\n"
   ]
  },
  {
   "cell_type": "code",
   "execution_count": 99,
   "id": "88de317d",
   "metadata": {
    "scrolled": true
   },
   "outputs": [
    {
     "data": {
      "text/plain": [
       "251.08695652173913"
      ]
     },
     "execution_count": 99,
     "metadata": {},
     "output_type": "execute_result"
    }
   ],
   "source": [
    "data[data['target']==0]['chol'].mean()"
   ]
  },
  {
   "cell_type": "code",
   "execution_count": 100,
   "id": "be9be6a6",
   "metadata": {},
   "outputs": [
    {
     "data": {
      "text/plain": [
       "242.23030303030302"
      ]
     },
     "execution_count": 100,
     "metadata": {},
     "output_type": "execute_result"
    }
   ],
   "source": [
    "data[data['target']==1]['chol'].mean()"
   ]
  },
  {
   "cell_type": "code",
   "execution_count": 101,
   "id": "404ed8cb",
   "metadata": {},
   "outputs": [
    {
     "data": {
      "text/plain": [
       "MannwhitneyuResult(statistic=12980.5, pvalue=0.03571518201137642)"
      ]
     },
     "execution_count": 101,
     "metadata": {},
     "output_type": "execute_result"
    }
   ],
   "source": [
    "mannwhitneyu(data[data['target']==0]['chol'],data[data['target']==1]['chol'])"
   ]
  },
  {
   "cell_type": "code",
   "execution_count": 103,
   "id": "4b9acbeb",
   "metadata": {},
   "outputs": [
    {
     "data": {
      "text/plain": [
       "Ttest_indResult(statistic=1.4842450762526977, pvalue=0.13879032695600638)"
      ]
     },
     "execution_count": 103,
     "metadata": {},
     "output_type": "execute_result"
    }
   ],
   "source": [
    "import scipy.stats\n",
    "scipy.stats.ttest_ind(data[data['target']==0]['chol'],data[data['target']==1]['chol'], equal_var=True,\n",
    "#                       alternative='greater'\n",
    "                     )"
   ]
  },
  {
   "cell_type": "code",
   "execution_count": 106,
   "id": "70c14303",
   "metadata": {},
   "outputs": [
    {
     "data": {
      "text/plain": [
       "ShapiroResult(statistic=0.9468814134597778, pvalue=5.364669153351542e-09)"
      ]
     },
     "execution_count": 106,
     "metadata": {},
     "output_type": "execute_result"
    }
   ],
   "source": [
    "shapiro(data['chol'])"
   ]
  },
  {
   "cell_type": "code",
   "execution_count": null,
   "id": "034d13d7",
   "metadata": {},
   "outputs": [],
   "source": []
  },
  {
   "cell_type": "markdown",
   "id": "3c3b8fcc",
   "metadata": {},
   "source": [
    "# 3. Data encoding\n",
    "\n",
    "Python 은 텍스트를 스스로 이해하여 의미를 도출할 수 없습니다.\n",
    "\n",
    "따라서 텍스트로 이뤄진 데이터의 경우, python이 인식할 수 있는 형태로 바꿔줘야 합니다.\n",
    "\n",
    "`sex` 칼럼은 'M', 'F' 로 이뤄져 있습니다.<br>\n",
    "이를 M=0, F=1로 바꿔보겠습니다"
   ]
  },
  {
   "cell_type": "code",
   "execution_count": 119,
   "id": "8be1ef59",
   "metadata": {},
   "outputs": [
    {
     "data": {
      "text/html": [
       "<div>\n",
       "<style scoped>\n",
       "    .dataframe tbody tr th:only-of-type {\n",
       "        vertical-align: middle;\n",
       "    }\n",
       "\n",
       "    .dataframe tbody tr th {\n",
       "        vertical-align: top;\n",
       "    }\n",
       "\n",
       "    .dataframe thead th {\n",
       "        text-align: right;\n",
       "    }\n",
       "</style>\n",
       "<table border=\"1\" class=\"dataframe\">\n",
       "  <thead>\n",
       "    <tr style=\"text-align: right;\">\n",
       "      <th></th>\n",
       "      <th>birth_year</th>\n",
       "      <th>sex</th>\n",
       "      <th>cp</th>\n",
       "      <th>trestbps</th>\n",
       "      <th>chol</th>\n",
       "      <th>fbs</th>\n",
       "      <th>restecg</th>\n",
       "      <th>thalach</th>\n",
       "      <th>exang</th>\n",
       "      <th>oldpeak</th>\n",
       "      <th>slope</th>\n",
       "      <th>ca</th>\n",
       "      <th>thal</th>\n",
       "      <th>target</th>\n",
       "    </tr>\n",
       "  </thead>\n",
       "  <tbody>\n",
       "    <tr>\n",
       "      <th>0</th>\n",
       "      <td>1956</td>\n",
       "      <td>NaN</td>\n",
       "      <td>3</td>\n",
       "      <td>145</td>\n",
       "      <td>233</td>\n",
       "      <td>1</td>\n",
       "      <td>0</td>\n",
       "      <td>150</td>\n",
       "      <td>0</td>\n",
       "      <td>2.3</td>\n",
       "      <td>0</td>\n",
       "      <td>0</td>\n",
       "      <td>1</td>\n",
       "      <td>1</td>\n",
       "    </tr>\n",
       "    <tr>\n",
       "      <th>1</th>\n",
       "      <td>1982</td>\n",
       "      <td>NaN</td>\n",
       "      <td>2</td>\n",
       "      <td>130</td>\n",
       "      <td>250</td>\n",
       "      <td>0</td>\n",
       "      <td>1</td>\n",
       "      <td>187</td>\n",
       "      <td>0</td>\n",
       "      <td>3.5</td>\n",
       "      <td>0</td>\n",
       "      <td>0</td>\n",
       "      <td>2</td>\n",
       "      <td>1</td>\n",
       "    </tr>\n",
       "    <tr>\n",
       "      <th>2</th>\n",
       "      <td>1978</td>\n",
       "      <td>NaN</td>\n",
       "      <td>1</td>\n",
       "      <td>130</td>\n",
       "      <td>204</td>\n",
       "      <td>0</td>\n",
       "      <td>0</td>\n",
       "      <td>172</td>\n",
       "      <td>0</td>\n",
       "      <td>1.4</td>\n",
       "      <td>2</td>\n",
       "      <td>0</td>\n",
       "      <td>2</td>\n",
       "      <td>1</td>\n",
       "    </tr>\n",
       "    <tr>\n",
       "      <th>3</th>\n",
       "      <td>1963</td>\n",
       "      <td>NaN</td>\n",
       "      <td>1</td>\n",
       "      <td>120</td>\n",
       "      <td>236</td>\n",
       "      <td>0</td>\n",
       "      <td>1</td>\n",
       "      <td>178</td>\n",
       "      <td>0</td>\n",
       "      <td>0.8</td>\n",
       "      <td>2</td>\n",
       "      <td>0</td>\n",
       "      <td>2</td>\n",
       "      <td>1</td>\n",
       "    </tr>\n",
       "    <tr>\n",
       "      <th>4</th>\n",
       "      <td>1962</td>\n",
       "      <td>NaN</td>\n",
       "      <td>0</td>\n",
       "      <td>120</td>\n",
       "      <td>354</td>\n",
       "      <td>0</td>\n",
       "      <td>1</td>\n",
       "      <td>163</td>\n",
       "      <td>1</td>\n",
       "      <td>0.6</td>\n",
       "      <td>2</td>\n",
       "      <td>0</td>\n",
       "      <td>2</td>\n",
       "      <td>1</td>\n",
       "    </tr>\n",
       "  </tbody>\n",
       "</table>\n",
       "</div>"
      ],
      "text/plain": [
       "   birth_year  sex  cp  trestbps  chol  fbs  restecg  thalach  exang  oldpeak  \\\n",
       "0        1956  NaN   3       145   233    1        0      150      0      2.3   \n",
       "1        1982  NaN   2       130   250    0        1      187      0      3.5   \n",
       "2        1978  NaN   1       130   204    0        0      172      0      1.4   \n",
       "3        1963  NaN   1       120   236    0        1      178      0      0.8   \n",
       "4        1962  NaN   0       120   354    0        1      163      1      0.6   \n",
       "\n",
       "   slope  ca  thal  target  \n",
       "0      0   0     1       1  \n",
       "1      0   0     2       1  \n",
       "2      2   0     2       1  \n",
       "3      2   0     2       1  \n",
       "4      2   0     2       1  "
      ]
     },
     "execution_count": 119,
     "metadata": {},
     "output_type": "execute_result"
    }
   ],
   "source": [
    "data.head()"
   ]
  },
  {
   "cell_type": "code",
   "execution_count": 108,
   "id": "01e16d63",
   "metadata": {},
   "outputs": [
    {
     "data": {
      "text/plain": [
       "M    207\n",
       "F     96\n",
       "Name: sex, dtype: int64"
      ]
     },
     "execution_count": 108,
     "metadata": {},
     "output_type": "execute_result"
    }
   ],
   "source": [
    "data['sex'].value_counts()"
   ]
  },
  {
   "cell_type": "code",
   "execution_count": 193,
   "id": "1825c915",
   "metadata": {},
   "outputs": [
    {
     "data": {
      "text/plain": [
       "0      0\n",
       "1      0\n",
       "2      0\n",
       "3      0\n",
       "4      0\n",
       "      ..\n",
       "298    0\n",
       "299    0\n",
       "300    0\n",
       "301    0\n",
       "302    0\n",
       "Name: sex, Length: 303, dtype: object"
      ]
     },
     "execution_count": 193,
     "metadata": {},
     "output_type": "execute_result"
    }
   ],
   "source": [
    "#map\n",
    "data['sex'].fillna(0,inplace=True)\n",
    "data['sex']"
   ]
  },
  {
   "cell_type": "markdown",
   "id": "c97fdd45",
   "metadata": {},
   "source": [
    "# 4. train- test 분리\n",
    "\n",
    "머신러닝, 딥러닝 모델을 학습시키기 전 데이터를 크게 세가지로 분리합니다.\n",
    "\n",
    "* training set: 모델의 학습을 위해 사용되는 데이터\n",
    "* validation set: 모델의 학습 과정에서 성능을 확인하고, 하이퍼 파라미터 튜닝시 사용\n",
    "* test set: 생성된 모델의 예측성능을 평가하는데 사용됨\n",
    "\n",
    "overfitting(과적합)을 방지하기 위해 주어진 전체 데이터를 모델 학습시 다 활용하지 않습니다.\n",
    "\n",
    "활용성 높은 모델은 학습에 사용되지 않은 데이터에 대한 예측을 잘해야 합니다.\n",
    "\n",
    "주어진 데이터에 치중하여 학습하는 경우 다른 패턴을 가진 데이터에 대해 예측할 수 없기에 초기에 데이터 분리하는 과정이 중요합니다.\n",
    "\n",
    "정확한 성능을 파악하기 위해 학습시 test set에 포함된 데이터 정보는 절대로 활용하지 않아야 합니다. \n",
    "\n",
    "\n",
    "- 도메인에 따라 랜덤한 방법이 아닌 다른 방법을 사용할 수도 있음\n",
    "- Sklearn의 대표적인 함수는 `train_test_split`\n",
    "\n",
    "\n",
    "> - classification의 경우 랜덤하게 분리 시 test 데이터에만 심장병 환자가 몰려있는 문제가 생길 수 있음<br>\n",
    "> - 분할시 target이 적절히 나뉠 수 있게 옵션을 부여함<br>\n",
    "> - train_test_split 함수의 `stratify` 를 통해 이를 조절할 수 있음<br>\n",
    "> - 수행할 때마다 결과가 달라지므로 `random_state` 로 seed를 고정하여 사용함\n",
    "> - `test_size`로 test set의 비율 조정 가능"
   ]
  },
  {
   "cell_type": "code",
   "execution_count": 136,
   "id": "35c0995c",
   "metadata": {},
   "outputs": [],
   "source": [
    "from sklearn.model_selection import train_test_split"
   ]
  },
  {
   "cell_type": "code",
   "execution_count": 135,
   "id": "3e374342",
   "metadata": {},
   "outputs": [
    {
     "name": "stdout",
     "output_type": "stream",
     "text": [
      "Requirement already satisfied: scikit-learn in c:\\users\\user\\anaconda3\\lib\\site-packages (1.0.2)\n",
      "Requirement already satisfied: joblib>=0.11 in c:\\users\\user\\anaconda3\\lib\\site-packages (from scikit-learn) (1.1.0)\n",
      "Requirement already satisfied: numpy>=1.14.6 in c:\\users\\user\\anaconda3\\lib\\site-packages (from scikit-learn) (1.21.5)\n",
      "Requirement already satisfied: scipy>=1.1.0 in c:\\users\\user\\anaconda3\\lib\\site-packages (from scikit-learn) (1.7.3)\n",
      "Requirement already satisfied: threadpoolctl>=2.0.0 in c:\\users\\user\\anaconda3\\lib\\site-packages (from scikit-learn) (2.2.0)\n",
      "Note: you may need to restart the kernel to use updated packages.\n"
     ]
    }
   ],
   "source": [
    "pip install scikit-learn"
   ]
  },
  {
   "cell_type": "code",
   "execution_count": 146,
   "id": "48f6468f",
   "metadata": {},
   "outputs": [],
   "source": [
    "#분리\n",
    "train, test = train_test_split(data,test_size=0.2, random_state=42, stratify=data['target'])"
   ]
  },
  {
   "cell_type": "code",
   "execution_count": 147,
   "id": "fd35eeb5",
   "metadata": {},
   "outputs": [
    {
     "name": "stdout",
     "output_type": "stream",
     "text": [
      "training set:  (242, 14) test set:  (61, 14)\n"
     ]
    }
   ],
   "source": [
    "print('training set: ', train.shape, 'test set: ', test.shape)"
   ]
  },
  {
   "cell_type": "code",
   "execution_count": 148,
   "id": "c3d981d2",
   "metadata": {},
   "outputs": [
    {
     "data": {
      "text/plain": [
       "1    132\n",
       "0    110\n",
       "Name: target, dtype: int64"
      ]
     },
     "execution_count": 148,
     "metadata": {},
     "output_type": "execute_result"
    }
   ],
   "source": [
    "train['target'].value_counts()"
   ]
  },
  {
   "cell_type": "code",
   "execution_count": 149,
   "id": "e5c04592",
   "metadata": {},
   "outputs": [
    {
     "data": {
      "text/plain": [
       "1    33\n",
       "0    28\n",
       "Name: target, dtype: int64"
      ]
     },
     "execution_count": 149,
     "metadata": {},
     "output_type": "execute_result"
    }
   ],
   "source": [
    "test['target'].value_counts()"
   ]
  },
  {
   "cell_type": "code",
   "execution_count": 129,
   "id": "81cda5da",
   "metadata": {},
   "outputs": [
    {
     "data": {
      "text/plain": [
       "1    165\n",
       "0    138\n",
       "Name: target, dtype: int64"
      ]
     },
     "execution_count": 129,
     "metadata": {},
     "output_type": "execute_result"
    }
   ],
   "source": [
    "data['target'].value_counts()"
   ]
  },
  {
   "cell_type": "markdown",
   "id": "90b72fa3",
   "metadata": {},
   "source": [
    "# 5. 데이터 스케일링\n",
    "\n",
    "## 5-1. 스케일링을 하는 이유\n",
    "\n",
    "변수의 크기가 너무 작거나, 너무 큰 경우 해당 변수가 Target 에 미치는 영향력이 제대로 표현되지 않을 수 있습니다.\n",
    "\n",
    "서로 다른 변수 값의 범위를 일정한 수준으로 맞추는 작업을 특징 스케일링이라고 합니다.\n",
    "\n",
    "대표적인 스케일링 방법으로는 특정 변수의 최대, 최소 값으로 조절하는 Min-Max 스케일링, z-정규화를 이용한 Standard 스케일링이 있습니다.\n",
    "\n",
    "<div class=\"alert alert-block alert-danger\">\n",
    "    <b> 스케일링은 변수의 분포를 변경하지 않습니다.</b>\n",
    "</div>\n",
    "\n",
    "## 5-2. Min-Max Scaling\n",
    "\n",
    "- Min-Max 스케일링을 하면, 값의 범위가 0 ~ 1 사이로 변경됨 <br> \n",
    "- 최댓값을 1, 최솟값을 0으로 변경\n",
    "\n",
    "수식을 직관적으로 이해해보면, X에 존재하는 어떤 가장 작은 값 x <sub>m</sub>에 대해서 x <sub>m</sub>는 Min(X) 값입니다.\n",
    "\n",
    "스케일링 후 x<sub>m</sub>은 0이되고, X에 존재하는 어떤 가장 큰 값x <sub>M</sub>은 분모의 식과 같아지므로 1이 됩니다.\n",
    "\n",
    "$$ x - Min(X) \\over Max(X) - Min(X) $$<br>\n",
    "$$X : 데이터\\ 셋 $$\n",
    "$$ x : 데이터\\ 샘플 $$ \n",
    "\n",
    "<div class=\"alert alert-block alert-warning\">\n",
    "    <b>Quiz</b> numpy를 활용하여 trestbps 컬럼을 스케일링 해보세요\n",
    "</div>"
   ]
  },
  {
   "cell_type": "code",
   "execution_count": 183,
   "id": "b6c32fea",
   "metadata": {},
   "outputs": [
    {
     "ename": "TypeError",
     "evalue": "unsupported operand type(s) for -: 'int' and 'method'",
     "output_type": "error",
     "traceback": [
      "\u001b[1;31m---------------------------------------------------------------------------\u001b[0m",
      "\u001b[1;31mTypeError\u001b[0m                                 Traceback (most recent call last)",
      "Input \u001b[1;32mIn [183]\u001b[0m, in \u001b[0;36m<cell line: 1>\u001b[1;34m()\u001b[0m\n\u001b[1;32m----> 1\u001b[0m X_MinMax \u001b[38;5;241m=\u001b[39m ((\u001b[43mdata\u001b[49m\u001b[43m[\u001b[49m\u001b[38;5;124;43m'\u001b[39;49m\u001b[38;5;124;43mtrestbps\u001b[39;49m\u001b[38;5;124;43m'\u001b[39;49m\u001b[43m]\u001b[49m\u001b[43m \u001b[49m\u001b[38;5;241;43m-\u001b[39;49m\u001b[43m \u001b[49m\u001b[43mdata\u001b[49m\u001b[43m[\u001b[49m\u001b[38;5;124;43m'\u001b[39;49m\u001b[38;5;124;43mtrestbps\u001b[39;49m\u001b[38;5;124;43m'\u001b[39;49m\u001b[43m]\u001b[49m\u001b[38;5;241;43m.\u001b[39;49m\u001b[43mmin\u001b[49m) \u001b[38;5;241m/\u001b[39m (data[\u001b[38;5;124m'\u001b[39m\u001b[38;5;124mtrestbps\u001b[39m\u001b[38;5;124m'\u001b[39m]\u001b[38;5;241m.\u001b[39mmax \u001b[38;5;241m-\u001b[39m data[\u001b[38;5;124m'\u001b[39m\u001b[38;5;124mtrestbps\u001b[39m\u001b[38;5;124m'\u001b[39m]\u001b[38;5;241m.\u001b[39mmin))\n",
      "File \u001b[1;32m~\\anaconda3\\lib\\site-packages\\pandas\\core\\ops\\common.py:70\u001b[0m, in \u001b[0;36m_unpack_zerodim_and_defer.<locals>.new_method\u001b[1;34m(self, other)\u001b[0m\n\u001b[0;32m     66\u001b[0m             \u001b[38;5;28;01mreturn\u001b[39;00m \u001b[38;5;28mNotImplemented\u001b[39m\n\u001b[0;32m     68\u001b[0m other \u001b[38;5;241m=\u001b[39m item_from_zerodim(other)\n\u001b[1;32m---> 70\u001b[0m \u001b[38;5;28;01mreturn\u001b[39;00m \u001b[43mmethod\u001b[49m\u001b[43m(\u001b[49m\u001b[38;5;28;43mself\u001b[39;49m\u001b[43m,\u001b[49m\u001b[43m \u001b[49m\u001b[43mother\u001b[49m\u001b[43m)\u001b[49m\n",
      "File \u001b[1;32m~\\anaconda3\\lib\\site-packages\\pandas\\core\\arraylike.py:108\u001b[0m, in \u001b[0;36mOpsMixin.__sub__\u001b[1;34m(self, other)\u001b[0m\n\u001b[0;32m    106\u001b[0m \u001b[38;5;129m@unpack_zerodim_and_defer\u001b[39m(\u001b[38;5;124m\"\u001b[39m\u001b[38;5;124m__sub__\u001b[39m\u001b[38;5;124m\"\u001b[39m)\n\u001b[0;32m    107\u001b[0m \u001b[38;5;28;01mdef\u001b[39;00m \u001b[38;5;21m__sub__\u001b[39m(\u001b[38;5;28mself\u001b[39m, other):\n\u001b[1;32m--> 108\u001b[0m     \u001b[38;5;28;01mreturn\u001b[39;00m \u001b[38;5;28;43mself\u001b[39;49m\u001b[38;5;241;43m.\u001b[39;49m\u001b[43m_arith_method\u001b[49m\u001b[43m(\u001b[49m\u001b[43mother\u001b[49m\u001b[43m,\u001b[49m\u001b[43m \u001b[49m\u001b[43moperator\u001b[49m\u001b[38;5;241;43m.\u001b[39;49m\u001b[43msub\u001b[49m\u001b[43m)\u001b[49m\n",
      "File \u001b[1;32m~\\anaconda3\\lib\\site-packages\\pandas\\core\\series.py:5639\u001b[0m, in \u001b[0;36mSeries._arith_method\u001b[1;34m(self, other, op)\u001b[0m\n\u001b[0;32m   5637\u001b[0m \u001b[38;5;28;01mdef\u001b[39;00m \u001b[38;5;21m_arith_method\u001b[39m(\u001b[38;5;28mself\u001b[39m, other, op):\n\u001b[0;32m   5638\u001b[0m     \u001b[38;5;28mself\u001b[39m, other \u001b[38;5;241m=\u001b[39m ops\u001b[38;5;241m.\u001b[39malign_method_SERIES(\u001b[38;5;28mself\u001b[39m, other)\n\u001b[1;32m-> 5639\u001b[0m     \u001b[38;5;28;01mreturn\u001b[39;00m \u001b[43mbase\u001b[49m\u001b[38;5;241;43m.\u001b[39;49m\u001b[43mIndexOpsMixin\u001b[49m\u001b[38;5;241;43m.\u001b[39;49m\u001b[43m_arith_method\u001b[49m\u001b[43m(\u001b[49m\u001b[38;5;28;43mself\u001b[39;49m\u001b[43m,\u001b[49m\u001b[43m \u001b[49m\u001b[43mother\u001b[49m\u001b[43m,\u001b[49m\u001b[43m \u001b[49m\u001b[43mop\u001b[49m\u001b[43m)\u001b[49m\n",
      "File \u001b[1;32m~\\anaconda3\\lib\\site-packages\\pandas\\core\\base.py:1295\u001b[0m, in \u001b[0;36mIndexOpsMixin._arith_method\u001b[1;34m(self, other, op)\u001b[0m\n\u001b[0;32m   1292\u001b[0m rvalues \u001b[38;5;241m=\u001b[39m ensure_wrapped_if_datetimelike(rvalues)\n\u001b[0;32m   1294\u001b[0m \u001b[38;5;28;01mwith\u001b[39;00m np\u001b[38;5;241m.\u001b[39merrstate(\u001b[38;5;28mall\u001b[39m\u001b[38;5;241m=\u001b[39m\u001b[38;5;124m\"\u001b[39m\u001b[38;5;124mignore\u001b[39m\u001b[38;5;124m\"\u001b[39m):\n\u001b[1;32m-> 1295\u001b[0m     result \u001b[38;5;241m=\u001b[39m \u001b[43mops\u001b[49m\u001b[38;5;241;43m.\u001b[39;49m\u001b[43marithmetic_op\u001b[49m\u001b[43m(\u001b[49m\u001b[43mlvalues\u001b[49m\u001b[43m,\u001b[49m\u001b[43m \u001b[49m\u001b[43mrvalues\u001b[49m\u001b[43m,\u001b[49m\u001b[43m \u001b[49m\u001b[43mop\u001b[49m\u001b[43m)\u001b[49m\n\u001b[0;32m   1297\u001b[0m \u001b[38;5;28;01mreturn\u001b[39;00m \u001b[38;5;28mself\u001b[39m\u001b[38;5;241m.\u001b[39m_construct_result(result, name\u001b[38;5;241m=\u001b[39mres_name)\n",
      "File \u001b[1;32m~\\anaconda3\\lib\\site-packages\\pandas\\core\\ops\\array_ops.py:222\u001b[0m, in \u001b[0;36marithmetic_op\u001b[1;34m(left, right, op)\u001b[0m\n\u001b[0;32m    217\u001b[0m \u001b[38;5;28;01melse\u001b[39;00m:\n\u001b[0;32m    218\u001b[0m     \u001b[38;5;66;03m# TODO we should handle EAs consistently and move this check before the if/else\u001b[39;00m\n\u001b[0;32m    219\u001b[0m     \u001b[38;5;66;03m# (https://github.com/pandas-dev/pandas/issues/41165)\u001b[39;00m\n\u001b[0;32m    220\u001b[0m     _bool_arith_check(op, left, right)\n\u001b[1;32m--> 222\u001b[0m     res_values \u001b[38;5;241m=\u001b[39m \u001b[43m_na_arithmetic_op\u001b[49m\u001b[43m(\u001b[49m\u001b[43mleft\u001b[49m\u001b[43m,\u001b[49m\u001b[43m \u001b[49m\u001b[43mright\u001b[49m\u001b[43m,\u001b[49m\u001b[43m \u001b[49m\u001b[43mop\u001b[49m\u001b[43m)\u001b[49m\n\u001b[0;32m    224\u001b[0m \u001b[38;5;28;01mreturn\u001b[39;00m res_values\n",
      "File \u001b[1;32m~\\anaconda3\\lib\\site-packages\\pandas\\core\\ops\\array_ops.py:163\u001b[0m, in \u001b[0;36m_na_arithmetic_op\u001b[1;34m(left, right, op, is_cmp)\u001b[0m\n\u001b[0;32m    160\u001b[0m     func \u001b[38;5;241m=\u001b[39m partial(expressions\u001b[38;5;241m.\u001b[39mevaluate, op)\n\u001b[0;32m    162\u001b[0m \u001b[38;5;28;01mtry\u001b[39;00m:\n\u001b[1;32m--> 163\u001b[0m     result \u001b[38;5;241m=\u001b[39m \u001b[43mfunc\u001b[49m\u001b[43m(\u001b[49m\u001b[43mleft\u001b[49m\u001b[43m,\u001b[49m\u001b[43m \u001b[49m\u001b[43mright\u001b[49m\u001b[43m)\u001b[49m\n\u001b[0;32m    164\u001b[0m \u001b[38;5;28;01mexcept\u001b[39;00m \u001b[38;5;167;01mTypeError\u001b[39;00m:\n\u001b[0;32m    165\u001b[0m     \u001b[38;5;28;01mif\u001b[39;00m \u001b[38;5;129;01mnot\u001b[39;00m is_cmp \u001b[38;5;129;01mand\u001b[39;00m (is_object_dtype(left\u001b[38;5;241m.\u001b[39mdtype) \u001b[38;5;129;01mor\u001b[39;00m is_object_dtype(right)):\n\u001b[0;32m    166\u001b[0m         \u001b[38;5;66;03m# For object dtype, fallback to a masked operation (only operating\u001b[39;00m\n\u001b[0;32m    167\u001b[0m         \u001b[38;5;66;03m#  on the non-missing values)\u001b[39;00m\n\u001b[0;32m    168\u001b[0m         \u001b[38;5;66;03m# Don't do this for comparisons, as that will handle complex numbers\u001b[39;00m\n\u001b[0;32m    169\u001b[0m         \u001b[38;5;66;03m#  incorrectly, see GH#32047\u001b[39;00m\n",
      "File \u001b[1;32m~\\anaconda3\\lib\\site-packages\\pandas\\core\\computation\\expressions.py:239\u001b[0m, in \u001b[0;36mevaluate\u001b[1;34m(op, a, b, use_numexpr)\u001b[0m\n\u001b[0;32m    236\u001b[0m \u001b[38;5;28;01mif\u001b[39;00m op_str \u001b[38;5;129;01mis\u001b[39;00m \u001b[38;5;129;01mnot\u001b[39;00m \u001b[38;5;28;01mNone\u001b[39;00m:\n\u001b[0;32m    237\u001b[0m     \u001b[38;5;28;01mif\u001b[39;00m use_numexpr:\n\u001b[0;32m    238\u001b[0m         \u001b[38;5;66;03m# error: \"None\" not callable\u001b[39;00m\n\u001b[1;32m--> 239\u001b[0m         \u001b[38;5;28;01mreturn\u001b[39;00m \u001b[43m_evaluate\u001b[49m\u001b[43m(\u001b[49m\u001b[43mop\u001b[49m\u001b[43m,\u001b[49m\u001b[43m \u001b[49m\u001b[43mop_str\u001b[49m\u001b[43m,\u001b[49m\u001b[43m \u001b[49m\u001b[43ma\u001b[49m\u001b[43m,\u001b[49m\u001b[43m \u001b[49m\u001b[43mb\u001b[49m\u001b[43m)\u001b[49m  \u001b[38;5;66;03m# type: ignore[misc]\u001b[39;00m\n\u001b[0;32m    240\u001b[0m \u001b[38;5;28;01mreturn\u001b[39;00m _evaluate_standard(op, op_str, a, b)\n",
      "File \u001b[1;32m~\\anaconda3\\lib\\site-packages\\pandas\\core\\computation\\expressions.py:128\u001b[0m, in \u001b[0;36m_evaluate_numexpr\u001b[1;34m(op, op_str, a, b)\u001b[0m\n\u001b[0;32m    125\u001b[0m     _store_test_result(result \u001b[38;5;129;01mis\u001b[39;00m \u001b[38;5;129;01mnot\u001b[39;00m \u001b[38;5;28;01mNone\u001b[39;00m)\n\u001b[0;32m    127\u001b[0m \u001b[38;5;28;01mif\u001b[39;00m result \u001b[38;5;129;01mis\u001b[39;00m \u001b[38;5;28;01mNone\u001b[39;00m:\n\u001b[1;32m--> 128\u001b[0m     result \u001b[38;5;241m=\u001b[39m \u001b[43m_evaluate_standard\u001b[49m\u001b[43m(\u001b[49m\u001b[43mop\u001b[49m\u001b[43m,\u001b[49m\u001b[43m \u001b[49m\u001b[43mop_str\u001b[49m\u001b[43m,\u001b[49m\u001b[43m \u001b[49m\u001b[43ma\u001b[49m\u001b[43m,\u001b[49m\u001b[43m \u001b[49m\u001b[43mb\u001b[49m\u001b[43m)\u001b[49m\n\u001b[0;32m    130\u001b[0m \u001b[38;5;28;01mreturn\u001b[39;00m result\n",
      "File \u001b[1;32m~\\anaconda3\\lib\\site-packages\\pandas\\core\\computation\\expressions.py:69\u001b[0m, in \u001b[0;36m_evaluate_standard\u001b[1;34m(op, op_str, a, b)\u001b[0m\n\u001b[0;32m     67\u001b[0m \u001b[38;5;28;01mif\u001b[39;00m _TEST_MODE:\n\u001b[0;32m     68\u001b[0m     _store_test_result(\u001b[38;5;28;01mFalse\u001b[39;00m)\n\u001b[1;32m---> 69\u001b[0m \u001b[38;5;28;01mreturn\u001b[39;00m \u001b[43mop\u001b[49m\u001b[43m(\u001b[49m\u001b[43ma\u001b[49m\u001b[43m,\u001b[49m\u001b[43m \u001b[49m\u001b[43mb\u001b[49m\u001b[43m)\u001b[49m\n",
      "\u001b[1;31mTypeError\u001b[0m: unsupported operand type(s) for -: 'int' and 'method'"
     ]
    }
   ],
   "source": [
    " X_MinMax = ((data['trestbps'] - data['trestbps'].min) / (data['trestbps'].max - data['trestbps'].min))"
   ]
  },
  {
   "cell_type": "code",
   "execution_count": 199,
   "id": "19da1e19",
   "metadata": {},
   "outputs": [
    {
     "data": {
      "text/plain": [
       "0      0.481132\n",
       "1      0.339623\n",
       "2      0.339623\n",
       "3      0.245283\n",
       "4      0.245283\n",
       "         ...   \n",
       "298    0.433962\n",
       "299    0.150943\n",
       "300    0.471698\n",
       "301    0.339623\n",
       "302    0.339623\n",
       "Name: trestbps, Length: 303, dtype: float64"
      ]
     },
     "execution_count": 199,
     "metadata": {},
     "output_type": "execute_result"
    }
   ],
   "source": [
    "X_MinMax"
   ]
  },
  {
   "cell_type": "markdown",
   "id": "c0ef113e",
   "metadata": {},
   "source": [
    "직접 구현도 어렵지 않지만, `Sklearn`에서 Min-Max Scaler는 preprocessing 패키지 사용해보겠습니다.\n",
    "\n",
    "Scaling 과정을 마친 후에는 데이터의 describe를 확인하여 scaling이 잘 이뤄졌는지 확인해야합니다.\n",
    "\n",
    "\n",
    "\n",
    "<div class=\"alert alert-block alert-danger\">\n",
    "    <b> 스케일링은 train 데이터만을 이용해서 진행합니다.</b>\n",
    "</div>"
   ]
  },
  {
   "cell_type": "code",
   "execution_count": 198,
   "id": "f5844978",
   "metadata": {},
   "outputs": [],
   "source": [
    "from sklearn.preprocessing import MinMaxScaler"
   ]
  },
  {
   "cell_type": "code",
   "execution_count": 196,
   "id": "9d602364",
   "metadata": {},
   "outputs": [],
   "source": [
    "mm = MinMaxScaler()\n",
    "train.iloc[:,[0,3,4,7,9]] = mm.fit_transform(train.iloc[:,[0,3,4,7,9]])\n",
    "test.iloc[:,[0,3,4,7,9]] = mm.transform(test.iloc[:,[0,3,4,7,9]])\n",
    "\n"
   ]
  },
  {
   "cell_type": "code",
   "execution_count": 197,
   "id": "88f19976",
   "metadata": {},
   "outputs": [
    {
     "data": {
      "text/html": [
       "<div>\n",
       "<style scoped>\n",
       "    .dataframe tbody tr th:only-of-type {\n",
       "        vertical-align: middle;\n",
       "    }\n",
       "\n",
       "    .dataframe tbody tr th {\n",
       "        vertical-align: top;\n",
       "    }\n",
       "\n",
       "    .dataframe thead th {\n",
       "        text-align: right;\n",
       "    }\n",
       "</style>\n",
       "<table border=\"1\" class=\"dataframe\">\n",
       "  <thead>\n",
       "    <tr style=\"text-align: right;\">\n",
       "      <th></th>\n",
       "      <th>count</th>\n",
       "      <th>mean</th>\n",
       "      <th>std</th>\n",
       "      <th>min</th>\n",
       "      <th>25%</th>\n",
       "      <th>50%</th>\n",
       "      <th>75%</th>\n",
       "      <th>max</th>\n",
       "    </tr>\n",
       "  </thead>\n",
       "  <tbody>\n",
       "    <tr>\n",
       "      <th>birth_year</th>\n",
       "      <td>242.0</td>\n",
       "      <td>0.473140</td>\n",
       "      <td>0.190694</td>\n",
       "      <td>0.0</td>\n",
       "      <td>0.333333</td>\n",
       "      <td>0.447917</td>\n",
       "      <td>0.625000</td>\n",
       "      <td>1.0</td>\n",
       "    </tr>\n",
       "    <tr>\n",
       "      <th>sex</th>\n",
       "      <td>0.0</td>\n",
       "      <td>NaN</td>\n",
       "      <td>NaN</td>\n",
       "      <td>NaN</td>\n",
       "      <td>NaN</td>\n",
       "      <td>NaN</td>\n",
       "      <td>NaN</td>\n",
       "      <td>NaN</td>\n",
       "    </tr>\n",
       "    <tr>\n",
       "      <th>cp</th>\n",
       "      <td>242.0</td>\n",
       "      <td>0.942149</td>\n",
       "      <td>1.008656</td>\n",
       "      <td>0.0</td>\n",
       "      <td>0.000000</td>\n",
       "      <td>1.000000</td>\n",
       "      <td>2.000000</td>\n",
       "      <td>3.0</td>\n",
       "    </tr>\n",
       "    <tr>\n",
       "      <th>trestbps</th>\n",
       "      <td>242.0</td>\n",
       "      <td>0.355723</td>\n",
       "      <td>0.169759</td>\n",
       "      <td>0.0</td>\n",
       "      <td>0.245283</td>\n",
       "      <td>0.339623</td>\n",
       "      <td>0.433962</td>\n",
       "      <td>1.0</td>\n",
       "    </tr>\n",
       "    <tr>\n",
       "      <th>chol</th>\n",
       "      <td>242.0</td>\n",
       "      <td>0.420086</td>\n",
       "      <td>0.169072</td>\n",
       "      <td>0.0</td>\n",
       "      <td>0.301237</td>\n",
       "      <td>0.402827</td>\n",
       "      <td>0.522085</td>\n",
       "      <td>1.0</td>\n",
       "    </tr>\n",
       "    <tr>\n",
       "      <th>fbs</th>\n",
       "      <td>242.0</td>\n",
       "      <td>0.140496</td>\n",
       "      <td>0.348221</td>\n",
       "      <td>0.0</td>\n",
       "      <td>0.000000</td>\n",
       "      <td>0.000000</td>\n",
       "      <td>0.000000</td>\n",
       "      <td>1.0</td>\n",
       "    </tr>\n",
       "    <tr>\n",
       "      <th>restecg</th>\n",
       "      <td>242.0</td>\n",
       "      <td>0.545455</td>\n",
       "      <td>0.531185</td>\n",
       "      <td>0.0</td>\n",
       "      <td>0.000000</td>\n",
       "      <td>1.000000</td>\n",
       "      <td>1.000000</td>\n",
       "      <td>2.0</td>\n",
       "    </tr>\n",
       "    <tr>\n",
       "      <th>thalach</th>\n",
       "      <td>242.0</td>\n",
       "      <td>0.544947</td>\n",
       "      <td>0.192789</td>\n",
       "      <td>0.0</td>\n",
       "      <td>0.432018</td>\n",
       "      <td>0.561404</td>\n",
       "      <td>0.684211</td>\n",
       "      <td>1.0</td>\n",
       "    </tr>\n",
       "    <tr>\n",
       "      <th>exang</th>\n",
       "      <td>242.0</td>\n",
       "      <td>0.338843</td>\n",
       "      <td>0.474297</td>\n",
       "      <td>0.0</td>\n",
       "      <td>0.000000</td>\n",
       "      <td>0.000000</td>\n",
       "      <td>1.000000</td>\n",
       "      <td>1.0</td>\n",
       "    </tr>\n",
       "    <tr>\n",
       "      <th>oldpeak</th>\n",
       "      <td>242.0</td>\n",
       "      <td>0.172887</td>\n",
       "      <td>0.194558</td>\n",
       "      <td>0.0</td>\n",
       "      <td>0.000000</td>\n",
       "      <td>0.129032</td>\n",
       "      <td>0.290323</td>\n",
       "      <td>1.0</td>\n",
       "    </tr>\n",
       "    <tr>\n",
       "      <th>slope</th>\n",
       "      <td>242.0</td>\n",
       "      <td>1.413223</td>\n",
       "      <td>0.620125</td>\n",
       "      <td>0.0</td>\n",
       "      <td>1.000000</td>\n",
       "      <td>1.000000</td>\n",
       "      <td>2.000000</td>\n",
       "      <td>2.0</td>\n",
       "    </tr>\n",
       "    <tr>\n",
       "      <th>ca</th>\n",
       "      <td>242.0</td>\n",
       "      <td>0.743802</td>\n",
       "      <td>1.042889</td>\n",
       "      <td>0.0</td>\n",
       "      <td>0.000000</td>\n",
       "      <td>0.000000</td>\n",
       "      <td>1.000000</td>\n",
       "      <td>4.0</td>\n",
       "    </tr>\n",
       "    <tr>\n",
       "      <th>thal</th>\n",
       "      <td>242.0</td>\n",
       "      <td>2.338843</td>\n",
       "      <td>0.605010</td>\n",
       "      <td>0.0</td>\n",
       "      <td>2.000000</td>\n",
       "      <td>2.000000</td>\n",
       "      <td>3.000000</td>\n",
       "      <td>3.0</td>\n",
       "    </tr>\n",
       "    <tr>\n",
       "      <th>target</th>\n",
       "      <td>242.0</td>\n",
       "      <td>0.545455</td>\n",
       "      <td>0.498962</td>\n",
       "      <td>0.0</td>\n",
       "      <td>0.000000</td>\n",
       "      <td>1.000000</td>\n",
       "      <td>1.000000</td>\n",
       "      <td>1.0</td>\n",
       "    </tr>\n",
       "  </tbody>\n",
       "</table>\n",
       "</div>"
      ],
      "text/plain": [
       "            count      mean       std  min       25%       50%       75%  max\n",
       "birth_year  242.0  0.473140  0.190694  0.0  0.333333  0.447917  0.625000  1.0\n",
       "sex           0.0       NaN       NaN  NaN       NaN       NaN       NaN  NaN\n",
       "cp          242.0  0.942149  1.008656  0.0  0.000000  1.000000  2.000000  3.0\n",
       "trestbps    242.0  0.355723  0.169759  0.0  0.245283  0.339623  0.433962  1.0\n",
       "chol        242.0  0.420086  0.169072  0.0  0.301237  0.402827  0.522085  1.0\n",
       "fbs         242.0  0.140496  0.348221  0.0  0.000000  0.000000  0.000000  1.0\n",
       "restecg     242.0  0.545455  0.531185  0.0  0.000000  1.000000  1.000000  2.0\n",
       "thalach     242.0  0.544947  0.192789  0.0  0.432018  0.561404  0.684211  1.0\n",
       "exang       242.0  0.338843  0.474297  0.0  0.000000  0.000000  1.000000  1.0\n",
       "oldpeak     242.0  0.172887  0.194558  0.0  0.000000  0.129032  0.290323  1.0\n",
       "slope       242.0  1.413223  0.620125  0.0  1.000000  1.000000  2.000000  2.0\n",
       "ca          242.0  0.743802  1.042889  0.0  0.000000  0.000000  1.000000  4.0\n",
       "thal        242.0  2.338843  0.605010  0.0  2.000000  2.000000  3.000000  3.0\n",
       "target      242.0  0.545455  0.498962  0.0  0.000000  1.000000  1.000000  1.0"
      ]
     },
     "execution_count": 197,
     "metadata": {},
     "output_type": "execute_result"
    }
   ],
   "source": [
    "train.describe().T"
   ]
  },
  {
   "cell_type": "code",
   "execution_count": 195,
   "id": "0b3a31dc",
   "metadata": {
    "scrolled": true
   },
   "outputs": [
    {
     "data": {
      "text/html": [
       "<div>\n",
       "<style scoped>\n",
       "    .dataframe tbody tr th:only-of-type {\n",
       "        vertical-align: middle;\n",
       "    }\n",
       "\n",
       "    .dataframe tbody tr th {\n",
       "        vertical-align: top;\n",
       "    }\n",
       "\n",
       "    .dataframe thead th {\n",
       "        text-align: right;\n",
       "    }\n",
       "</style>\n",
       "<table border=\"1\" class=\"dataframe\">\n",
       "  <thead>\n",
       "    <tr style=\"text-align: right;\">\n",
       "      <th></th>\n",
       "      <th>count</th>\n",
       "      <th>mean</th>\n",
       "      <th>std</th>\n",
       "      <th>min</th>\n",
       "      <th>25%</th>\n",
       "      <th>50%</th>\n",
       "      <th>75%</th>\n",
       "      <th>max</th>\n",
       "    </tr>\n",
       "  </thead>\n",
       "  <tbody>\n",
       "    <tr>\n",
       "      <th>birth_year</th>\n",
       "      <td>61.0</td>\n",
       "      <td>0.465164</td>\n",
       "      <td>0.184612</td>\n",
       "      <td>0.125000</td>\n",
       "      <td>0.354167</td>\n",
       "      <td>0.479167</td>\n",
       "      <td>0.583333</td>\n",
       "      <td>0.875000</td>\n",
       "    </tr>\n",
       "    <tr>\n",
       "      <th>sex</th>\n",
       "      <td>0.0</td>\n",
       "      <td>NaN</td>\n",
       "      <td>NaN</td>\n",
       "      <td>NaN</td>\n",
       "      <td>NaN</td>\n",
       "      <td>NaN</td>\n",
       "      <td>NaN</td>\n",
       "      <td>NaN</td>\n",
       "    </tr>\n",
       "    <tr>\n",
       "      <th>cp</th>\n",
       "      <td>61.0</td>\n",
       "      <td>1.065574</td>\n",
       "      <td>1.123519</td>\n",
       "      <td>0.000000</td>\n",
       "      <td>0.000000</td>\n",
       "      <td>1.000000</td>\n",
       "      <td>2.000000</td>\n",
       "      <td>3.000000</td>\n",
       "    </tr>\n",
       "    <tr>\n",
       "      <th>trestbps</th>\n",
       "      <td>61.0</td>\n",
       "      <td>0.351840</td>\n",
       "      <td>0.148400</td>\n",
       "      <td>0.056604</td>\n",
       "      <td>0.245283</td>\n",
       "      <td>0.339623</td>\n",
       "      <td>0.433962</td>\n",
       "      <td>0.716981</td>\n",
       "    </tr>\n",
       "    <tr>\n",
       "      <th>chol</th>\n",
       "      <td>61.0</td>\n",
       "      <td>0.444303</td>\n",
       "      <td>0.231385</td>\n",
       "      <td>0.081272</td>\n",
       "      <td>0.282686</td>\n",
       "      <td>0.416961</td>\n",
       "      <td>0.554770</td>\n",
       "      <td>1.547703</td>\n",
       "    </tr>\n",
       "    <tr>\n",
       "      <th>fbs</th>\n",
       "      <td>61.0</td>\n",
       "      <td>0.180328</td>\n",
       "      <td>0.387651</td>\n",
       "      <td>0.000000</td>\n",
       "      <td>0.000000</td>\n",
       "      <td>0.000000</td>\n",
       "      <td>0.000000</td>\n",
       "      <td>1.000000</td>\n",
       "    </tr>\n",
       "    <tr>\n",
       "      <th>restecg</th>\n",
       "      <td>61.0</td>\n",
       "      <td>0.459016</td>\n",
       "      <td>0.502453</td>\n",
       "      <td>0.000000</td>\n",
       "      <td>0.000000</td>\n",
       "      <td>0.000000</td>\n",
       "      <td>1.000000</td>\n",
       "      <td>1.000000</td>\n",
       "    </tr>\n",
       "    <tr>\n",
       "      <th>thalach</th>\n",
       "      <td>61.0</td>\n",
       "      <td>0.524159</td>\n",
       "      <td>0.231417</td>\n",
       "      <td>-0.149123</td>\n",
       "      <td>0.333333</td>\n",
       "      <td>0.596491</td>\n",
       "      <td>0.657895</td>\n",
       "      <td>0.894737</td>\n",
       "    </tr>\n",
       "    <tr>\n",
       "      <th>exang</th>\n",
       "      <td>61.0</td>\n",
       "      <td>0.278689</td>\n",
       "      <td>0.452075</td>\n",
       "      <td>0.000000</td>\n",
       "      <td>0.000000</td>\n",
       "      <td>0.000000</td>\n",
       "      <td>1.000000</td>\n",
       "      <td>1.000000</td>\n",
       "    </tr>\n",
       "    <tr>\n",
       "      <th>oldpeak</th>\n",
       "      <td>61.0</td>\n",
       "      <td>0.147012</td>\n",
       "      <td>0.154707</td>\n",
       "      <td>0.000000</td>\n",
       "      <td>0.000000</td>\n",
       "      <td>0.129032</td>\n",
       "      <td>0.225806</td>\n",
       "      <td>0.580645</td>\n",
       "    </tr>\n",
       "    <tr>\n",
       "      <th>slope</th>\n",
       "      <td>61.0</td>\n",
       "      <td>1.344262</td>\n",
       "      <td>0.602363</td>\n",
       "      <td>0.000000</td>\n",
       "      <td>1.000000</td>\n",
       "      <td>1.000000</td>\n",
       "      <td>2.000000</td>\n",
       "      <td>2.000000</td>\n",
       "    </tr>\n",
       "    <tr>\n",
       "      <th>ca</th>\n",
       "      <td>61.0</td>\n",
       "      <td>0.672131</td>\n",
       "      <td>0.943775</td>\n",
       "      <td>0.000000</td>\n",
       "      <td>0.000000</td>\n",
       "      <td>0.000000</td>\n",
       "      <td>1.000000</td>\n",
       "      <td>3.000000</td>\n",
       "    </tr>\n",
       "    <tr>\n",
       "      <th>thal</th>\n",
       "      <td>61.0</td>\n",
       "      <td>2.213115</td>\n",
       "      <td>0.635472</td>\n",
       "      <td>0.000000</td>\n",
       "      <td>2.000000</td>\n",
       "      <td>2.000000</td>\n",
       "      <td>3.000000</td>\n",
       "      <td>3.000000</td>\n",
       "    </tr>\n",
       "    <tr>\n",
       "      <th>target</th>\n",
       "      <td>61.0</td>\n",
       "      <td>0.540984</td>\n",
       "      <td>0.502453</td>\n",
       "      <td>0.000000</td>\n",
       "      <td>0.000000</td>\n",
       "      <td>1.000000</td>\n",
       "      <td>1.000000</td>\n",
       "      <td>1.000000</td>\n",
       "    </tr>\n",
       "  </tbody>\n",
       "</table>\n",
       "</div>"
      ],
      "text/plain": [
       "            count      mean       std       min       25%       50%       75%  \\\n",
       "birth_year   61.0  0.465164  0.184612  0.125000  0.354167  0.479167  0.583333   \n",
       "sex           0.0       NaN       NaN       NaN       NaN       NaN       NaN   \n",
       "cp           61.0  1.065574  1.123519  0.000000  0.000000  1.000000  2.000000   \n",
       "trestbps     61.0  0.351840  0.148400  0.056604  0.245283  0.339623  0.433962   \n",
       "chol         61.0  0.444303  0.231385  0.081272  0.282686  0.416961  0.554770   \n",
       "fbs          61.0  0.180328  0.387651  0.000000  0.000000  0.000000  0.000000   \n",
       "restecg      61.0  0.459016  0.502453  0.000000  0.000000  0.000000  1.000000   \n",
       "thalach      61.0  0.524159  0.231417 -0.149123  0.333333  0.596491  0.657895   \n",
       "exang        61.0  0.278689  0.452075  0.000000  0.000000  0.000000  1.000000   \n",
       "oldpeak      61.0  0.147012  0.154707  0.000000  0.000000  0.129032  0.225806   \n",
       "slope        61.0  1.344262  0.602363  0.000000  1.000000  1.000000  2.000000   \n",
       "ca           61.0  0.672131  0.943775  0.000000  0.000000  0.000000  1.000000   \n",
       "thal         61.0  2.213115  0.635472  0.000000  2.000000  2.000000  3.000000   \n",
       "target       61.0  0.540984  0.502453  0.000000  0.000000  1.000000  1.000000   \n",
       "\n",
       "                 max  \n",
       "birth_year  0.875000  \n",
       "sex              NaN  \n",
       "cp          3.000000  \n",
       "trestbps    0.716981  \n",
       "chol        1.547703  \n",
       "fbs         1.000000  \n",
       "restecg     1.000000  \n",
       "thalach     0.894737  \n",
       "exang       1.000000  \n",
       "oldpeak     0.580645  \n",
       "slope       2.000000  \n",
       "ca          3.000000  \n",
       "thal        3.000000  \n",
       "target      1.000000  "
      ]
     },
     "execution_count": 195,
     "metadata": {},
     "output_type": "execute_result"
    }
   ],
   "source": [
    "test.describe().T"
   ]
  },
  {
   "cell_type": "markdown",
   "id": "39ffc228",
   "metadata": {},
   "source": [
    "## 5-3 Standard Scaling\n",
    "\n",
    "데이터를 통계적으로 표준정규분포화 시키는 방법입니다.\n",
    "\n",
    "통계에서 언급하는 `Z-Score Normalization` 를 말합니다. \n",
    "\n",
    "쉽게 말해 데이터를 평균:0, 분산:1 인 정규 분포로 만드는 방법입니다. \n",
    "\n",
    "\n",
    "$$ z = {{x - \\mu} \\over {\\sigma}} $$\n",
    "<br>\n",
    "$$ \\mu : 데이터의\\ 평균,\\ mean(X) $$\n",
    "$$ \\sigma : 데이터의\\ 표준편차, \\ std(X)$$\n",
    "$$ X : 데이터\\ 셋 $$\n",
    "$$ x : 데이터\\ 샘플 $$\n",
    "\n",
    "sklearn.preprocessing 의 StandardScaler 를 사용하여 쉽게 할 수 있습니다."
   ]
  },
  {
   "cell_type": "code",
   "execution_count": 169,
   "id": "b5daff74",
   "metadata": {
    "scrolled": true
   },
   "outputs": [],
   "source": [
    "from sklearn.preprocessing import StandardScaler\n",
    "\n",
    "ss = StandardScaler()\n",
    "X_train = ss.fit_transform(train.drop(columns=['target']))\n",
    "X_test = ss.transform(test.drop(columns=['target']))"
   ]
  },
  {
   "cell_type": "markdown",
   "id": "4f351e68",
   "metadata": {},
   "source": [
    "데이터의 `sex`, `cp`,`restecg`, `slope`, `ca`, `thal` 의 경우, \n",
    "\n",
    "범주형 데이터로 데이터에서 이미 label encoding이 적용되어있습니다.\n",
    "\n",
    "따라서 이 값들은 scaling에서 제외하고 사용해보겠습니다.\n",
    "\n",
    "추후 해당 칼럼은 one-hot encoding으로 변환하여 사용하는 것도 가능합니다."
   ]
  },
  {
   "cell_type": "code",
   "execution_count": 201,
   "id": "b7def6b1",
   "metadata": {},
   "outputs": [
    {
     "data": {
      "text/plain": [
       "Index(['birth_year', 'sex', 'cp', 'trestbps', 'chol', 'fbs', 'restecg',\n",
       "       'thalach', 'exang', 'oldpeak', 'slope', 'ca', 'thal', 'target'],\n",
       "      dtype='object')"
      ]
     },
     "execution_count": 201,
     "metadata": {},
     "output_type": "execute_result"
    }
   ],
   "source": [
    "train.columns"
   ]
  },
  {
   "cell_type": "code",
   "execution_count": 202,
   "id": "b88ca78c",
   "metadata": {},
   "outputs": [
    {
     "data": {
      "text/html": [
       "<div>\n",
       "<style scoped>\n",
       "    .dataframe tbody tr th:only-of-type {\n",
       "        vertical-align: middle;\n",
       "    }\n",
       "\n",
       "    .dataframe tbody tr th {\n",
       "        vertical-align: top;\n",
       "    }\n",
       "\n",
       "    .dataframe thead th {\n",
       "        text-align: right;\n",
       "    }\n",
       "</style>\n",
       "<table border=\"1\" class=\"dataframe\">\n",
       "  <thead>\n",
       "    <tr style=\"text-align: right;\">\n",
       "      <th></th>\n",
       "      <th>birth_year</th>\n",
       "      <th>trestbps</th>\n",
       "      <th>chol</th>\n",
       "      <th>thalach</th>\n",
       "      <th>oldpeak</th>\n",
       "    </tr>\n",
       "  </thead>\n",
       "  <tbody>\n",
       "    <tr>\n",
       "      <th>179</th>\n",
       "      <td>0.416667</td>\n",
       "      <td>0.528302</td>\n",
       "      <td>0.530035</td>\n",
       "      <td>0.210526</td>\n",
       "      <td>0.096774</td>\n",
       "    </tr>\n",
       "    <tr>\n",
       "      <th>197</th>\n",
       "      <td>0.208333</td>\n",
       "      <td>0.292453</td>\n",
       "      <td>0.452297</td>\n",
       "      <td>0.657895</td>\n",
       "      <td>0.032258</td>\n",
       "    </tr>\n",
       "    <tr>\n",
       "      <th>285</th>\n",
       "      <td>0.645833</td>\n",
       "      <td>0.433962</td>\n",
       "      <td>0.653710</td>\n",
       "      <td>0.280702</td>\n",
       "      <td>0.290323</td>\n",
       "    </tr>\n",
       "    <tr>\n",
       "      <th>194</th>\n",
       "      <td>0.354167</td>\n",
       "      <td>0.433962</td>\n",
       "      <td>0.208481</td>\n",
       "      <td>0.587719</td>\n",
       "      <td>0.483871</td>\n",
       "    </tr>\n",
       "    <tr>\n",
       "      <th>188</th>\n",
       "      <td>0.562500</td>\n",
       "      <td>0.433962</td>\n",
       "      <td>0.378092</td>\n",
       "      <td>0.657895</td>\n",
       "      <td>0.096774</td>\n",
       "    </tr>\n",
       "    <tr>\n",
       "      <th>...</th>\n",
       "      <td>...</td>\n",
       "      <td>...</td>\n",
       "      <td>...</td>\n",
       "      <td>...</td>\n",
       "      <td>...</td>\n",
       "    </tr>\n",
       "    <tr>\n",
       "      <th>14</th>\n",
       "      <td>0.395833</td>\n",
       "      <td>0.528302</td>\n",
       "      <td>0.554770</td>\n",
       "      <td>0.649123</td>\n",
       "      <td>0.161290</td>\n",
       "    </tr>\n",
       "    <tr>\n",
       "      <th>4</th>\n",
       "      <td>0.416667</td>\n",
       "      <td>0.245283</td>\n",
       "      <td>0.805654</td>\n",
       "      <td>0.657895</td>\n",
       "      <td>0.096774</td>\n",
       "    </tr>\n",
       "    <tr>\n",
       "      <th>224</th>\n",
       "      <td>0.479167</td>\n",
       "      <td>0.150943</td>\n",
       "      <td>0.399293</td>\n",
       "      <td>0.333333</td>\n",
       "      <td>0.451613</td>\n",
       "    </tr>\n",
       "    <tr>\n",
       "      <th>202</th>\n",
       "      <td>0.395833</td>\n",
       "      <td>0.528302</td>\n",
       "      <td>0.508834</td>\n",
       "      <td>0.201754</td>\n",
       "      <td>0.129032</td>\n",
       "    </tr>\n",
       "    <tr>\n",
       "      <th>12</th>\n",
       "      <td>0.583333</td>\n",
       "      <td>0.339623</td>\n",
       "      <td>0.494700</td>\n",
       "      <td>0.728070</td>\n",
       "      <td>0.096774</td>\n",
       "    </tr>\n",
       "  </tbody>\n",
       "</table>\n",
       "<p>61 rows × 5 columns</p>\n",
       "</div>"
      ],
      "text/plain": [
       "     birth_year  trestbps      chol   thalach   oldpeak\n",
       "179    0.416667  0.528302  0.530035  0.210526  0.096774\n",
       "197    0.208333  0.292453  0.452297  0.657895  0.032258\n",
       "285    0.645833  0.433962  0.653710  0.280702  0.290323\n",
       "194    0.354167  0.433962  0.208481  0.587719  0.483871\n",
       "188    0.562500  0.433962  0.378092  0.657895  0.096774\n",
       "..          ...       ...       ...       ...       ...\n",
       "14     0.395833  0.528302  0.554770  0.649123  0.161290\n",
       "4      0.416667  0.245283  0.805654  0.657895  0.096774\n",
       "224    0.479167  0.150943  0.399293  0.333333  0.451613\n",
       "202    0.395833  0.528302  0.508834  0.201754  0.129032\n",
       "12     0.583333  0.339623  0.494700  0.728070  0.096774\n",
       "\n",
       "[61 rows x 5 columns]"
      ]
     },
     "execution_count": 202,
     "metadata": {},
     "output_type": "execute_result"
    }
   ],
   "source": [
    "train.iloc[:,[0,3,4,7,9]] \n",
    "test.iloc[:,[0,3,4,7,9]] "
   ]
  },
  {
   "cell_type": "code",
   "execution_count": 212,
   "id": "c04583d2",
   "metadata": {},
   "outputs": [],
   "source": [
    "train['sex'].fillna(0,inplace=True)\n",
    "test['sex'].fillna(0, inplace=True)"
   ]
  },
  {
   "cell_type": "markdown",
   "id": "c6a26faa",
   "metadata": {},
   "source": [
    "# 6. 모델 학습\n",
    "\n",
    "다양한 분류기가 있지만 이번 시간에는 RandomForestClassifier를 사용하여 실습을 진행해보겠습니다."
   ]
  },
  {
   "cell_type": "code",
   "execution_count": 209,
   "id": "279648f3",
   "metadata": {},
   "outputs": [],
   "source": [
    "from sklearn.ensemble import RandomForestClassifier"
   ]
  },
  {
   "cell_type": "code",
   "execution_count": 213,
   "id": "887ffaab",
   "metadata": {},
   "outputs": [],
   "source": [
    "# randomforest classifier 객체 생성\n",
    "model_rf = RandomForestClassifier(random_state=42,\n",
    "                                 )\n",
    "#학습 수행\n",
    "model_rf.fit(train.drop(columns=['target']), train['target'])\n",
    "\n",
    "#평가용 데이터로 예측결과 반환\n",
    "pred = model_rf.predict(test.drop(columns=['target']))"
   ]
  },
  {
   "cell_type": "code",
   "execution_count": 214,
   "id": "9c3d3f0a",
   "metadata": {
    "scrolled": true
   },
   "outputs": [
    {
     "data": {
      "text/plain": [
       "array([0, 0, 0, 1, 1, 0, 1, 0, 1, 1, 0, 1, 0, 1, 1, 1, 1, 1, 1, 1, 1, 0,\n",
       "       1, 1, 1, 0, 0, 1, 0, 1, 0, 1, 1, 0, 0, 0, 1, 1, 1, 0, 1, 1, 1, 1,\n",
       "       0, 1, 1, 1, 1, 1, 1, 1, 1, 0, 1, 1, 1, 1, 0, 0, 1], dtype=int64)"
      ]
     },
     "execution_count": 214,
     "metadata": {},
     "output_type": "execute_result"
    }
   ],
   "source": [
    "pred"
   ]
  },
  {
   "cell_type": "code",
   "execution_count": 189,
   "id": "8ff766ea",
   "metadata": {},
   "outputs": [
    {
     "data": {
      "text/plain": [
       "array([0, 0, 0, 0, 0, 0, 1, 0, 1, 0, 1, 1, 0, 1, 1, 1, 1, 1, 1, 1, 0, 0,\n",
       "       1, 0, 1, 0, 0, 1, 0, 1, 0, 1, 1, 0, 0, 1, 0, 1, 1, 1, 0, 1, 1, 1,\n",
       "       0, 0, 1, 0, 1, 0, 0, 1, 1, 0, 1, 1, 1, 1, 0, 0, 1], dtype=int64)"
      ]
     },
     "execution_count": 189,
     "metadata": {},
     "output_type": "execute_result"
    }
   ],
   "source": [
    "test['target'].values"
   ]
  },
  {
   "cell_type": "markdown",
   "id": "a7c47239",
   "metadata": {},
   "source": [
    "# 7. 평가방법\n",
    "\n",
    "머신러닝은 특징 추출, 모델 학습, 예측, 그리고 평가의 프로세스로 구성됩니다.\n",
    "\n",
    "성능 평가 방법은 현재 예측하고자 하는 문제가 분류인지, 회귀인지에 따라 달라집니다.\n",
    "\n",
    "## 7-1 classification vs regression\n",
    "\n",
    "> - classification: 0,1 과 같은 이산형(discrete) 값을 예측하는 경우\n",
    "> - regression: 연속형(continuous) 값을 예측하는 경우\n",
    "\n",
    "## 7-2 classification의 평가방법\n",
    "\n",
    "전체 데이터 중 모델이 맞춘 데이터의 개수를 의미하는 정확도(accuracy)를 가장 좋은 평가 지표로 생각할 수 있지만, 데이터의 클래스 분포가 불균형한 경우에는 좋은 지표로 보기 어렵습니다.\n",
    "\n",
    "데이터와 분석 목적에 적합한 평가 방법을 사용해야 합니다.\n",
    "\n",
    "1. Confusion Matrix(오차 행렬)<br>\n",
    "    Accuracy(정확도)<br>\n",
    "    Sensitivity(=recall, 민감도)<br>\n",
    "    PPV(=Precision, 정밀도)<br>\n",
    "    Specificity(특이도)<br>\n",
    "2. F1 Score\n",
    "3. ROC AUC"
   ]
  },
  {
   "cell_type": "markdown",
   "id": "96823d9f",
   "metadata": {},
   "source": [
    "### 7-2-1 Confusion Matrix\n",
    "<img src=\"https://i.imgur.com/MvapmPv.png[/img]\">\n",
    "\n",
    "\n",
    "<br><br>Accuracy(정확도): 전체 예측값 중 맞게 예측한 비율<br>\n",
    "$$ACC = \\frac{TP+TN}{TP+TN+FP+FN}$$\n",
    "<br><br>\n",
    "Sensitivity (recall, 민감도, 재현율) : 실제 양성인 것 중에 맞게 예측한 비율<br>\n",
    "$$SEN = \\frac{TP}{TP+FN}$$\n",
    "<br><br>\n",
    "Specificity(특이도): 실제 음성인 것 중에 맞게 예측한 비율<br>\n",
    "$$SPE = \\frac{TN}{FP+TN}$$\n",
    "<br><br>\n",
    "Positive Predictive Value (PPV, precision, 정밀도): 예측을 양성으로 한 것 중에 실제로 양성인 비율<br>\n",
    "$$PPV = \\frac{TP}{TP+FP}$$\n",
    "<br><br>\n",
    "Negative Predictive Value (NPV): 예측을 음성으로 한 것 중에 실제로 음성인 비율<br>\n",
    "$$NPV = \\frac{TN}{FN+TN}$$\n",
    "\n"
   ]
  },
  {
   "cell_type": "code",
   "execution_count": null,
   "id": "335a87e4",
   "metadata": {},
   "outputs": [],
   "source": []
  },
  {
   "cell_type": "markdown",
   "id": "995d50a4",
   "metadata": {},
   "source": [
    "<div class=\"alert alert-block alert-warning\">\n",
    "    <b>Quiz</b> numpy를 활용하여 앞서 구한 예측값(pred)의 정확도를 구해보세요.\n",
    "</div>"
   ]
  },
  {
   "cell_type": "code",
   "execution_count": 149,
   "id": "2a567952",
   "metadata": {},
   "outputs": [
    {
     "data": {
      "text/plain": [
       "0.819672131147541"
      ]
     },
     "execution_count": 149,
     "metadata": {},
     "output_type": "execute_result"
    }
   ],
   "source": []
  },
  {
   "cell_type": "markdown",
   "id": "4b635b7c",
   "metadata": {},
   "source": [
    "scikit-learn 모듈을 사용하여 손쉽게 계산할 수 있습니다."
   ]
  },
  {
   "cell_type": "code",
   "execution_count": 216,
   "id": "27aabda9",
   "metadata": {},
   "outputs": [],
   "source": [
    "from sklearn.metrics import accuracy_score"
   ]
  },
  {
   "cell_type": "code",
   "execution_count": 219,
   "id": "d88659d7",
   "metadata": {
    "scrolled": true
   },
   "outputs": [
    {
     "data": {
      "text/plain": [
       "0.7704918032786885"
      ]
     },
     "execution_count": 219,
     "metadata": {},
     "output_type": "execute_result"
    }
   ],
   "source": [
    "accuracy_score(test['target'], pred)"
   ]
  },
  {
   "cell_type": "code",
   "execution_count": null,
   "id": "1a456196",
   "metadata": {},
   "outputs": [],
   "source": []
  },
  {
   "cell_type": "markdown",
   "id": "db03661e",
   "metadata": {},
   "source": [
    "<b> confusion matrix의 경우 sklearn의 모듈을 통해 쉽게 구할 수 있습니다.</b>"
   ]
  },
  {
   "cell_type": "code",
   "execution_count": 220,
   "id": "a1c3dcad",
   "metadata": {},
   "outputs": [],
   "source": [
    "from sklearn.metrics import confusion_matrix"
   ]
  },
  {
   "cell_type": "code",
   "execution_count": 221,
   "id": "85e63b82",
   "metadata": {
    "scrolled": true
   },
   "outputs": [
    {
     "data": {
      "text/plain": [
       "array([[17, 11],\n",
       "       [ 3, 30]], dtype=int64)"
      ]
     },
     "execution_count": 221,
     "metadata": {},
     "output_type": "execute_result"
    }
   ],
   "source": [
    "confusion_matrix(test['target'], pred)"
   ]
  },
  {
   "cell_type": "markdown",
   "id": "fe6e481b",
   "metadata": {},
   "source": [
    "\n",
    "<div class=\"alert alert-block alert-warning\">\n",
    "    <b>Quiz</b> 구한 confusion matrix에서 위의 지표 4개를 구해보세요\n",
    "</div>"
   ]
  },
  {
   "cell_type": "code",
   "execution_count": 339,
   "id": "54545b6c",
   "metadata": {},
   "outputs": [],
   "source": [
    "#accuracy\n"
   ]
  },
  {
   "cell_type": "code",
   "execution_count": 337,
   "id": "195bc760",
   "metadata": {},
   "outputs": [],
   "source": [
    "#recall\n"
   ]
  },
  {
   "cell_type": "code",
   "execution_count": 340,
   "id": "bca4e70d",
   "metadata": {},
   "outputs": [],
   "source": [
    "#specificity\n"
   ]
  },
  {
   "cell_type": "code",
   "execution_count": 338,
   "id": "3ed4e453",
   "metadata": {},
   "outputs": [],
   "source": [
    "#precision\n"
   ]
  },
  {
   "cell_type": "code",
   "execution_count": 225,
   "id": "6a03c4e0",
   "metadata": {},
   "outputs": [],
   "source": [
    "from sklearn.metrics import precision_score, recall_score, f1_score"
   ]
  },
  {
   "cell_type": "code",
   "execution_count": 223,
   "id": "1ef21194",
   "metadata": {},
   "outputs": [
    {
     "data": {
      "text/plain": [
       "0.9090909090909091"
      ]
     },
     "execution_count": 223,
     "metadata": {},
     "output_type": "execute_result"
    }
   ],
   "source": [
    "recall_score(test['target'], pred)"
   ]
  },
  {
   "cell_type": "code",
   "execution_count": 224,
   "id": "c4e1e7f9",
   "metadata": {},
   "outputs": [
    {
     "data": {
      "text/plain": [
       "0.7317073170731707"
      ]
     },
     "execution_count": 224,
     "metadata": {},
     "output_type": "execute_result"
    }
   ],
   "source": [
    "precision_score(test['target'], pred)"
   ]
  },
  {
   "cell_type": "code",
   "execution_count": 226,
   "id": "da8ba7a1",
   "metadata": {},
   "outputs": [
    {
     "data": {
      "text/plain": [
       "0.8108108108108109"
      ]
     },
     "execution_count": 226,
     "metadata": {},
     "output_type": "execute_result"
    }
   ],
   "source": [
    "f1_score(test['target'], pred)"
   ]
  },
  {
   "cell_type": "markdown",
   "id": "4ac9e810",
   "metadata": {},
   "source": [
    "### 7-2-2 F1-Score\n",
    "정밀도와 재현율을 결합한 지표입니다. \n",
    "\n",
    "정밀도와 재현율이 어느 한 방향으로 치우치지 않고 균형 있게 높은 값을 가질수록 높은 값을 가지게 됩니다.\n",
    "- PPV (Precison)과 Sensitivity(recall) 은 모두 모델이 양성이라고 예측한 것과 관련 있으나, 관점이 다름\n",
    "- 서로 상호보완적인 관계\n",
    "- 따라서 이를 보완하기 위해 둘의 조화 평균을 구함\n",
    "- Accuracy와 달리 불균형한 클래스에서도 사용하기 좋음\n",
    "- sklearn.metrics의 f1_score를 이용해 계산가능\n",
    "\n",
    "\n",
    "$$ F1 \\ score = \\frac{2}{\\frac{1}{recall} + \\frac{1}{precision}} $$\n",
    "<br><br>\n",
    "$$F1 \\ score = \\frac{2*recall* precision}{recall+precision}$$"
   ]
  },
  {
   "cell_type": "code",
   "execution_count": 199,
   "id": "fb2191dd",
   "metadata": {},
   "outputs": [
    {
     "data": {
      "text/plain": [
       "0.8493150684931509"
      ]
     },
     "execution_count": 199,
     "metadata": {},
     "output_type": "execute_result"
    }
   ],
   "source": [
    "from sklearn.metrics import f1_score\n",
    "\n",
    "f1_score(test['target'], pred)"
   ]
  },
  {
   "cell_type": "markdown",
   "id": "4dd5e3a6",
   "metadata": {},
   "source": [
    "### 7-2-3 AUC (Area under the ROC Curve)\n",
    "classification에서 확률을 예측하는 경우,\n",
    "\n",
    "임계값에 따라서 민감도와 특이도가 변하게 됩니다.\n",
    "\n",
    "이때 달라지는 모든 경우에 대한 대략적인 모델의 성능을 알고 싶을 때 사용하는 방법입니다.\n",
    "\n",
    "- ROC-Curve: 여러 임계값을 기준으로 sensitivity의 fallout 변화를 시각화\n",
    "- ROC-Curve의 그래프 아래 면접 값을 계산한 것이 AUC\n",
    "- AUC의 최대값은 1이며, (0,1)지점에 가까워질수록 분류가 잘된 모델 \n",
    "\n",
    "실습을 위해서는 예측 결과를 <b>확률</b>로 구해야합니다."
   ]
  },
  {
   "cell_type": "code",
   "execution_count": 227,
   "id": "5776fbec",
   "metadata": {},
   "outputs": [],
   "source": [
    "# randomforest classifier 객체 생성\n",
    "model_rf = RandomForestClassifier(random_state=42,\n",
    "                                 )\n",
    "#학습 수행\n",
    "model_rf.fit(train.drop(columns=['target']), train['target'])\n",
    "\n",
    "#평가용 데이터로 예측결과 반환\n",
    "pred = model_rf.predict_proba(test.drop(columns=['target']))"
   ]
  },
  {
   "cell_type": "code",
   "execution_count": 230,
   "id": "0a855953",
   "metadata": {},
   "outputs": [
    {
     "data": {
      "text/plain": [
       "array([[0.83, 0.17],\n",
       "       [0.65, 0.35],\n",
       "       [0.98, 0.02],\n",
       "       [0.32, 0.68],\n",
       "       [0.35, 0.65],\n",
       "       [0.83, 0.17],\n",
       "       [0.11, 0.89],\n",
       "       [0.78, 0.22],\n",
       "       [0.19, 0.81],\n",
       "       [0.34, 0.66],\n",
       "       [0.68, 0.32],\n",
       "       [0.21, 0.79],\n",
       "       [0.83, 0.17],\n",
       "       [0.23, 0.77],\n",
       "       [0.16, 0.84],\n",
       "       [0.12, 0.88],\n",
       "       [0.11, 0.89],\n",
       "       [0.31, 0.69],\n",
       "       [0.32, 0.68],\n",
       "       [0.41, 0.59],\n",
       "       [0.2 , 0.8 ],\n",
       "       [0.76, 0.24],\n",
       "       [0.24, 0.76],\n",
       "       [0.37, 0.63],\n",
       "       [0.23, 0.77],\n",
       "       [0.97, 0.03],\n",
       "       [0.62, 0.38],\n",
       "       [0.3 , 0.7 ],\n",
       "       [0.81, 0.19],\n",
       "       [0.3 , 0.7 ],\n",
       "       [0.76, 0.24],\n",
       "       [0.01, 0.99],\n",
       "       [0.4 , 0.6 ],\n",
       "       [0.86, 0.14],\n",
       "       [0.89, 0.11],\n",
       "       [0.53, 0.47],\n",
       "       [0.49, 0.51],\n",
       "       [0.11, 0.89],\n",
       "       [0.01, 0.99],\n",
       "       [0.5 , 0.5 ],\n",
       "       [0.35, 0.65],\n",
       "       [0.09, 0.91],\n",
       "       [0.  , 1.  ],\n",
       "       [0.37, 0.63],\n",
       "       [0.78, 0.22],\n",
       "       [0.38, 0.62],\n",
       "       [0.14, 0.86],\n",
       "       [0.31, 0.69],\n",
       "       [0.43, 0.57],\n",
       "       [0.18, 0.82],\n",
       "       [0.43, 0.57],\n",
       "       [0.06, 0.94],\n",
       "       [0.31, 0.69],\n",
       "       [0.96, 0.04],\n",
       "       [0.05, 0.95],\n",
       "       [0.19, 0.81],\n",
       "       [0.32, 0.68],\n",
       "       [0.36, 0.64],\n",
       "       [1.  , 0.  ],\n",
       "       [0.88, 0.12],\n",
       "       [0.  , 1.  ]])"
      ]
     },
     "execution_count": 230,
     "metadata": {},
     "output_type": "execute_result"
    }
   ],
   "source": [
    "pred"
   ]
  },
  {
   "cell_type": "code",
   "execution_count": 229,
   "id": "e4d77cb4",
   "metadata": {},
   "outputs": [
    {
     "data": {
      "text/plain": [
       "array([0.17, 0.35, 0.02, 0.68, 0.65, 0.17, 0.89, 0.22, 0.81, 0.66, 0.32,\n",
       "       0.79, 0.17, 0.77, 0.84, 0.88, 0.89, 0.69, 0.68, 0.59, 0.8 , 0.24,\n",
       "       0.76, 0.63, 0.77, 0.03, 0.38, 0.7 , 0.19, 0.7 , 0.24, 0.99, 0.6 ,\n",
       "       0.14, 0.11, 0.47, 0.51, 0.89, 0.99, 0.5 , 0.65, 0.91, 1.  , 0.63,\n",
       "       0.22, 0.62, 0.86, 0.69, 0.57, 0.82, 0.57, 0.94, 0.69, 0.04, 0.95,\n",
       "       0.81, 0.68, 0.64, 0.  , 0.12, 1.  ])"
      ]
     },
     "execution_count": 229,
     "metadata": {},
     "output_type": "execute_result"
    }
   ],
   "source": [
    "pred[:,1]"
   ]
  },
  {
   "cell_type": "markdown",
   "id": "55e9930b",
   "metadata": {},
   "source": [
    "random forest의 predict_proba를 사용하면 예측값이 0일 확률과 1일 확률을 반환합니다.\n",
    "\n",
    "이 중 예측값이 1일 확률인 지표를 pred에 저장합니다."
   ]
  },
  {
   "cell_type": "code",
   "execution_count": 233,
   "id": "4d7ea877",
   "metadata": {},
   "outputs": [],
   "source": [
    "from sklearn.metrics import roc_auc_score, roc_curve"
   ]
  },
  {
   "cell_type": "code",
   "execution_count": 235,
   "id": "e66f376d",
   "metadata": {},
   "outputs": [
    {
     "ename": "ValueError",
     "evalue": "y should be a 1d array, got an array of shape (61, 2) instead.",
     "output_type": "error",
     "traceback": [
      "\u001b[1;31m---------------------------------------------------------------------------\u001b[0m",
      "\u001b[1;31mValueError\u001b[0m                                Traceback (most recent call last)",
      "Input \u001b[1;32mIn [235]\u001b[0m, in \u001b[0;36m<cell line: 1>\u001b[1;34m()\u001b[0m\n\u001b[1;32m----> 1\u001b[0m \u001b[43mroc_auc_score\u001b[49m\u001b[43m(\u001b[49m\u001b[43mtest\u001b[49m\u001b[43m[\u001b[49m\u001b[38;5;124;43m'\u001b[39;49m\u001b[38;5;124;43mtarget\u001b[39;49m\u001b[38;5;124;43m'\u001b[39;49m\u001b[43m]\u001b[49m\u001b[43m,\u001b[49m\u001b[43m \u001b[49m\u001b[43mpred\u001b[49m\u001b[43m)\u001b[49m\n",
      "File \u001b[1;32m~\\anaconda3\\lib\\site-packages\\sklearn\\metrics\\_ranking.py:567\u001b[0m, in \u001b[0;36mroc_auc_score\u001b[1;34m(y_true, y_score, average, sample_weight, max_fpr, multi_class, labels)\u001b[0m\n\u001b[0;32m    565\u001b[0m     labels \u001b[38;5;241m=\u001b[39m np\u001b[38;5;241m.\u001b[39munique(y_true)\n\u001b[0;32m    566\u001b[0m     y_true \u001b[38;5;241m=\u001b[39m label_binarize(y_true, classes\u001b[38;5;241m=\u001b[39mlabels)[:, \u001b[38;5;241m0\u001b[39m]\n\u001b[1;32m--> 567\u001b[0m     \u001b[38;5;28;01mreturn\u001b[39;00m \u001b[43m_average_binary_score\u001b[49m\u001b[43m(\u001b[49m\n\u001b[0;32m    568\u001b[0m \u001b[43m        \u001b[49m\u001b[43mpartial\u001b[49m\u001b[43m(\u001b[49m\u001b[43m_binary_roc_auc_score\u001b[49m\u001b[43m,\u001b[49m\u001b[43m \u001b[49m\u001b[43mmax_fpr\u001b[49m\u001b[38;5;241;43m=\u001b[39;49m\u001b[43mmax_fpr\u001b[49m\u001b[43m)\u001b[49m\u001b[43m,\u001b[49m\n\u001b[0;32m    569\u001b[0m \u001b[43m        \u001b[49m\u001b[43my_true\u001b[49m\u001b[43m,\u001b[49m\n\u001b[0;32m    570\u001b[0m \u001b[43m        \u001b[49m\u001b[43my_score\u001b[49m\u001b[43m,\u001b[49m\n\u001b[0;32m    571\u001b[0m \u001b[43m        \u001b[49m\u001b[43maverage\u001b[49m\u001b[43m,\u001b[49m\n\u001b[0;32m    572\u001b[0m \u001b[43m        \u001b[49m\u001b[43msample_weight\u001b[49m\u001b[38;5;241;43m=\u001b[39;49m\u001b[43msample_weight\u001b[49m\u001b[43m,\u001b[49m\n\u001b[0;32m    573\u001b[0m \u001b[43m    \u001b[49m\u001b[43m)\u001b[49m\n\u001b[0;32m    574\u001b[0m \u001b[38;5;28;01melse\u001b[39;00m:  \u001b[38;5;66;03m# multilabel-indicator\u001b[39;00m\n\u001b[0;32m    575\u001b[0m     \u001b[38;5;28;01mreturn\u001b[39;00m _average_binary_score(\n\u001b[0;32m    576\u001b[0m         partial(_binary_roc_auc_score, max_fpr\u001b[38;5;241m=\u001b[39mmax_fpr),\n\u001b[0;32m    577\u001b[0m         y_true,\n\u001b[1;32m   (...)\u001b[0m\n\u001b[0;32m    580\u001b[0m         sample_weight\u001b[38;5;241m=\u001b[39msample_weight,\n\u001b[0;32m    581\u001b[0m     )\n",
      "File \u001b[1;32m~\\anaconda3\\lib\\site-packages\\sklearn\\metrics\\_base.py:75\u001b[0m, in \u001b[0;36m_average_binary_score\u001b[1;34m(binary_metric, y_true, y_score, average, sample_weight)\u001b[0m\n\u001b[0;32m     72\u001b[0m     \u001b[38;5;28;01mraise\u001b[39;00m \u001b[38;5;167;01mValueError\u001b[39;00m(\u001b[38;5;124m\"\u001b[39m\u001b[38;5;132;01m{0}\u001b[39;00m\u001b[38;5;124m format is not supported\u001b[39m\u001b[38;5;124m\"\u001b[39m\u001b[38;5;241m.\u001b[39mformat(y_type))\n\u001b[0;32m     74\u001b[0m \u001b[38;5;28;01mif\u001b[39;00m y_type \u001b[38;5;241m==\u001b[39m \u001b[38;5;124m\"\u001b[39m\u001b[38;5;124mbinary\u001b[39m\u001b[38;5;124m\"\u001b[39m:\n\u001b[1;32m---> 75\u001b[0m     \u001b[38;5;28;01mreturn\u001b[39;00m \u001b[43mbinary_metric\u001b[49m\u001b[43m(\u001b[49m\u001b[43my_true\u001b[49m\u001b[43m,\u001b[49m\u001b[43m \u001b[49m\u001b[43my_score\u001b[49m\u001b[43m,\u001b[49m\u001b[43m \u001b[49m\u001b[43msample_weight\u001b[49m\u001b[38;5;241;43m=\u001b[39;49m\u001b[43msample_weight\u001b[49m\u001b[43m)\u001b[49m\n\u001b[0;32m     77\u001b[0m check_consistent_length(y_true, y_score, sample_weight)\n\u001b[0;32m     78\u001b[0m y_true \u001b[38;5;241m=\u001b[39m check_array(y_true)\n",
      "File \u001b[1;32m~\\anaconda3\\lib\\site-packages\\sklearn\\metrics\\_ranking.py:342\u001b[0m, in \u001b[0;36m_binary_roc_auc_score\u001b[1;34m(y_true, y_score, sample_weight, max_fpr)\u001b[0m\n\u001b[0;32m    336\u001b[0m \u001b[38;5;28;01mif\u001b[39;00m \u001b[38;5;28mlen\u001b[39m(np\u001b[38;5;241m.\u001b[39munique(y_true)) \u001b[38;5;241m!=\u001b[39m \u001b[38;5;241m2\u001b[39m:\n\u001b[0;32m    337\u001b[0m     \u001b[38;5;28;01mraise\u001b[39;00m \u001b[38;5;167;01mValueError\u001b[39;00m(\n\u001b[0;32m    338\u001b[0m         \u001b[38;5;124m\"\u001b[39m\u001b[38;5;124mOnly one class present in y_true. ROC AUC score \u001b[39m\u001b[38;5;124m\"\u001b[39m\n\u001b[0;32m    339\u001b[0m         \u001b[38;5;124m\"\u001b[39m\u001b[38;5;124mis not defined in that case.\u001b[39m\u001b[38;5;124m\"\u001b[39m\n\u001b[0;32m    340\u001b[0m     )\n\u001b[1;32m--> 342\u001b[0m fpr, tpr, _ \u001b[38;5;241m=\u001b[39m \u001b[43mroc_curve\u001b[49m\u001b[43m(\u001b[49m\u001b[43my_true\u001b[49m\u001b[43m,\u001b[49m\u001b[43m \u001b[49m\u001b[43my_score\u001b[49m\u001b[43m,\u001b[49m\u001b[43m \u001b[49m\u001b[43msample_weight\u001b[49m\u001b[38;5;241;43m=\u001b[39;49m\u001b[43msample_weight\u001b[49m\u001b[43m)\u001b[49m\n\u001b[0;32m    343\u001b[0m \u001b[38;5;28;01mif\u001b[39;00m max_fpr \u001b[38;5;129;01mis\u001b[39;00m \u001b[38;5;28;01mNone\u001b[39;00m \u001b[38;5;129;01mor\u001b[39;00m max_fpr \u001b[38;5;241m==\u001b[39m \u001b[38;5;241m1\u001b[39m:\n\u001b[0;32m    344\u001b[0m     \u001b[38;5;28;01mreturn\u001b[39;00m auc(fpr, tpr)\n",
      "File \u001b[1;32m~\\anaconda3\\lib\\site-packages\\sklearn\\metrics\\_ranking.py:962\u001b[0m, in \u001b[0;36mroc_curve\u001b[1;34m(y_true, y_score, pos_label, sample_weight, drop_intermediate)\u001b[0m\n\u001b[0;32m    873\u001b[0m \u001b[38;5;28;01mdef\u001b[39;00m \u001b[38;5;21mroc_curve\u001b[39m(\n\u001b[0;32m    874\u001b[0m     y_true, y_score, \u001b[38;5;241m*\u001b[39m, pos_label\u001b[38;5;241m=\u001b[39m\u001b[38;5;28;01mNone\u001b[39;00m, sample_weight\u001b[38;5;241m=\u001b[39m\u001b[38;5;28;01mNone\u001b[39;00m, drop_intermediate\u001b[38;5;241m=\u001b[39m\u001b[38;5;28;01mTrue\u001b[39;00m\n\u001b[0;32m    875\u001b[0m ):\n\u001b[0;32m    876\u001b[0m     \u001b[38;5;124;03m\"\"\"Compute Receiver operating characteristic (ROC).\u001b[39;00m\n\u001b[0;32m    877\u001b[0m \n\u001b[0;32m    878\u001b[0m \u001b[38;5;124;03m    Note: this implementation is restricted to the binary classification task.\u001b[39;00m\n\u001b[1;32m   (...)\u001b[0m\n\u001b[0;32m    960\u001b[0m \n\u001b[0;32m    961\u001b[0m \u001b[38;5;124;03m    \"\"\"\u001b[39;00m\n\u001b[1;32m--> 962\u001b[0m     fps, tps, thresholds \u001b[38;5;241m=\u001b[39m \u001b[43m_binary_clf_curve\u001b[49m\u001b[43m(\u001b[49m\n\u001b[0;32m    963\u001b[0m \u001b[43m        \u001b[49m\u001b[43my_true\u001b[49m\u001b[43m,\u001b[49m\u001b[43m \u001b[49m\u001b[43my_score\u001b[49m\u001b[43m,\u001b[49m\u001b[43m \u001b[49m\u001b[43mpos_label\u001b[49m\u001b[38;5;241;43m=\u001b[39;49m\u001b[43mpos_label\u001b[49m\u001b[43m,\u001b[49m\u001b[43m \u001b[49m\u001b[43msample_weight\u001b[49m\u001b[38;5;241;43m=\u001b[39;49m\u001b[43msample_weight\u001b[49m\n\u001b[0;32m    964\u001b[0m \u001b[43m    \u001b[49m\u001b[43m)\u001b[49m\n\u001b[0;32m    966\u001b[0m     \u001b[38;5;66;03m# Attempt to drop thresholds corresponding to points in between and\u001b[39;00m\n\u001b[0;32m    967\u001b[0m     \u001b[38;5;66;03m# collinear with other points. These are always suboptimal and do not\u001b[39;00m\n\u001b[0;32m    968\u001b[0m     \u001b[38;5;66;03m# appear on a plotted ROC curve (and thus do not affect the AUC).\u001b[39;00m\n\u001b[1;32m   (...)\u001b[0m\n\u001b[0;32m    973\u001b[0m     \u001b[38;5;66;03m# but does not drop more complicated cases like fps = [1, 3, 7],\u001b[39;00m\n\u001b[0;32m    974\u001b[0m     \u001b[38;5;66;03m# tps = [1, 2, 4]; there is no harm in keeping too many thresholds.\u001b[39;00m\n\u001b[0;32m    975\u001b[0m     \u001b[38;5;28;01mif\u001b[39;00m drop_intermediate \u001b[38;5;129;01mand\u001b[39;00m \u001b[38;5;28mlen\u001b[39m(fps) \u001b[38;5;241m>\u001b[39m \u001b[38;5;241m2\u001b[39m:\n",
      "File \u001b[1;32m~\\anaconda3\\lib\\site-packages\\sklearn\\metrics\\_ranking.py:735\u001b[0m, in \u001b[0;36m_binary_clf_curve\u001b[1;34m(y_true, y_score, pos_label, sample_weight)\u001b[0m\n\u001b[0;32m    733\u001b[0m check_consistent_length(y_true, y_score, sample_weight)\n\u001b[0;32m    734\u001b[0m y_true \u001b[38;5;241m=\u001b[39m column_or_1d(y_true)\n\u001b[1;32m--> 735\u001b[0m y_score \u001b[38;5;241m=\u001b[39m \u001b[43mcolumn_or_1d\u001b[49m\u001b[43m(\u001b[49m\u001b[43my_score\u001b[49m\u001b[43m)\u001b[49m\n\u001b[0;32m    736\u001b[0m assert_all_finite(y_true)\n\u001b[0;32m    737\u001b[0m assert_all_finite(y_score)\n",
      "File \u001b[1;32m~\\anaconda3\\lib\\site-packages\\sklearn\\utils\\validation.py:1038\u001b[0m, in \u001b[0;36mcolumn_or_1d\u001b[1;34m(y, warn)\u001b[0m\n\u001b[0;32m   1029\u001b[0m         warnings\u001b[38;5;241m.\u001b[39mwarn(\n\u001b[0;32m   1030\u001b[0m             \u001b[38;5;124m\"\u001b[39m\u001b[38;5;124mA column-vector y was passed when a 1d array was\u001b[39m\u001b[38;5;124m\"\u001b[39m\n\u001b[0;32m   1031\u001b[0m             \u001b[38;5;124m\"\u001b[39m\u001b[38;5;124m expected. Please change the shape of y to \u001b[39m\u001b[38;5;124m\"\u001b[39m\n\u001b[1;32m   (...)\u001b[0m\n\u001b[0;32m   1034\u001b[0m             stacklevel\u001b[38;5;241m=\u001b[39m\u001b[38;5;241m2\u001b[39m,\n\u001b[0;32m   1035\u001b[0m         )\n\u001b[0;32m   1036\u001b[0m     \u001b[38;5;28;01mreturn\u001b[39;00m np\u001b[38;5;241m.\u001b[39mravel(y)\n\u001b[1;32m-> 1038\u001b[0m \u001b[38;5;28;01mraise\u001b[39;00m \u001b[38;5;167;01mValueError\u001b[39;00m(\n\u001b[0;32m   1039\u001b[0m     \u001b[38;5;124m\"\u001b[39m\u001b[38;5;124my should be a 1d array, got an array of shape \u001b[39m\u001b[38;5;132;01m{}\u001b[39;00m\u001b[38;5;124m instead.\u001b[39m\u001b[38;5;124m\"\u001b[39m\u001b[38;5;241m.\u001b[39mformat(shape)\n\u001b[0;32m   1040\u001b[0m )\n",
      "\u001b[1;31mValueError\u001b[0m: y should be a 1d array, got an array of shape (61, 2) instead."
     ]
    }
   ],
   "source": [
    "roc_auc_score(test['target'], pred)"
   ]
  },
  {
   "cell_type": "code",
   "execution_count": 234,
   "id": "6e1f08b5",
   "metadata": {},
   "outputs": [
    {
     "ename": "ValueError",
     "evalue": "y should be a 1d array, got an array of shape (61, 2) instead.",
     "output_type": "error",
     "traceback": [
      "\u001b[1;31m---------------------------------------------------------------------------\u001b[0m",
      "\u001b[1;31mValueError\u001b[0m                                Traceback (most recent call last)",
      "Input \u001b[1;32mIn [234]\u001b[0m, in \u001b[0;36m<cell line: 1>\u001b[1;34m()\u001b[0m\n\u001b[1;32m----> 1\u001b[0m fper, tper, thresholds \u001b[38;5;241m=\u001b[39m \u001b[43mroc_curve\u001b[49m\u001b[43m(\u001b[49m\u001b[43mtest\u001b[49m\u001b[43m[\u001b[49m\u001b[38;5;124;43m'\u001b[39;49m\u001b[38;5;124;43mtarget\u001b[39;49m\u001b[38;5;124;43m'\u001b[39;49m\u001b[43m]\u001b[49m\u001b[43m,\u001b[49m\u001b[43m \u001b[49m\u001b[43mpred\u001b[49m\u001b[43m)\u001b[49m\n",
      "File \u001b[1;32m~\\anaconda3\\lib\\site-packages\\sklearn\\metrics\\_ranking.py:962\u001b[0m, in \u001b[0;36mroc_curve\u001b[1;34m(y_true, y_score, pos_label, sample_weight, drop_intermediate)\u001b[0m\n\u001b[0;32m    873\u001b[0m \u001b[38;5;28;01mdef\u001b[39;00m \u001b[38;5;21mroc_curve\u001b[39m(\n\u001b[0;32m    874\u001b[0m     y_true, y_score, \u001b[38;5;241m*\u001b[39m, pos_label\u001b[38;5;241m=\u001b[39m\u001b[38;5;28;01mNone\u001b[39;00m, sample_weight\u001b[38;5;241m=\u001b[39m\u001b[38;5;28;01mNone\u001b[39;00m, drop_intermediate\u001b[38;5;241m=\u001b[39m\u001b[38;5;28;01mTrue\u001b[39;00m\n\u001b[0;32m    875\u001b[0m ):\n\u001b[0;32m    876\u001b[0m     \u001b[38;5;124;03m\"\"\"Compute Receiver operating characteristic (ROC).\u001b[39;00m\n\u001b[0;32m    877\u001b[0m \n\u001b[0;32m    878\u001b[0m \u001b[38;5;124;03m    Note: this implementation is restricted to the binary classification task.\u001b[39;00m\n\u001b[1;32m   (...)\u001b[0m\n\u001b[0;32m    960\u001b[0m \n\u001b[0;32m    961\u001b[0m \u001b[38;5;124;03m    \"\"\"\u001b[39;00m\n\u001b[1;32m--> 962\u001b[0m     fps, tps, thresholds \u001b[38;5;241m=\u001b[39m \u001b[43m_binary_clf_curve\u001b[49m\u001b[43m(\u001b[49m\n\u001b[0;32m    963\u001b[0m \u001b[43m        \u001b[49m\u001b[43my_true\u001b[49m\u001b[43m,\u001b[49m\u001b[43m \u001b[49m\u001b[43my_score\u001b[49m\u001b[43m,\u001b[49m\u001b[43m \u001b[49m\u001b[43mpos_label\u001b[49m\u001b[38;5;241;43m=\u001b[39;49m\u001b[43mpos_label\u001b[49m\u001b[43m,\u001b[49m\u001b[43m \u001b[49m\u001b[43msample_weight\u001b[49m\u001b[38;5;241;43m=\u001b[39;49m\u001b[43msample_weight\u001b[49m\n\u001b[0;32m    964\u001b[0m \u001b[43m    \u001b[49m\u001b[43m)\u001b[49m\n\u001b[0;32m    966\u001b[0m     \u001b[38;5;66;03m# Attempt to drop thresholds corresponding to points in between and\u001b[39;00m\n\u001b[0;32m    967\u001b[0m     \u001b[38;5;66;03m# collinear with other points. These are always suboptimal and do not\u001b[39;00m\n\u001b[0;32m    968\u001b[0m     \u001b[38;5;66;03m# appear on a plotted ROC curve (and thus do not affect the AUC).\u001b[39;00m\n\u001b[1;32m   (...)\u001b[0m\n\u001b[0;32m    973\u001b[0m     \u001b[38;5;66;03m# but does not drop more complicated cases like fps = [1, 3, 7],\u001b[39;00m\n\u001b[0;32m    974\u001b[0m     \u001b[38;5;66;03m# tps = [1, 2, 4]; there is no harm in keeping too many thresholds.\u001b[39;00m\n\u001b[0;32m    975\u001b[0m     \u001b[38;5;28;01mif\u001b[39;00m drop_intermediate \u001b[38;5;129;01mand\u001b[39;00m \u001b[38;5;28mlen\u001b[39m(fps) \u001b[38;5;241m>\u001b[39m \u001b[38;5;241m2\u001b[39m:\n",
      "File \u001b[1;32m~\\anaconda3\\lib\\site-packages\\sklearn\\metrics\\_ranking.py:735\u001b[0m, in \u001b[0;36m_binary_clf_curve\u001b[1;34m(y_true, y_score, pos_label, sample_weight)\u001b[0m\n\u001b[0;32m    733\u001b[0m check_consistent_length(y_true, y_score, sample_weight)\n\u001b[0;32m    734\u001b[0m y_true \u001b[38;5;241m=\u001b[39m column_or_1d(y_true)\n\u001b[1;32m--> 735\u001b[0m y_score \u001b[38;5;241m=\u001b[39m \u001b[43mcolumn_or_1d\u001b[49m\u001b[43m(\u001b[49m\u001b[43my_score\u001b[49m\u001b[43m)\u001b[49m\n\u001b[0;32m    736\u001b[0m assert_all_finite(y_true)\n\u001b[0;32m    737\u001b[0m assert_all_finite(y_score)\n",
      "File \u001b[1;32m~\\anaconda3\\lib\\site-packages\\sklearn\\utils\\validation.py:1038\u001b[0m, in \u001b[0;36mcolumn_or_1d\u001b[1;34m(y, warn)\u001b[0m\n\u001b[0;32m   1029\u001b[0m         warnings\u001b[38;5;241m.\u001b[39mwarn(\n\u001b[0;32m   1030\u001b[0m             \u001b[38;5;124m\"\u001b[39m\u001b[38;5;124mA column-vector y was passed when a 1d array was\u001b[39m\u001b[38;5;124m\"\u001b[39m\n\u001b[0;32m   1031\u001b[0m             \u001b[38;5;124m\"\u001b[39m\u001b[38;5;124m expected. Please change the shape of y to \u001b[39m\u001b[38;5;124m\"\u001b[39m\n\u001b[1;32m   (...)\u001b[0m\n\u001b[0;32m   1034\u001b[0m             stacklevel\u001b[38;5;241m=\u001b[39m\u001b[38;5;241m2\u001b[39m,\n\u001b[0;32m   1035\u001b[0m         )\n\u001b[0;32m   1036\u001b[0m     \u001b[38;5;28;01mreturn\u001b[39;00m np\u001b[38;5;241m.\u001b[39mravel(y)\n\u001b[1;32m-> 1038\u001b[0m \u001b[38;5;28;01mraise\u001b[39;00m \u001b[38;5;167;01mValueError\u001b[39;00m(\n\u001b[0;32m   1039\u001b[0m     \u001b[38;5;124m\"\u001b[39m\u001b[38;5;124my should be a 1d array, got an array of shape \u001b[39m\u001b[38;5;132;01m{}\u001b[39;00m\u001b[38;5;124m instead.\u001b[39m\u001b[38;5;124m\"\u001b[39m\u001b[38;5;241m.\u001b[39mformat(shape)\n\u001b[0;32m   1040\u001b[0m )\n",
      "\u001b[1;31mValueError\u001b[0m: y should be a 1d array, got an array of shape (61, 2) instead."
     ]
    }
   ],
   "source": [
    "fper, tper, thresholds = roc_curve(test['target'], pred)"
   ]
  },
  {
   "cell_type": "code",
   "execution_count": 183,
   "id": "7719a9bd",
   "metadata": {},
   "outputs": [
    {
     "data": {
      "image/png": "[encoded data removed]",
      "text/plain": [
       "<Figure size 360x360 with 1 Axes>"
      ]
     },
     "metadata": {
      "needs_background": "light"
     },
     "output_type": "display_data"
    }
   ],
   "source": [
    "plt.figure(figsize=(5,5))\n",
    "plt.plot(fper, tper, color='red',label='ROC')\n",
    "\n",
    "plt.plot([0,1],[0,1], color='green', linestyle='--')\n",
    "plt.xlabel('False Positive Rate')\n",
    "plt.ylabel('True Positive Rate')\n",
    "plt.title('ROC-Curve')\n",
    "plt.legend()\n",
    "plt.show()"
   ]
  },
  {
   "cell_type": "code",
   "execution_count": 211,
   "id": "9ccf4775",
   "metadata": {},
   "outputs": [
    {
     "data": {
      "text/plain": [
       "0.9063852813852814"
      ]
     },
     "execution_count": 211,
     "metadata": {},
     "output_type": "execute_result"
    }
   ],
   "source": [
    "roc_auc_score(test['target'], pred)"
   ]
  },
  {
   "cell_type": "markdown",
   "id": "e391b9a8",
   "metadata": {},
   "source": [
    "# 8. overfitting & underfitting\n",
    "\n",
    "앞 모델에서 train auc를 계산해보면 1.0으로 모두 완벽하게 예측하는 것을 확인할 수 있습니다.\n",
    "\n",
    "그러나 test auc 의 경우 train에 비해 모델이 잘 작동하지 못하고 있습니다.\n"
   ]
  },
  {
   "cell_type": "markdown",
   "id": "ab0e6127",
   "metadata": {},
   "source": [
    "<img src=https://miro.medium.com/max/1136/1*x5YbWf3JhZIPr8veio_Bug.jpeg>"
   ]
  },
  {
   "cell_type": "code",
   "execution_count": 241,
   "id": "9d33f0ee",
   "metadata": {},
   "outputs": [],
   "source": [
    "# randomforest classifier 객체 생성\n",
    "model_rf = RandomForestClassifier(random_state=42,\n",
    "                                 )\n",
    "#학습 수행\n",
    "model_rf.fit(train.drop(columns=['target']), train['target'])\n",
    "\n",
    "oof = model_rf.predict_proba(train.drop(columns=['target']))[:,1]\n",
    "#평가용 데이터로 예측결과 반환\n",
    "pred = model_rf.predict_proba(test.drop(columns=['target']))[:,1]\n"
   ]
  },
  {
   "cell_type": "code",
   "execution_count": 233,
   "id": "00962a35",
   "metadata": {},
   "outputs": [
    {
     "data": {
      "text/plain": [
       "1.0"
      ]
     },
     "execution_count": 233,
     "metadata": {},
     "output_type": "execute_result"
    }
   ],
   "source": [
    "roc_auc_score(train['target'], oof)"
   ]
  },
  {
   "cell_type": "code",
   "execution_count": 234,
   "id": "908848cb",
   "metadata": {},
   "outputs": [
    {
     "data": {
      "text/plain": [
       "0.9063852813852814"
      ]
     },
     "execution_count": 234,
     "metadata": {},
     "output_type": "execute_result"
    }
   ],
   "source": [
    "roc_auc_score(test['target'], pred)"
   ]
  },
  {
   "cell_type": "markdown",
   "id": "9de4eed8",
   "metadata": {},
   "source": [
    "모델이 test set을 더 잘 예측하게 만들기 위해 \n",
    "\n",
    "test set의 성능을 확인하는 과정을 반복하며 하이퍼파라미터 튜닝을 하는 경우, \n",
    "\n",
    "고정된 test set에만 잘 동작하는 모델이 만들어질 가능성이 높습니다.\n",
    "\n",
    "결국 앞서서 과적합을 피하기 위해 test set를 분리한 과정이 의미가 없어집니다."
   ]
  },
  {
   "cell_type": "code",
   "execution_count": 284,
   "id": "2294930c",
   "metadata": {},
   "outputs": [],
   "source": [
    "model_rf = RandomForestClassifier(random_state=42,\n",
    "                                  n_estimators=100,\n",
    "                                 )\n",
    "#학습 수행\n",
    "model_rf.fit(train.drop(columns=['target']), train['target'])\n",
    "\n",
    "oof = model_rf.predict_proba(train.drop(columns=['target']))[:,1]\n",
    "#평가용 데이터로 예측결과 반환\n",
    "pred = model_rf.predict_proba(test.drop(columns=['target']))[:,1]"
   ]
  },
  {
   "cell_type": "code",
   "execution_count": 285,
   "id": "4a061f64",
   "metadata": {},
   "outputs": [
    {
     "data": {
      "text/plain": [
       "0.9514462809917356"
      ]
     },
     "execution_count": 285,
     "metadata": {},
     "output_type": "execute_result"
    }
   ],
   "source": [
    "roc_auc_score(train['target'], oof)"
   ]
  },
  {
   "cell_type": "code",
   "execution_count": 286,
   "id": "12064db1",
   "metadata": {},
   "outputs": [
    {
     "data": {
      "text/plain": [
       "0.9188311688311688"
      ]
     },
     "execution_count": 286,
     "metadata": {},
     "output_type": "execute_result"
    }
   ],
   "source": [
    "roc_auc_score(test['target'], pred)"
   ]
  },
  {
   "cell_type": "code",
   "execution_count": null,
   "id": "3916ccfe",
   "metadata": {},
   "outputs": [],
   "source": []
  },
  {
   "cell_type": "markdown",
   "id": "f9a81f41",
   "metadata": {},
   "source": [
    "# 9. Cross Validation(교차 검증)\n",
    "\n",
    "교차검증은 overfitting 문제를 막기 위해 학습 데이터를 학습용 및 검증용 데이터로 다시 분할하는 방법입니다.\n",
    "\n",
    "## 9-1 KFold\n",
    "대표적으로 사용되는 교차 검증 기법으로는 k-fold 교차 검증이 있습니다. \n",
    "\n",
    "k 개의 데이터 fold를 만들어서 k 번 만큼 학습과 검증 평가를 반복적으로 수행하는 방법입니다.\n",
    "\n",
    "<img src=https://scikit-learn.org/stable/_images/grid_search_cross_validation.png>\n",
    "\n",
    "\n",
    "sklearn의 모듈을 활용하여 쉽게 구현해보겠습니다\n",
    "\n",
    "KFold의 경우 index를 활용하기 때문에 분석전 인덱스 정렬을 확인하세요"
   ]
  },
  {
   "cell_type": "code",
   "execution_count": 263,
   "id": "a83b4813",
   "metadata": {
    "scrolled": false
   },
   "outputs": [
    {
     "data": {
      "text/html": [
       "<div>\n",
       "<style scoped>\n",
       "    .dataframe tbody tr th:only-of-type {\n",
       "        vertical-align: middle;\n",
       "    }\n",
       "\n",
       "    .dataframe tbody tr th {\n",
       "        vertical-align: top;\n",
       "    }\n",
       "\n",
       "    .dataframe thead th {\n",
       "        text-align: right;\n",
       "    }\n",
       "</style>\n",
       "<table border=\"1\" class=\"dataframe\">\n",
       "  <thead>\n",
       "    <tr style=\"text-align: right;\">\n",
       "      <th></th>\n",
       "      <th>age</th>\n",
       "      <th>sex</th>\n",
       "      <th>cp</th>\n",
       "      <th>trestbps</th>\n",
       "      <th>chol</th>\n",
       "      <th>fbs</th>\n",
       "      <th>restecg</th>\n",
       "      <th>thalach</th>\n",
       "      <th>exang</th>\n",
       "      <th>oldpeak</th>\n",
       "      <th>slope</th>\n",
       "      <th>ca</th>\n",
       "      <th>thal</th>\n",
       "      <th>target</th>\n",
       "    </tr>\n",
       "  </thead>\n",
       "  <tbody>\n",
       "    <tr>\n",
       "      <th>19</th>\n",
       "      <td>0.833333</td>\n",
       "      <td>0</td>\n",
       "      <td>3</td>\n",
       "      <td>0.433962</td>\n",
       "      <td>0.399293</td>\n",
       "      <td>0</td>\n",
       "      <td>1</td>\n",
       "      <td>0.552632</td>\n",
       "      <td>0</td>\n",
       "      <td>0.290323</td>\n",
       "      <td>2</td>\n",
       "      <td>2</td>\n",
       "      <td>2</td>\n",
       "      <td>1</td>\n",
       "    </tr>\n",
       "    <tr>\n",
       "      <th>247</th>\n",
       "      <td>0.770833</td>\n",
       "      <td>1</td>\n",
       "      <td>1</td>\n",
       "      <td>0.622642</td>\n",
       "      <td>0.424028</td>\n",
       "      <td>0</td>\n",
       "      <td>1</td>\n",
       "      <td>0.280702</td>\n",
       "      <td>1</td>\n",
       "      <td>0.000000</td>\n",
       "      <td>1</td>\n",
       "      <td>3</td>\n",
       "      <td>1</td>\n",
       "      <td>0</td>\n",
       "    </tr>\n",
       "    <tr>\n",
       "      <th>289</th>\n",
       "      <td>0.541667</td>\n",
       "      <td>0</td>\n",
       "      <td>0</td>\n",
       "      <td>0.320755</td>\n",
       "      <td>0.279152</td>\n",
       "      <td>0</td>\n",
       "      <td>2</td>\n",
       "      <td>0.368421</td>\n",
       "      <td>1</td>\n",
       "      <td>0.322581</td>\n",
       "      <td>1</td>\n",
       "      <td>1</td>\n",
       "      <td>3</td>\n",
       "      <td>0</td>\n",
       "    </tr>\n",
       "    <tr>\n",
       "      <th>288</th>\n",
       "      <td>0.583333</td>\n",
       "      <td>1</td>\n",
       "      <td>0</td>\n",
       "      <td>0.150943</td>\n",
       "      <td>0.738516</td>\n",
       "      <td>0</td>\n",
       "      <td>1</td>\n",
       "      <td>0.482456</td>\n",
       "      <td>1</td>\n",
       "      <td>0.483871</td>\n",
       "      <td>1</td>\n",
       "      <td>1</td>\n",
       "      <td>3</td>\n",
       "      <td>0</td>\n",
       "    </tr>\n",
       "    <tr>\n",
       "      <th>60</th>\n",
       "      <td>0.875000</td>\n",
       "      <td>0</td>\n",
       "      <td>2</td>\n",
       "      <td>0.150943</td>\n",
       "      <td>0.491166</td>\n",
       "      <td>1</td>\n",
       "      <td>0</td>\n",
       "      <td>0.368421</td>\n",
       "      <td>0</td>\n",
       "      <td>0.000000</td>\n",
       "      <td>2</td>\n",
       "      <td>1</td>\n",
       "      <td>2</td>\n",
       "      <td>1</td>\n",
       "    </tr>\n",
       "  </tbody>\n",
       "</table>\n",
       "</div>"
      ],
      "text/plain": [
       "          age  sex  cp  trestbps      chol  fbs  restecg   thalach  exang  \\\n",
       "19   0.833333    0   3  0.433962  0.399293    0        1  0.552632      0   \n",
       "247  0.770833    1   1  0.622642  0.424028    0        1  0.280702      1   \n",
       "289  0.541667    0   0  0.320755  0.279152    0        2  0.368421      1   \n",
       "288  0.583333    1   0  0.150943  0.738516    0        1  0.482456      1   \n",
       "60   0.875000    0   2  0.150943  0.491166    1        0  0.368421      0   \n",
       "\n",
       "      oldpeak  slope  ca  thal  target  \n",
       "19   0.290323      2   2     2       1  \n",
       "247  0.000000      1   3     1       0  \n",
       "289  0.322581      1   1     3       0  \n",
       "288  0.483871      1   1     3       0  \n",
       "60   0.000000      2   1     2       1  "
      ]
     },
     "execution_count": 263,
     "metadata": {},
     "output_type": "execute_result"
    }
   ],
   "source": [
    "train.head()"
   ]
  },
  {
   "cell_type": "code",
   "execution_count": 288,
   "id": "d1e28fad",
   "metadata": {},
   "outputs": [],
   "source": [
    "train = train.reset_index(drop=True)\n",
    "test = test.reset_index(drop=True)"
   ]
  },
  {
   "cell_type": "code",
   "execution_count": 287,
   "id": "896debe6",
   "metadata": {},
   "outputs": [],
   "source": [
    "from sklearn.model_selection import KFold"
   ]
  },
  {
   "cell_type": "code",
   "execution_count": 262,
   "id": "1ddddda5",
   "metadata": {},
   "outputs": [],
   "source": [
    "n_fold = 5\n",
    "\n",
    "KF = "
   ]
  },
  {
   "cell_type": "code",
   "execution_count": 265,
   "id": "c8b26401",
   "metadata": {},
   "outputs": [
    {
     "name": "stdout",
     "output_type": "stream",
     "text": [
      "train: [  0   1   2   3   4   5   7   8  11  12  13  14  17  20  21  22  23  26\n",
      "  27  28  29  31  32  34  35  36  37  39  40  41  42  43  44  46  47  48\n",
      "  49  50  51  52  53  54  55  56  57  58  59  61  62  63  64  65  68  69\n",
      "  70  71  72  74  76  77  78  79  80  81  83  84  85  86  87  88  89  90\n",
      "  91  92  94  95  97  98  99 100 101 102 103 104 105 106 107 109 110 114\n",
      " 115 116 118 119 120 121 122 123 124 125 128 129 130 131 132 133 134 135\n",
      " 136 138 139 140 141 142 143 144 145 146 147 148 149 151 153 154 156 157\n",
      " 158 159 160 162 163 165 166 168 169 171 172 173 174 175 176 177 178 179\n",
      " 180 181 182 183 185 186 187 188 189 191 192 193 196 197 198 200 201 202\n",
      " 203 204 205 206 207 210 211 212 213 214 215 217 218 219 220 221 222 223\n",
      " 224 225 227 228 229 230 232 233 234 235 236 238 241] test: [  6   9  10  15  16  18  19  24  25  30  33  38  45  60  66  67  73  75\n",
      "  82  93  96 108 111 112 113 117 126 127 137 150 152 155 161 164 167 170\n",
      " 184 190 194 195 199 208 209 216 226 231 237 239 240]\n",
      "train: [  0   1   2   3   4   6   7   8   9  10  11  13  14  15  16  17  18  19\n",
      "  20  21  22  23  24  25  26  27  30  32  33  34  36  37  38  39  40  41\n",
      "  43  44  45  46  47  48  49  50  52  53  54  57  58  59  60  61  62  63\n",
      "  64  66  67  70  71  72  73  74  75  76  77  78  80  81  82  83  85  87\n",
      "  88  89  90  91  92  93  94  96  98  99 100 102 103 105 106 107 108 110\n",
      " 111 112 113 116 117 118 121 122 123 126 127 128 129 130 131 133 134 135\n",
      " 136 137 138 140 142 143 145 146 148 149 150 151 152 155 156 157 159 160\n",
      " 161 163 164 165 166 167 169 170 171 172 173 174 176 179 180 181 182 183\n",
      " 184 185 186 187 188 189 190 191 194 195 196 197 199 200 201 202 203 204\n",
      " 207 208 209 210 211 212 213 214 215 216 217 218 219 220 221 222 224 226\n",
      " 227 228 231 232 233 234 235 236 237 238 239 240 241] test: [  5  12  28  29  31  35  42  51  55  56  65  68  69  79  84  86  95  97\n",
      " 101 104 109 114 115 119 120 124 125 132 139 141 144 147 153 154 158 162\n",
      " 168 175 177 178 192 193 198 205 206 223 225 229 230]\n",
      "train: [  1   3   5   6   7   8   9  10  12  13  14  15  16  17  18  19  20  21\n",
      "  23  24  25  28  29  30  31  33  34  35  37  38  39  40  42  43  44  45\n",
      "  47  48  49  50  51  52  53  54  55  56  57  58  59  60  63  64  65  66\n",
      "  67  68  69  71  72  73  74  75  79  80  81  82  83  84  86  87  88  89\n",
      "  91  92  93  94  95  96  97  99 101 102 103 104 105 106 107 108 109 110\n",
      " 111 112 113 114 115 116 117 119 120 121 123 124 125 126 127 129 130 131\n",
      " 132 133 134 137 139 141 144 145 147 149 150 151 152 153 154 155 156 157\n",
      " 158 160 161 162 163 164 165 166 167 168 169 170 171 174 175 176 177 178\n",
      " 179 180 183 184 186 187 188 189 190 191 192 193 194 195 197 198 199 200\n",
      " 201 202 203 205 206 207 208 209 210 212 213 214 215 216 219 220 222 223\n",
      " 224 225 226 227 228 229 230 231 234 237 238 239 240 241] test: [  0   2   4  11  22  26  27  32  36  41  46  61  62  70  76  77  78  85\n",
      "  90  98 100 118 122 128 135 136 138 140 142 143 146 148 159 172 173 181\n",
      " 182 185 196 204 211 217 218 221 232 233 235 236]\n",
      "train: [  0   1   2   4   5   6   9  10  11  12  14  15  16  18  19  20  21  22\n",
      "  24  25  26  27  28  29  30  31  32  33  35  36  37  38  41  42  45  46\n",
      "  48  50  51  52  54  55  56  57  58  60  61  62  63  65  66  67  68  69\n",
      "  70  71  73  74  75  76  77  78  79  82  84  85  86  87  88  90  92  93\n",
      "  95  96  97  98  99 100 101 102 103 104 106 107 108 109 111 112 113 114\n",
      " 115 116 117 118 119 120 121 122 124 125 126 127 128 129 130 132 135 136\n",
      " 137 138 139 140 141 142 143 144 146 147 148 149 150 151 152 153 154 155\n",
      " 157 158 159 160 161 162 164 167 168 169 170 172 173 174 175 177 178 179\n",
      " 181 182 184 185 187 188 189 190 191 192 193 194 195 196 198 199 200 201\n",
      " 202 203 204 205 206 208 209 210 211 213 214 216 217 218 221 223 225 226\n",
      " 227 229 230 231 232 233 234 235 236 237 238 239 240 241] test: [  3   7   8  13  17  23  34  39  40  43  44  47  49  53  59  64  72  80\n",
      "  81  83  89  91  94 105 110 123 131 133 134 145 156 163 165 166 171 176\n",
      " 180 183 186 197 207 212 215 219 220 222 224 228]\n",
      "train: [  0   2   3   4   5   6   7   8   9  10  11  12  13  15  16  17  18  19\n",
      "  22  23  24  25  26  27  28  29  30  31  32  33  34  35  36  38  39  40\n",
      "  41  42  43  44  45  46  47  49  51  53  55  56  59  60  61  62  64  65\n",
      "  66  67  68  69  70  72  73  75  76  77  78  79  80  81  82  83  84  85\n",
      "  86  89  90  91  93  94  95  96  97  98 100 101 104 105 108 109 110 111\n",
      " 112 113 114 115 117 118 119 120 122 123 124 125 126 127 128 131 132 133\n",
      " 134 135 136 137 138 139 140 141 142 143 144 145 146 147 148 150 152 153\n",
      " 154 155 156 158 159 161 162 163 164 165 166 167 168 170 171 172 173 175\n",
      " 176 177 178 180 181 182 183 184 185 186 190 192 193 194 195 196 197 198\n",
      " 199 204 205 206 207 208 209 211 212 215 216 217 218 219 220 221 222 223\n",
      " 224 225 226 228 229 230 231 232 233 235 236 237 239 240] test: [  1  14  20  21  37  48  50  52  54  57  58  63  71  74  87  88  92  99\n",
      " 102 103 106 107 116 121 129 130 149 151 157 160 169 174 179 187 188 189\n",
      " 191 200 201 202 203 210 213 214 227 234 238 241]\n"
     ]
    }
   ],
   "source": [
    "for t_idx, v_idx in KF.split(train):\n",
    "    print('train:',t_idx, 'test:',v_idx)"
   ]
  },
  {
   "cell_type": "code",
   "execution_count": 269,
   "id": "39f7c661",
   "metadata": {},
   "outputs": [],
   "source": [
    "acc_history = []\n",
    "oof =[]\n",
    "for t_idx, v_idx in KF.split(train):\n",
    "    tt = \n",
    "    vv = \n",
    "\n",
    "    model_rf = RandomForestClassifier(random_state=42,\n",
    "                                      n_estimators=500,\n",
    "                                     )\n",
    "    #학습 수행\n",
    "    model_rf.fit(tt.drop(columns=['target']), tt['target'])\n",
    "\n",
    "\n"
   ]
  },
  {
   "cell_type": "code",
   "execution_count": 270,
   "id": "b29e457e",
   "metadata": {},
   "outputs": [
    {
     "data": {
      "text/plain": [
       "[0.8571428571428571, 0.9183673469387755, 0.8125, 0.75, 0.8125]"
      ]
     },
     "execution_count": 270,
     "metadata": {},
     "output_type": "execute_result"
    }
   ],
   "source": [
    "acc_history"
   ]
  },
  {
   "cell_type": "markdown",
   "id": "eceb441b",
   "metadata": {},
   "source": [
    "위의 그림처럼 구현시, acc_history 값을 확인하면서 모델을 튜닝하면 됩니다.\n",
    "\n",
    "그러나 때로는 predict_prob으로 나온 결과값을 사용해서 ROC-Curve를 그리거나, 여러 지표의 결과를 확인해보고 싶을 때가 있습니다.\n"
   ]
  },
  {
   "cell_type": "code",
   "execution_count": 277,
   "id": "2deb6be7",
   "metadata": {},
   "outputs": [],
   "source": [
    "oof = np.zeros(train.shape[0])\n",
    "\n",
    "for t_idx, v_idx in KF.split(train):\n",
    "    tt = train.iloc[t_idx,:]\n",
    "    vv = train.iloc[v_idx,:]\n",
    "\n",
    "    model_rf = RandomForestClassifier(random_state=42,\n",
    "                                      n_estimators=500,\n",
    "                                     )\n",
    "\n",
    "    model_rf.fit(tt.drop(columns=['target']), tt['target'])\n",
    "\n",
    "    oof[v_idx] = model_rf.predict_proba(vv.drop(columns=['target']))[:,1]"
   ]
  },
  {
   "cell_type": "code",
   "execution_count": 278,
   "id": "a0460c94",
   "metadata": {},
   "outputs": [
    {
     "data": {
      "text/plain": [
       "(242,)"
      ]
     },
     "execution_count": 278,
     "metadata": {},
     "output_type": "execute_result"
    }
   ],
   "source": [
    "oof.shape"
   ]
  },
  {
   "cell_type": "code",
   "execution_count": 279,
   "id": "d3eb284e",
   "metadata": {},
   "outputs": [
    {
     "data": {
      "text/plain": [
       "(242, 14)"
      ]
     },
     "execution_count": 279,
     "metadata": {},
     "output_type": "execute_result"
    }
   ],
   "source": [
    "train.shape"
   ]
  },
  {
   "cell_type": "code",
   "execution_count": 281,
   "id": "d9795701",
   "metadata": {},
   "outputs": [
    {
     "data": {
      "image/png": "[encoded data removed]",
      "text/plain": [
       "<Figure size 360x360 with 1 Axes>"
      ]
     },
     "metadata": {
      "needs_background": "light"
     },
     "output_type": "display_data"
    }
   ],
   "source": [
    "plt.figure(figsize=(5,5))\n",
    "plt.plot(fper, tper, color='red',label='ROC')\n",
    "\n",
    "plt.plot([0,1],[0,1], color='green', linestyle='--')\n",
    "plt.xlabel('False Positive Rate')\n",
    "plt.ylabel('True Positive Rate')\n",
    "plt.title('ROC-Curve')\n",
    "plt.legend()\n",
    "plt.show()"
   ]
  },
  {
   "cell_type": "code",
   "execution_count": 282,
   "id": "8dad2a0e",
   "metadata": {},
   "outputs": [
    {
     "data": {
      "text/plain": [
       "0.9025137741046833"
      ]
     },
     "execution_count": 282,
     "metadata": {},
     "output_type": "execute_result"
    }
   ],
   "source": [
    "roc_auc_score(train['target'],oof)"
   ]
  },
  {
   "cell_type": "code",
   "execution_count": null,
   "id": "b8326e5d",
   "metadata": {},
   "outputs": [],
   "source": []
  },
  {
   "cell_type": "markdown",
   "id": "8574a08c",
   "metadata": {},
   "source": [
    "## 9-2 Stratified K-Fold Cross Validation\n",
    "\n",
    "train-test split 시 옵션으로 넣었던 stratified 과 유사합니다.\n",
    "\n",
    "target 내의 특정 class가 Fold내에 유난히 많은 경우 정확한 학습이 이뤄지기 어렵고, 때문에 정확한 성능 측정이 어렵습니다.\n",
    "\n",
    "StratifiedKFold는 target 속성값의 개수를 동일하게 만들어서 한 Fold 내에 특정 class가 몰리는 것을 방지합니다.\n",
    "\n",
    "<img src=https://scikit-learn.org/stable/_images/sphx_glr_plot_cv_indices_009.png>\n",
    "\n",
    "출처: https://scikit-learn.org/stable/modules/cross_validation.html"
   ]
  },
  {
   "cell_type": "code",
   "execution_count": 289,
   "id": "7caba54a",
   "metadata": {},
   "outputs": [],
   "source": [
    "from sklearn.model_selection import StratifiedKFold"
   ]
  },
  {
   "cell_type": "markdown",
   "id": "2de2b164",
   "metadata": {},
   "source": [
    "<div class=\"alert alert-block alert-warning\">\n",
    "    <b>Quiz</b> StratifiedKFold를 활용하여 하이퍼파라미터를 튜닝하고 test AUC를 구해보세요\n",
    "</div>"
   ]
  },
  {
   "cell_type": "code",
   "execution_count": null,
   "id": "f6a2cc7e",
   "metadata": {},
   "outputs": [],
   "source": []
  },
  {
   "cell_type": "markdown",
   "id": "064adb35",
   "metadata": {},
   "source": [
    "## 9-3 GroupKFold\n",
    "\n",
    "train 과 validation set 을 분할시 같은 특정 그룹이 분할되는 것을 방지하는 방법입니다. \n",
    "예를 들어 환자별로 10번씩 x-ray를 찍었다고 가정하면, 동일한 환자의 기록이 train 과 validation에 분리되는 경우 이미 train에서 해당 환자의 특징이 학습되었기 때문에 validation 성능이 올라갈 수 있습니다. \n",
    "\n",
    "이런 경우 모델을 실제로 활용시 예측한 성능보다 낮은 결과를 볼 가능성이 높습니다.\n",
    "\n",
    "GroupKFold는 이런 과적합 상황을 탐지하여 robust한 모델을 만들 수 있습니다.\n",
    "\n",
    "\n",
    "<img src=https://scikit-learn.org/stable/_images/sphx_glr_plot_cv_indices_007.png>"
   ]
  },
  {
   "cell_type": "markdown",
   "id": "9c485d2f",
   "metadata": {},
   "source": [
    "<div class=\"alert alert-block alert-warning\">\n",
    "    <b>Quiz</b> GroupKFold를 활용하여 하이퍼파라미터를 튜닝하고 test AUC를 구해보세요.\n",
    "</div>"
   ]
  },
  {
   "cell_type": "code",
   "execution_count": 297,
   "id": "26084258",
   "metadata": {},
   "outputs": [],
   "source": [
    "from sklearn.model_selection import GroupKFold\n"
   ]
  },
  {
   "cell_type": "markdown",
   "id": "a275201f",
   "metadata": {},
   "source": [
    "# 11. Feature engineering\n",
    "\n",
    "머신러닝에서 컴퓨터가 스스로 학습하려면, 데이터를 컴퓨터가 인지할 수 있도록 사람이 잘 만들어줘야 합니다.\n",
    "\n",
    "모델보다 중요한 것은 중요한 feature를 찾는 것이라고 할 수도 있습니다.\n",
    "\n",
    "정확한 예측을 위해서는 입력이 중요합니다.\n",
    "\n",
    "- Imputation (결측치 처리)\n",
    "- Outliers (이상치 탐지)\n",
    "- Binning (구간화) :  연속형 변수를 특정 구간으로 나눠 범주형 변수로 변환하는 방법\n",
    "- Transform (ex. log transform): 편향된 데이터 분포를 정규분포에 가깝게 만들어서 이상치의 영향을 줄인다\n",
    "- One-hot encoding\n",
    "- Groupby feature\n",
    "- Feature Split\n",
    "- Extracting Data\n",
    "- feature interaction (aka 사칙연산): 변수를 결합하여 새로운 변수 생성\n",
    "- Dimension Reduction\n"
   ]
  },
  {
   "cell_type": "markdown",
   "id": "8faa356e",
   "metadata": {},
   "source": [
    "## 11-1 Feature Interaction\n",
    "\n",
    "feature 간의 연산을 통해 새로운 feature를 만들 수 있습니다.\n",
    "\n",
    "- 현재 나이"
   ]
  },
  {
   "cell_type": "markdown",
   "id": "fc0ebee3",
   "metadata": {},
   "source": [
    "<div class=\"alert alert-block alert-warning\">\n",
    "    <b>Quiz</b> 출생년도를 이용해서 현재 나이를 새로운 feature로 추가해보세요\n",
    "</div>"
   ]
  },
  {
   "cell_type": "code",
   "execution_count": null,
   "id": "bb06c66e",
   "metadata": {},
   "outputs": [],
   "source": []
  }
 ],
 "metadata": {
  "kernelspec": {
   "display_name": "Python 3 (ipykernel)",
   "language": "python",
   "name": "python3"
  },
  "language_info": {
   "codemirror_mode": {
    "name": "ipython",
    "version": 3
   },
   "file_extension": ".py",
   "mimetype": "text/x-python",
   "name": "python",
   "nbconvert_exporter": "python",
   "pygments_lexer": "ipython3",
   "version": "3.9.12"
  },
  "toc": {
   "base_numbering": 1,
   "nav_menu": {},
   "number_sections": true,
   "sideBar": true,
   "skip_h1_title": false,
   "title_cell": "Table of Contents",
   "title_sidebar": "Contents",
   "toc_cell": false,
   "toc_position": {
    "height": "calc(100% - 180px)",
    "left": "10px",
    "top": "150px",
    "width": "316.441px"
   },
   "toc_section_display": true,
   "toc_window_display": true
  }
 },
 "nbformat": 4,
 "nbformat_minor": 5
}
