{
 "cells": [
  {
   "cell_type": "code",
   "execution_count": 1,
   "id": "7503f836",
   "metadata": {},
   "outputs": [],
   "source": [
    "import sys\n",
    "import numpy as np\n",
    "import cv2"
   ]
  },
  {
   "cell_type": "code",
   "execution_count": 2,
   "id": "989e0b0c",
   "metadata": {},
   "outputs": [],
   "source": [
    "src = cv2.imread('./cells.png', cv2.IMREAD_GRAYSCALE)\n",
    "\n",
    "if src is None:\n",
    "    print('Image Load Failed!')\n",
    "    sys.exit()\n",
    "    \n",
    "_, dst1 = cv2.threshold(src, 100, 255, cv2.THRESH_BINARY)\n",
    "_, dst2 = cv2.threshold(src, 100, 255, cv2.THRESH_BINARY)\n",
    "\n",
    "cv2.imshow('src', src)\n",
    "cv2.imshow('dst1', dst1)\n",
    "cv2.imshow('dst2', dst2)\n",
    "cv2.waitKey()\n",
    "cv2.destroyAllWindows()"
   ]
  },
  {
   "cell_type": "code",
   "execution_count": 5,
   "id": "a3b231ff",
   "metadata": {},
   "outputs": [],
   "source": [
    "src = cv2.imread('./cells.png', cv2.IMREAD_GRAYSCALE)\n",
    "\n",
    "if src is None:\n",
    "    print('Image Load Failed!')\n",
    "    sys.exit()\n",
    "    \n",
    "def on_threshold(pos):\n",
    "    _, dst = cv2.threshold(src, pos, 255, cv2.THRESH_BINARY)\n",
    "    cv2.imshow('dst', dst)\n",
    "    \n",
    "cv2.imshow('src', src)\n",
    "cv2.namedWindow('dst')\n",
    "cv2.createTrackbar('Threshold','dst', 0, 255, on_threshold)\n",
    "cv2.setTrackbarPos('Threshold', 'dst', 128)\n",
    "\n",
    "cv2.waitKey()\n",
    "cv2.destroyAllWindows()"
   ]
  },
  {
   "cell_type": "code",
   "execution_count": 7,
   "id": "0788a9db",
   "metadata": {},
   "outputs": [
    {
     "name": "stdout",
     "output_type": "stream",
     "text": [
      "otsu's threshhold :  131.0\n"
     ]
    }
   ],
   "source": [
    "src = cv2.imread('./rice.png', cv2.IMREAD_GRAYSCALE)\n",
    "\n",
    "if src is None:\n",
    "    print('Image Load Failed!')\n",
    "    sys.exit()\n",
    "    \n",
    "th, dst = cv2.threshold(src, 0, 255, cv2.THRESH_BINARY | cv2.THRESH_OTSU)\n",
    "print(\"otsu's threshhold : \", th)\n",
    "\n",
    "cv2.imshow('src', src)\n",
    "cv2.imshow('dst', dst)\n",
    "cv2.waitKey()\n",
    "cv2.destroyAllWindows()"
   ]
  },
  {
   "cell_type": "code",
   "execution_count": null,
   "id": "eb9bb88c",
   "metadata": {},
   "outputs": [],
   "source": []
  }
 ],
 "metadata": {
  "kernelspec": {
   "display_name": "Python 3 (ipykernel)",
   "language": "python",
   "name": "python3"
  },
  "language_info": {
   "codemirror_mode": {
    "name": "ipython",
    "version": 3
   },
   "file_extension": ".py",
   "mimetype": "text/x-python",
   "name": "python",
   "nbconvert_exporter": "python",
   "pygments_lexer": "ipython3",
   "version": "3.9.12"
  }
 },
 "nbformat": 4,
 "nbformat_minor": 5
}
