{
 "cells": [
  {
   "cell_type": "code",
   "execution_count": 1,
   "id": "04f5d811",
   "metadata": {},
   "outputs": [],
   "source": [
    "import tensorflow as tf"
   ]
  },
  {
   "cell_type": "code",
   "execution_count": 3,
   "id": "e45b3979",
   "metadata": {},
   "outputs": [
    {
     "data": {
      "text/plain": [
       "<tf.Tensor: shape=(2,), dtype=float32, numpy=array([0.5, 0.5], dtype=float32)>"
      ]
     },
     "execution_count": 3,
     "metadata": {},
     "output_type": "execute_result"
    }
   ],
   "source": [
    "# softmax에 입력되기 전의 값 : logit (로짓)\n",
    "tf.nn.softmax([1.0,1.0])"
   ]
  },
  {
   "cell_type": "code",
   "execution_count": 5,
   "id": "29e35c47",
   "metadata": {},
   "outputs": [
    {
     "data": {
      "text/plain": [
       "<tf.Tensor: shape=(3,), dtype=float32, numpy=array([0.33333334, 0.33333334, 0.33333334], dtype=float32)>"
      ]
     },
     "execution_count": 5,
     "metadata": {},
     "output_type": "execute_result"
    }
   ],
   "source": [
    "# 정수아닌 실수로 써줘야 오류를 유발하지 않음\n",
    "tf.nn.softmax([1.0,1.0,1.0])"
   ]
  },
  {
   "cell_type": "code",
   "execution_count": 8,
   "id": "52231b39",
   "metadata": {},
   "outputs": [
    {
     "data": {
      "text/plain": [
       "<tf.Tensor: shape=(3,), dtype=float32, numpy=array([0.5761169 , 0.21194157, 0.21194157], dtype=float32)>"
      ]
     },
     "execution_count": 8,
     "metadata": {},
     "output_type": "execute_result"
    }
   ],
   "source": [
    "# 특정로짓이 커질경우 나올확률을 더 올림\n",
    "tf.nn.softmax([2.0,1.0,1.0])"
   ]
  },
  {
   "cell_type": "code",
   "execution_count": 10,
   "id": "de4f563b",
   "metadata": {},
   "outputs": [
    {
     "data": {
      "text/plain": [
       "<tf.Tensor: shape=(3,), dtype=float32, numpy=array([0.09003057, 0.24472848, 0.66524094], dtype=float32)>"
      ]
     },
     "execution_count": 10,
     "metadata": {},
     "output_type": "execute_result"
    }
   ],
   "source": [
    "tf.nn.softmax([-1.0,0.0,1.0])"
   ]
  },
  {
   "cell_type": "code",
   "execution_count": 11,
   "id": "7e313983",
   "metadata": {},
   "outputs": [
    {
     "data": {
      "text/plain": [
       "<tf.Tensor: shape=(), dtype=float32, numpy=2.7182817>"
      ]
     },
     "execution_count": 11,
     "metadata": {},
     "output_type": "execute_result"
    }
   ],
   "source": [
    "# exp. 수학 e:2.718281\n",
    "tf.exp(1.0)\n",
    "# e의 1승 해준다는 뜻"
   ]
  },
  {
   "cell_type": "code",
   "execution_count": 12,
   "id": "5d1ec044",
   "metadata": {},
   "outputs": [
    {
     "data": {
      "text/plain": [
       "<tf.Tensor: shape=(), dtype=float32, numpy=20.085537>"
      ]
     },
     "execution_count": 12,
     "metadata": {},
     "output_type": "execute_result"
    }
   ],
   "source": [
    "# e의 3승\n",
    "tf.exp(3.0)"
   ]
  },
  {
   "cell_type": "code",
   "execution_count": 13,
   "id": "19df58ac",
   "metadata": {},
   "outputs": [
    {
     "data": {
      "text/plain": [
       "<tf.Tensor: shape=(), dtype=float32, numpy=1.0>"
      ]
     },
     "execution_count": 13,
     "metadata": {},
     "output_type": "execute_result"
    }
   ],
   "source": [
    "tf.exp(0.0)"
   ]
  },
  {
   "cell_type": "code",
   "execution_count": 14,
   "id": "8f48db7e",
   "metadata": {},
   "outputs": [
    {
     "data": {
      "text/plain": [
       "<tf.Tensor: shape=(), dtype=float32, numpy=0.36787945>"
      ]
     },
     "execution_count": 14,
     "metadata": {},
     "output_type": "execute_result"
    }
   ],
   "source": [
    "tf.exp(-1.0)"
   ]
  },
  {
   "cell_type": "code",
   "execution_count": 15,
   "id": "5267198b",
   "metadata": {},
   "outputs": [
    {
     "data": {
      "text/plain": [
       "<tf.Tensor: shape=(3,), dtype=float32, numpy=array([0.36787945, 1.        , 2.7182817 ], dtype=float32)>"
      ]
     },
     "execution_count": 15,
     "metadata": {},
     "output_type": "execute_result"
    }
   ],
   "source": [
    "tf.exp([-1.0,0.0,1.0])"
   ]
  },
  {
   "cell_type": "code",
   "execution_count": 16,
   "id": "9a2a2fc0",
   "metadata": {},
   "outputs": [
    {
     "data": {
      "text/plain": [
       "<tf.Tensor: shape=(), dtype=float32, numpy=4.086161>"
      ]
     },
     "execution_count": 16,
     "metadata": {},
     "output_type": "execute_result"
    }
   ],
   "source": [
    "tf.reduce_sum(tf.exp([-1.0,0.0,1.0]))"
   ]
  },
  {
   "cell_type": "code",
   "execution_count": 17,
   "id": "f0c16b4b",
   "metadata": {
    "scrolled": true
   },
   "outputs": [
    {
     "data": {
      "text/plain": [
       "<tf.Tensor: shape=(3,), dtype=float32, numpy=array([0.04201007, 0.11419521, 0.84379476], dtype=float32)>"
      ]
     },
     "execution_count": 17,
     "metadata": {},
     "output_type": "execute_result"
    }
   ],
   "source": [
    "tf.exp([-1.0,0.0,2.0]) / tf.reduce_sum(tf.exp([-1.0,0.0,2.0]))"
   ]
  },
  {
   "cell_type": "code",
   "execution_count": 21,
   "id": "f9af0e84",
   "metadata": {},
   "outputs": [
    {
     "data": {
      "text/plain": [
       "<tf.Tensor: shape=(3,), dtype=float32, numpy=array([0.04201007, 0.11419519, 0.8437947 ], dtype=float32)>"
      ]
     },
     "execution_count": 21,
     "metadata": {},
     "output_type": "execute_result"
    }
   ],
   "source": [
    "tf.nn.softmax([-1.0,0.0,2.0])"
   ]
  },
  {
   "cell_type": "code",
   "execution_count": 19,
   "id": "c53f2bce",
   "metadata": {},
   "outputs": [
    {
     "data": {
      "text/plain": [
       "<tf.Tensor: shape=(), dtype=float32, numpy=1.0>"
      ]
     },
     "execution_count": 19,
     "metadata": {},
     "output_type": "execute_result"
    }
   ],
   "source": [
    "tf.reduce_sum((tf.exp([-1.0,0.0,2.0])) / tf.reduce_sum(tf.exp([-1.0,0.0,2.0])))"
   ]
  },
  {
   "cell_type": "code",
   "execution_count": 20,
   "id": "a0c121c0",
   "metadata": {},
   "outputs": [
    {
     "data": {
      "text/plain": [
       "<tf.Tensor: shape=(3,), dtype=bool, numpy=array([False, False, False])>"
      ]
     },
     "execution_count": 20,
     "metadata": {},
     "output_type": "execute_result"
    }
   ],
   "source": [
    "tf.nn.softmax([-1.0,0.0,2.0]) == tf.exp([-1.0,0.0,2.0]) / tf.reduce_sum(tf.exp([-1.0,0.0,2.0]))"
   ]
  },
  {
   "cell_type": "markdown",
   "id": "8eec1753",
   "metadata": {},
   "source": [
    "## sigmoid 함수"
   ]
  },
  {
   "cell_type": "code",
   "execution_count": 22,
   "id": "0a0fe21c",
   "metadata": {},
   "outputs": [
    {
     "data": {
      "text/plain": [
       "<tf.Tensor: shape=(), dtype=float32, numpy=0.8807971>"
      ]
     },
     "execution_count": 22,
     "metadata": {},
     "output_type": "execute_result"
    }
   ],
   "source": [
    "tf.nn.sigmoid(2.0)"
   ]
  },
  {
   "cell_type": "code",
   "execution_count": 23,
   "id": "96e5d398",
   "metadata": {},
   "outputs": [
    {
     "data": {
      "text/plain": [
       "<tf.Tensor: shape=(2,), dtype=float32, numpy=array([0.11920291, 0.880797  ], dtype=float32)>"
      ]
     },
     "execution_count": 23,
     "metadata": {},
     "output_type": "execute_result"
    }
   ],
   "source": [
    "tf.nn.softmax([0.0,2.0])"
   ]
  },
  {
   "cell_type": "code",
   "execution_count": null,
   "id": "0a2b8190",
   "metadata": {},
   "outputs": [],
   "source": []
  }
 ],
 "metadata": {
  "kernelspec": {
   "display_name": "Python 3 (ipykernel)",
   "language": "python",
   "name": "python3"
  },
  "language_info": {
   "codemirror_mode": {
    "name": "ipython",
    "version": 3
   },
   "file_extension": ".py",
   "mimetype": "text/x-python",
   "name": "python",
   "nbconvert_exporter": "python",
   "pygments_lexer": "ipython3",
   "version": "3.9.13"
  }
 },
 "nbformat": 4,
 "nbformat_minor": 5
}
