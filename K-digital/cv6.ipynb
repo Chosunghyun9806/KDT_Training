{
 "cells": [
  {
   "cell_type": "code",
   "execution_count": 3,
   "id": "6619f2f0",
   "metadata": {},
   "outputs": [],
   "source": [
    "import sys\n",
    "import numpy as np\n",
    "import cv2"
   ]
  },
  {
   "cell_type": "markdown",
   "id": "8863bf3d",
   "metadata": {},
   "source": [
    "### 기본적인 함수를 이용한 명암 조절"
   ]
  },
  {
   "cell_type": "code",
   "execution_count": 1,
   "id": "835a0713",
   "metadata": {},
   "outputs": [
    {
     "ename": "NameError",
     "evalue": "name 'cv2' is not defined",
     "output_type": "error",
     "traceback": [
      "\u001b[1;31m---------------------------------------------------------------------------\u001b[0m",
      "\u001b[1;31mNameError\u001b[0m                                 Traceback (most recent call last)",
      "Input \u001b[1;32mIn [1]\u001b[0m, in \u001b[0;36m<cell line: 1>\u001b[1;34m()\u001b[0m\n\u001b[1;32m----> 1\u001b[0m src \u001b[38;5;241m=\u001b[39m \u001b[43mcv2\u001b[49m\u001b[38;5;241m.\u001b[39mimread(\u001b[38;5;124m'\u001b[39m\u001b[38;5;124m./image/lenna.bmp\u001b[39m\u001b[38;5;124m'\u001b[39m, cv2\u001b[38;5;241m.\u001b[39mIMREAD_GRAYSCALE)\n\u001b[0;32m      3\u001b[0m \u001b[38;5;28;01mif\u001b[39;00m src \u001b[38;5;129;01mis\u001b[39;00m \u001b[38;5;28;01mNone\u001b[39;00m:\n\u001b[0;32m      4\u001b[0m     \u001b[38;5;28mprint\u001b[39m(\u001b[38;5;124m'\u001b[39m\u001b[38;5;124mImage Load Failed !\u001b[39m\u001b[38;5;124m'\u001b[39m)\n",
      "\u001b[1;31mNameError\u001b[0m: name 'cv2' is not defined"
     ]
    }
   ],
   "source": [
    "src = cv2.imread('./image/lenna.bmp', cv2.IMREAD_GRAYSCALE)\n",
    "\n",
    "if src is None:\n",
    "    print('Image Load Failed !')\n",
    "    sys.exit()\n",
    "    \n",
    "alpha = 0.5\n",
    "dst = np.clip((1+alpha)*src - 128*alpha, 0, 255).astype(np.uint8)\n",
    "\n",
    "cv2.imshow('src', src)\n",
    "cv2.imshow('dst', dst)\n",
    "cv2.waitKey()\n",
    "cv2.destroyAllWindows()"
   ]
  },
  {
   "cell_type": "markdown",
   "id": "09c60732",
   "metadata": {},
   "source": [
    "### 히스토그램 스트레칭을 이용한 명암 조절"
   ]
  },
  {
   "cell_type": "code",
   "execution_count": 6,
   "id": "0bdbb3e6",
   "metadata": {},
   "outputs": [],
   "source": [
    "src = cv2.imread('./image/Hawkes.jpg', cv2.IMREAD_GRAYSCALE)\n",
    "\n",
    "if src is None:\n",
    "    print('Image Load Failed !')\n",
    "    sys.exit()\n",
    "    \n",
    "gmin, gmax, _, _ = cv2.minMaxLoc(src)\n",
    "dst = cv2.normalize(src, None, 0, 255, cv2.NORM_MINMAX)\n",
    "\n",
    "cv2.imshow('src', src)\n",
    "cv2.imshow('dst', dst)\n",
    "cv2.waitKey()\n",
    "cv2.destroyAllWindows()"
   ]
  },
  {
   "cell_type": "markdown",
   "id": "774a03ed",
   "metadata": {},
   "source": [
    "### 히스토그램 평활화를 이용한 명암 조절"
   ]
  },
  {
   "cell_type": "code",
   "execution_count": 8,
   "id": "eaa3153b",
   "metadata": {},
   "outputs": [],
   "source": [
    "src = cv2.imread('./image/Hawkes.jpg', cv2.IMREAD_GRAYSCALE)\n",
    "\n",
    "if src is None:\n",
    "    print('Image Load Failed !')\n",
    "    sys.exit()\n",
    "    \n",
    "dst = cv2.equalizeHist(src)\n",
    "\n",
    "cv2.imshow('src', src)\n",
    "cv2.imshow('dst', dst)\n",
    "cv2.waitKey()\n",
    "cv2.destroyAllWindows()"
   ]
  },
  {
   "cell_type": "markdown",
   "id": "2cd8f664",
   "metadata": {},
   "source": [
    "### 컬러 영상 히스토그램 평활화"
   ]
  },
  {
   "cell_type": "code",
   "execution_count": 12,
   "id": "30b529f8",
   "metadata": {
    "scrolled": false
   },
   "outputs": [],
   "source": [
    "src = cv2.imread('./image/field.bmp')\n",
    "\n",
    "if src is None:\n",
    "    print('Image Load Failed!')\n",
    "    sys.exit()\n",
    "    \n",
    "src_ycrcb = cv2.cvtColor(src, cv2.COLOR_BGR2YCrCb)\n",
    "ycrcb_planes = cv2.split(src_ycrcb)\n",
    "\n",
    "cv2.equalizeHist(ycrcb_planes[0], ycrcb_planes[0])\n",
    "\n",
    "#ycrcb_planes[0] = cv2.equalizeHist(ycrcb_planes[0])\n",
    "\n",
    "dst_ycrcb = cv2.merge(ycrcb_planes)\n",
    "dst = cv2.cvtColor(dst_ycrcb, cv2.COLOR_YCrCb2BGR)\n",
    "\n",
    "cv2.imshow('src', src)\n",
    "cv2.imshow('dst', dst)\n",
    "cv2.waitKey()\n",
    "cv2.destroyAllWindows()"
   ]
  },
  {
   "cell_type": "markdown",
   "id": "ffe39329",
   "metadata": {},
   "source": [
    "### 특정 색상 영역 추출"
   ]
  },
  {
   "cell_type": "code",
   "execution_count": 15,
   "id": "73f03fad",
   "metadata": {},
   "outputs": [],
   "source": [
    "src = cv2.imread('./image/candies.png')\n",
    "\n",
    "if src is None:\n",
    "    print('Image Load Failed!')\n",
    "    sys.exit()\n",
    "    \n",
    "src_hsv = cv2.cvtColor(src, cv2.COLOR_BGR2HSV)\n",
    "\n",
    "# cv2.inRange(src, (a1,b1,c1), (a2,b2,c2)) ->  a1 <= b <= a2 , b1 <= g <= b2 c1 <= b <= c2 의미함. \n",
    "dst1 = cv2.inRange(src, (0, 128, 0), (100, 255, 100))\n",
    "dst2 = cv2.inRange(src_hsv, (50, 150, 0), (80,255,255))\n",
    "\n",
    "cv2.imshow('src', src)\n",
    "cv2.imshow('dst1', dst1)\n",
    "cv2.imshow('dst2', dst2)\n",
    "cv2.waitKey()\n",
    "\n",
    "cv2.destroyAllWindows()"
   ]
  },
  {
   "cell_type": "markdown",
   "id": "07c3eed6",
   "metadata": {},
   "source": [
    "### 트랙바를 이용한 특정 색상 영역 추출"
   ]
  },
  {
   "cell_type": "code",
   "execution_count": 16,
   "id": "7b0b8a88",
   "metadata": {},
   "outputs": [
    {
     "ename": "error",
     "evalue": "OpenCV(4.6.0) D:\\a\\opencv-python\\opencv-python\\opencv\\modules\\highgui\\src\\window.cpp:862: error: (-215:Assertion failed) trackbar in function 'cv::getTrackbarPos'\n",
     "output_type": "error",
     "traceback": [
      "\u001b[1;31m---------------------------------------------------------------------------\u001b[0m",
      "\u001b[1;31merror\u001b[0m                                     Traceback (most recent call last)",
      "Input \u001b[1;32mIn [16]\u001b[0m, in \u001b[0;36mon_trackbar\u001b[1;34m(pos)\u001b[0m\n\u001b[0;32m      9\u001b[0m \u001b[38;5;28;01mdef\u001b[39;00m \u001b[38;5;21mon_trackbar\u001b[39m(pos):\n\u001b[0;32m     10\u001b[0m     hmin \u001b[38;5;241m=\u001b[39m cv2\u001b[38;5;241m.\u001b[39mgetTrackbarPos(\u001b[38;5;124m'\u001b[39m\u001b[38;5;124mH_min\u001b[39m\u001b[38;5;124m'\u001b[39m, \u001b[38;5;124m'\u001b[39m\u001b[38;5;124mdst\u001b[39m\u001b[38;5;124m'\u001b[39m)\n\u001b[1;32m---> 11\u001b[0m     hmax \u001b[38;5;241m=\u001b[39m \u001b[43mcv2\u001b[49m\u001b[38;5;241;43m.\u001b[39;49m\u001b[43mgetTrackbarPos\u001b[49m\u001b[43m(\u001b[49m\u001b[38;5;124;43m'\u001b[39;49m\u001b[38;5;124;43mH_max\u001b[39;49m\u001b[38;5;124;43m'\u001b[39;49m\u001b[43m,\u001b[49m\u001b[43m \u001b[49m\u001b[38;5;124;43m'\u001b[39;49m\u001b[38;5;124;43mdst\u001b[39;49m\u001b[38;5;124;43m'\u001b[39;49m\u001b[43m)\u001b[49m\n\u001b[0;32m     13\u001b[0m     dst \u001b[38;5;241m=\u001b[39m cv2\u001b[38;5;241m.\u001b[39minRange(src_hsv, (hmin, \u001b[38;5;241m150\u001b[39m, \u001b[38;5;241m0\u001b[39m), (hmax, \u001b[38;5;241m255\u001b[39m, \u001b[38;5;241m255\u001b[39m))\n\u001b[0;32m     14\u001b[0m     cv2\u001b[38;5;241m.\u001b[39mimshow(\u001b[38;5;124m'\u001b[39m\u001b[38;5;124mdst\u001b[39m\u001b[38;5;124m'\u001b[39m, dst)\n",
      "\u001b[1;31merror\u001b[0m: OpenCV(4.6.0) D:\\a\\opencv-python\\opencv-python\\opencv\\modules\\highgui\\src\\window.cpp:862: error: (-215:Assertion failed) trackbar in function 'cv::getTrackbarPos'\n"
     ]
    }
   ],
   "source": [
    "src = cv2.imread('./image/candies.png')\n",
    "\n",
    "if src is None:\n",
    "    print('Image Load Failed!')\n",
    "    sys.exit()\n",
    "    \n",
    "src_hsv = cv2.cvtColor(src, cv2.COLOR_BGR2HSV)\n",
    "\n",
    "def on_trackbar(pos):\n",
    "    hmin = cv2.getTrackbarPos('H_min', 'dst')\n",
    "    hmax = cv2.getTrackbarPos('H_max', 'dst')\n",
    "    \n",
    "    dst = cv2.inRange(src_hsv, (hmin, 150, 0), (hmax, 255, 255))\n",
    "    cv2.imshow('dst', dst)\n",
    "    \n",
    "cv2.imshow('src', src)\n",
    "cv2.namedWindow('dst')\n",
    "\n",
    "cv2.createTrackbar('H_min', 'dst', 50, 179, on_trackbar)\n",
    "cv2.createTrackbar('H_max', 'dst', 80, 179, on_trackbar)\n",
    "on_trackbar(0)\n",
    "\n",
    "cv2.waitKey()\n",
    "\n",
    "cv2.destroyAllWindows()"
   ]
  },
  {
   "cell_type": "code",
   "execution_count": 27,
   "id": "d833ecd0",
   "metadata": {},
   "outputs": [
    {
     "name": "stdout",
     "output_type": "stream",
     "text": [
      "frame_cnt1 -1\n",
      "frame_cnt2 353\n"
     ]
    }
   ],
   "source": [
    "#cap1 = cv2.VideoCapture('woman.mp4')\n",
    "cap1 = cv2.VideoCapture(0)\n",
    "\n",
    "if not cap1.isOpened():\n",
    "    print('Video Open Failed!')\n",
    "    sys.exit()\n",
    "    \n",
    "cap2 = cv2.VideoCapture('raining.mp4')\n",
    "\n",
    "if not cap2.isOpened():\n",
    "    print('Video Open Failed!')\n",
    "    sys.exit()\n",
    "    \n",
    "frame_cnt1 = round(cap1.get(cv2.CAP_PROP_FRAME_COUNT))\n",
    "frame_cnt2 = round(cap2.get(cv2.CAP_PROP_FRAME_COUNT))\n",
    "w = int(cap1.get(cv2.CAP_PROP_FRAME_WIDTH))\n",
    "h = int(cap1.get(cv2.CAP_PROP_FRAME_HEIGHT))\n",
    "print('frame_cnt1', frame_cnt1)\n",
    "print('frame_cnt2', frame_cnt2)\n",
    "\n",
    "fps = cap1.get(cv2.CAP_PROP_FPS)\n",
    "delay = int(1000/fps)\n",
    "\n",
    "do_composit = False\n",
    "\n",
    "while True:\n",
    "    ret1, frame1 = cap1.read()\n",
    "    if not ret1:\n",
    "        break\n",
    "        \n",
    "    if do_composit:\n",
    "        ret2, frame2 = cap2.read()\n",
    "        if not ret2:\n",
    "            break\n",
    "            \n",
    "        frame2 = cv2.resize(frame2, (w,h))\n",
    "        \n",
    "        hsv = cv2.cvtColor(frame1, cv2.COLOR_BGR2RGB)\n",
    "        # mask = cv2.inRange(hsv, (50,150,0), (70,255,255))\n",
    "        #mask = cv2.inRange(hsv, (50,70,0), (70,255,255))\n",
    "        mask = cv2.inRange(hsv, (0,50,100), (255,120,255))\n",
    "        cv2.copyTo(frame2, mask, frame1)\n",
    "        \n",
    "    cv2.imshow('frame', frame1)\n",
    "    key = cv2.waitKey(delay)\n",
    "        \n",
    "    if key == ord(' '):\n",
    "        do_composit = not do_composit\n",
    "    elif key == 27:\n",
    "        break \n",
    "\n",
    "cap1.release()\n",
    "cap2.release()\n",
    "cv2.destroyAllWindows()"
   ]
  },
  {
   "cell_type": "code",
   "execution_count": null,
   "id": "694c2ecd",
   "metadata": {},
   "outputs": [],
   "source": []
  },
  {
   "cell_type": "raw",
   "id": "ec4e95ab",
   "metadata": {},
   "source": []
  }
 ],
 "metadata": {
  "kernelspec": {
   "display_name": "Python 3 (ipykernel)",
   "language": "python",
   "name": "python3"
  },
  "language_info": {
   "codemirror_mode": {
    "name": "ipython",
    "version": 3
   },
   "file_extension": ".py",
   "mimetype": "text/x-python",
   "name": "python",
   "nbconvert_exporter": "python",
   "pygments_lexer": "ipython3",
   "version": "3.9.12"
  }
 },
 "nbformat": 4,
 "nbformat_minor": 5
}
