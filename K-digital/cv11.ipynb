{
 "cells": [
  {
   "cell_type": "code",
   "execution_count": 1,
   "id": "f6276c98",
   "metadata": {},
   "outputs": [],
   "source": [
    "import sys\n",
    "import numpy as np\n",
    "import cv2"
   ]
  },
  {
   "cell_type": "code",
   "execution_count": 6,
   "id": "fb27ca93",
   "metadata": {},
   "outputs": [],
   "source": [
    "src = cv2.imread('./rice.png', cv2.IMREAD_GRAYSCALE)\n",
    "\n",
    "if src is None:\n",
    "    print('Image Load Failed!')\n",
    "    sys.exit()\n",
    "    \n",
    "_, dst1 = cv2.threshold(src, 0, 255, cv2.THRESH_BINARY | cv2.THRESH_OTSU)\n",
    "\n",
    "dst2 = np.zeros(src.shape, np.uint8)\n",
    "\n",
    "bw = src.shape[1] // 4\n",
    "bh = src.shape[0] // 4\n",
    "\n",
    "for y in range(4):\n",
    "    for x in range(4):\n",
    "        src_ = src[y*bh:(y+1)*bh, x*bw:(x+1)*bw]\n",
    "        dst_ = dst2[y*bh:(y+1)*bh, x*bw:(x+1)*bw]\n",
    "        cv2.threshold(src_, 0, 255, cv2.THRESH_BINARY | cv2.THRESH_OTSU, dst_)\n",
    "        \n",
    "cv2.imshow('src', src)\n",
    "cv2.imshow('dst1', dst1)\n",
    "cv2.imshow('dst2', dst2)\n",
    "cv2.waitKey()\n",
    "cv2.destroyAllWindows()"
   ]
  },
  {
   "cell_type": "code",
   "execution_count": 7,
   "id": "4ea682d5",
   "metadata": {},
   "outputs": [],
   "source": [
    "src = cv2.imread('./sudoku.jpg', cv2.IMREAD_GRAYSCALE)\n",
    "\n",
    "if src is None:\n",
    "    print('Image Load Failed!')\n",
    "    sys.exit()\n",
    "    \n",
    "_, dst1 = cv2.threshold(src, 0, 255, cv2.THRESH_BINARY | cv2.THRESH_OTSU)\n",
    "\n",
    "dst2 = np.zeros(src.shape, np.uint8)\n",
    "\n",
    "bw = src.shape[1] // 4\n",
    "bh = src.shape[0] // 4\n",
    "\n",
    "for y in range(4):\n",
    "    for x in range(4):\n",
    "        src_ = src[y*bh:(y+1)*bh, x*bw:(x+1)*bw]\n",
    "        dst_ = dst2[y*bh:(y+1)*bh, x*bw:(x+1)*bw]\n",
    "        cv2.threshold(src_, 0, 255, cv2.THRESH_BINARY | cv2.THRESH_OTSU, dst_)\n",
    "        \n",
    "cv2.imshow('src', src)\n",
    "cv2.imshow('dst1', dst1)\n",
    "cv2.imshow('dst2', dst2)\n",
    "cv2.waitKey()\n",
    "cv2.destroyAllWindows()"
   ]
  },
  {
   "cell_type": "code",
   "execution_count": 8,
   "id": "7c6a87c3",
   "metadata": {},
   "outputs": [],
   "source": [
    "src = cv2.imread('./sudoku.jpg', cv2.IMREAD_GRAYSCALE)\n",
    "\n",
    "if src is None:\n",
    "    print('Image Load Failed!')\n",
    "    sys.exit()\n",
    "    \n",
    "def on_trackbar(pos):\n",
    "    bsize = pos\n",
    "    if bsize % 2 == 0:\n",
    "        bsize = bsize - 1\n",
    "    if bsize < 3:\n",
    "        bsize = 3\n",
    "        \n",
    "    dst = cv2.adaptiveThreshold(src, 255, cv2.ADAPTIVE_THRESH_GAUSSIAN_C,\n",
    "                               cv2.THRESH_BINARY, bsize, 5)\n",
    "    \n",
    "    cv2.imshow('dst', dst)\n",
    "    \n",
    "cv2.imshow('src', src)\n",
    "cv2.namedWindow('dst')\n",
    "cv2.createTrackbar('Block Size', 'dst', 0, 200, on_trackbar)\n",
    "cv2.setTrackbarPos('Block Size', 'dst', 11)\n",
    "\n",
    "cv2.waitKey()\n",
    "cv2.destroyAllWindows()"
   ]
  },
  {
   "cell_type": "code",
   "execution_count": null,
   "id": "df78f4c2",
   "metadata": {},
   "outputs": [],
   "source": []
  }
 ],
 "metadata": {
  "kernelspec": {
   "display_name": "Python 3 (ipykernel)",
   "language": "python",
   "name": "python3"
  },
  "language_info": {
   "codemirror_mode": {
    "name": "ipython",
    "version": 3
   },
   "file_extension": ".py",
   "mimetype": "text/x-python",
   "name": "python",
   "nbconvert_exporter": "python",
   "pygments_lexer": "ipython3",
   "version": "3.9.12"
  }
 },
 "nbformat": 4,
 "nbformat_minor": 5
}
