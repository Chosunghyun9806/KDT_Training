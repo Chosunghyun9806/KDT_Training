{
 "cells": [
  {
   "cell_type": "code",
   "execution_count": 25,
   "id": "baeab77e",
   "metadata": {},
   "outputs": [],
   "source": [
    "import sys\n",
    "import cv2\n",
    "import numpy as np"
   ]
  },
  {
   "cell_type": "code",
   "execution_count": 12,
   "id": "5dd6f0e0",
   "metadata": {},
   "outputs": [],
   "source": [
    "src = cv2.imread('airplane.bmp', cv2.IMREAD_COLOR)\n",
    "mask = cv2.imread(\"mask_plane.bmp\", cv2.IMREAD_GRAYSCALE)\n",
    "dst = cv2.imread('field.bmp', cv2.IMREAD_COLOR)\n",
    "\n",
    "if src is None or mask is None or dst is None:\n",
    "    print('Image load failed!')\n",
    "    sys.exit()\n",
    "\n",
    "# src에서 mask만큼 잘라서 dst에 삽입\n",
    "cv2.copyTo(src, mask, dst)\n",
    "\n",
    "cv2.imshow('src', src)\n",
    "cv2.imshow('dst', dst)\n",
    "cv2.imshow('mask', mask)\n",
    "cv2.waitKey()\n",
    "cv2.destroyAllWindows()"
   ]
  },
  {
   "cell_type": "code",
   "execution_count": 10,
   "id": "da4e74c0",
   "metadata": {},
   "outputs": [],
   "source": [
    "src = cv2.imread('cat.bmp', cv2.IMREAD_COLOR)\n",
    "# cv2.IMREAD_UNCHANGED로 4채널 영상을 불러올 때 이용\n",
    "logo = cv2.imread('opencv-logo-white.png', cv2.IMREAD_UNCHANGED)\n",
    "\n",
    "if src is None or logo is None:\n",
    "    print('Image load failed')\n",
    "    sys.exit()\n",
    "\n",
    "# mask는 알파 채널로 만든 마스크 영상\n",
    "# 그레이스케일이어야 하므로 3마지막 값만 갖고 와서 1차원으로 만들어준다.\n",
    "mask = logo[:,:,3] \n",
    "logo = logo[:,:,:-1] # b,g,r 3채널로 구성된 컬러 영상\n",
    "h, w = mask.shape[:2]\n",
    "crop = src[10:10+h, 10:10+w] # logo, mask와 같은 크기의 부분 영상 추출\n",
    "\n",
    "cv2.copyTo(logo, mask, crop)\n",
    "\n",
    "cv2.imshow('src', src)\n",
    "cv2.imshow('logo', logo)\n",
    "cv2.imshow('mask', mask)\n",
    "cv2.waitKey()\n",
    "cv2.destroyAllWindows()"
   ]
  },
  {
   "cell_type": "code",
   "execution_count": 28,
   "id": "2acb4bf9",
   "metadata": {},
   "outputs": [],
   "source": [
    "img = np.full((400,400,3), 255, np.uint8)\n",
    "\n",
    "cv2.line(img, (50,50), (200,50), (0,0,255), 5)\n",
    "cv2.line(img, (50,50), (150,160), (0,0,128))\n",
    "\n",
    "cv2.rectangle(img, (50,200,150,100), (0,255,0,), 2)\n",
    "cv2.rectangle(img, (70,220), (180,280), (0, 128, 0), -1)\n",
    "\n",
    "cv2.circle(img, (300,100), 30, (255,255,0), -1, cv2.LINE_AA)\n",
    "cv2.circle(img, (300,100), 60, (255,0,0), 3, cv2.LINE_AA)\n",
    "\n",
    "pts = np.array([[250,200],[300,200],[350,300],[250,300]])\n",
    "cv2.polylines(img, [pts], True, (255,0,255), 2)\n",
    "\n",
    "text = 'Hello? OpenCV' + cv2.__version__\n",
    "cv2.putText(img, text, (50,350), cv2.FONT_HERSHEY_DUPLEX, 0.8,\n",
    "           (0,0,255), 1, cv2.LINE_AA)\n",
    "\n",
    "cv2.imshow('img', img)\n",
    "\n",
    "cv2.waitKey()\n",
    "cv2.destroyAllWindows()"
   ]
  },
  {
   "cell_type": "code",
   "execution_count": 3,
   "id": "3a2bff53",
   "metadata": {},
   "outputs": [
    {
     "name": "stdout",
     "output_type": "stream",
     "text": [
      "Frame width 640\n",
      "Frame height 480\n"
     ]
    }
   ],
   "source": [
    "cap = cv2.VideoCapture(0)\n",
    "\n",
    "if not cap.isOpened():\n",
    "    print('Camera open failed!')\n",
    "    sys.exit()\n",
    "    \n",
    "print('Frame width', int(cap.get(cv2.CAP_PROP_FRAME_WIDTH)))\n",
    "print('Frame height', int(cap.get(cv2.CAP_PROP_FRAME_HEIGHT)))\n",
    "\n",
    "# 크기 변경\n",
    "cap.set((cv2.CAP_PROP_FRAME_WIDTH), 800)\n",
    "cap.set((cv2.CAP_PROP_FRAME_HEIGHT), 600)\n",
    "\n",
    "while True:\n",
    "    ret, frame = cap.read()\n",
    "    \n",
    "    inversed = ~frame\n",
    "    \n",
    "    if not ret:\n",
    "        break\n",
    "        \n",
    "    cv2.imshow('frame', frame)\n",
    "    cv2.imshow('inversed', inversed)\n",
    "    \n",
    "    # 27번 -> ESC 키\n",
    "    if cv2.waitKey(10) == 27:\n",
    "        break\n",
    "        \n",
    "cap.release()\n",
    "cv2.destroyAllWindows()"
   ]
  },
  {
   "cell_type": "code",
   "execution_count": 11,
   "id": "76f9d522",
   "metadata": {
    "scrolled": true
   },
   "outputs": [
    {
     "name": "stdout",
     "output_type": "stream",
     "text": [
      "Frame width 1280\n",
      "Frame height 720\n",
      "Frame count 85\n",
      "FPS 24.0\n"
     ]
    }
   ],
   "source": [
    "cap = cv2.VideoCapture('video1.mp4')\n",
    "\n",
    "if not cap.isOpened():\n",
    "    print(\"Video open failed!\")\n",
    "    sys.exit()\n",
    "    \n",
    "print('Frame width', int(cap.get(cv2.CAP_PROP_FRAME_WIDTH)))\n",
    "print('Frame height', int(cap.get(cv2.CAP_PROP_FRAME_HEIGHT)))\n",
    "print('Frame count', int(cap.get(cv2.CAP_PROP_FRAME_COUNT)))\n",
    "\n",
    "fps = cap.get(cv2.CAP_PROP_FPS)\n",
    "print('FPS', fps)\n",
    "\n",
    "delay = round(1000/fps)\n",
    "              \n",
    "while True:\n",
    "    ret, frame = cap.read()\n",
    "    \n",
    "    if not ret:\n",
    "        break\n",
    "        \n",
    "    cv2.imshow('frame',frame)\n",
    "    \n",
    "    # 27번 -> ESC 키\n",
    "    if cv2.waitKey(50) == 27:\n",
    "        break\n",
    "        \n",
    "cap.release()\n",
    "cv2.destroyAllWindows()"
   ]
  },
  {
   "cell_type": "markdown",
   "id": "dae6a667",
   "metadata": {},
   "source": [
    "## 영상녹화"
   ]
  },
  {
   "cell_type": "code",
   "execution_count": 17,
   "id": "6bcb1f2a",
   "metadata": {},
   "outputs": [],
   "source": [
    "cap = cv2.VideoCapture(0)\n",
    "\n",
    "if not cap.isOpened():\n",
    "    print(\"Video open failed!\")\n",
    "    sys.exit()\n",
    "    \n",
    "w = round(cap.get(cv2.CAP_PROP_FRAME_WIDTH))\n",
    "h = round(cap.get(cv2.CAP_PROP_FRAME_HEIGHT))\n",
    "fps = cap.get(cv2.CAP_PROP_FPS)\n",
    "\n",
    "fourcc = cv2.VideoWriter_fourcc(*'DIVX')\n",
    "delay = round(1000/fps)\n",
    "\n",
    "out = cv2.VideoWriter('output.avi', fourcc, fps, (w,h))\n",
    "\n",
    "if not out.isOpened():\n",
    "    print('File open failed!')\n",
    "    cap.release()\n",
    "    sys.exit()\n",
    "    \n",
    "while True:\n",
    "    ret, frame = cap.read()\n",
    "    \n",
    "    if not ret:\n",
    "        break\n",
    "        \n",
    "    inversed = ~frame\n",
    "    \n",
    "    out.write(frame)\n",
    "        \n",
    "    cv2.imshow('frame',frame)\n",
    "    cv2.imshow('inversed',inversed)\n",
    "    \n",
    "    # 27번 -> ESC 키 13(ENTER) 9(TAB)\n",
    "    if cv2.waitKey(50) == 27:\n",
    "        break\n",
    "        \n",
    "cap.release()\n",
    "out.release()\n",
    "cv2.destroyAllWindows()"
   ]
  },
  {
   "cell_type": "markdown",
   "id": "b0a6c367",
   "metadata": {},
   "source": [
    "#### 그림그리기"
   ]
  },
  {
   "cell_type": "code",
   "execution_count": 20,
   "id": "91e018fe",
   "metadata": {
    "scrolled": true
   },
   "outputs": [
    {
     "name": "stdout",
     "output_type": "stream",
     "text": [
      "EVENT_LBUTTONDWON 311 358\n",
      "EVENT_LBUTTONDWON 303 351\n",
      "EVENT_LBUTTONDWON 273 182\n",
      "EVENT_LBUTTONDWON 271 176\n",
      "EVENT_LBUTTONDWON 272 239\n",
      "EVENT_LBUTTONDWON 272 237\n",
      "EVENT_LBUTTONDWON 328 236\n",
      "EVENT_LBUTTONDWON 328 239\n",
      "EVENT_LBUTTONDWON 230 243\n",
      "EVENT_LBUTTONDWON 361 244\n",
      "EVENT_LBUTTONDWON 105 34\n",
      "EVENT_LBUTTONDWON 103 38\n",
      "EVENT_LBUTTONDWON 532 35\n",
      "EVENT_LBUTTONDWON 526 34\n",
      "EVENT_LBUTTONDWON 304 13\n",
      "EVENT_LBUTTONDWON 303 21\n",
      "EVENT_LBUTTONDWON 541 118\n",
      "EVENT_LBUTTONDWON 534 120\n",
      "EVENT_LBUTTONDWON 47 405\n",
      "EVENT_LBUTTONDWON 42 433\n",
      "EVENT_LBUTTONDWON 69 433\n",
      "EVENT_LBUTTONDWON 100 429\n",
      "EVENT_LBUTTONDWON 114 398\n",
      "EVENT_LBUTTONDWON 115 434\n",
      "EVENT_LBUTTONDWON 127 401\n",
      "EVENT_LBUTTONDWON 144 426\n",
      "EVENT_LBUTTONDWON 154 402\n",
      "EVENT_LBUTTONDWON 166 401\n",
      "EVENT_LBUTTONDWON 160 409\n",
      "EVENT_LBUTTONDWON 170 409\n",
      "EVENT_LBUTTONDWON 155 403\n",
      "EVENT_LBUTTONDWON 178 425\n",
      "EVENT_LBUTTONDWON 459 435\n",
      "EVENT_LBUTTONDWON 578 399\n",
      "EVENT_LBUTTONDWON 548 382\n",
      "EVENT_LBUTTONDWON 556 388\n",
      "EVENT_LBUTTONDWON 107 400\n",
      "EVENT_LBUTTONDWON 123 401\n",
      "EVENT_LBUTTONDWON 111 433\n",
      "EVENT_LBUTTONDWON 119 432\n"
     ]
    }
   ],
   "source": [
    "oldx = oldy = -1\n",
    "def on_mouse(event, x, y, flags, param):\n",
    "    global oldx, oldy\n",
    "    \n",
    "    if event == cv2.EVENT_LBUTTONDOWN:\n",
    "        oldx, oldy = x,y\n",
    "        print('EVENT_LBUTTONDWON %d %d' %(x,y))\n",
    "        \n",
    "    elif event == cv2.EVENT_LBUTTONUP:\n",
    "        oldx, oldy = x,y\n",
    "        print('EVENT_LBUTTONDWON %d %d' %(x,y))\n",
    "        \n",
    "    elif event == cv2.EVENT_MOUSEMOVE:\n",
    "        if flags & cv2.EVENT_FLAG_LBUTTON:\n",
    "            cv2.line(img, (oldx, oldy), (x,y), (255, 120, 0), 3, cv2.LINE_AA)\n",
    "            cv2.imshow('image', img)\n",
    "            oldx, oldy = x,y\n",
    "\n",
    "img = np.ones((480, 640, 3), dtype=np.uint8) * 255\n",
    "\n",
    "cv2.namedWindow('image')\n",
    "cv2.setMouseCallback('image', on_mouse, img)\n",
    "\n",
    "cv2.imshow('image', img)\n",
    "cv2.waitKey()\n",
    "\n",
    "cv2.destroyAllWindows()"
   ]
  },
  {
   "cell_type": "markdown",
   "id": "6b76dd15",
   "metadata": {},
   "source": [
    "## 트랙바 사용하기"
   ]
  },
  {
   "cell_type": "code",
   "execution_count": 24,
   "id": "69d81a31",
   "metadata": {},
   "outputs": [],
   "source": [
    "def on_level_change(pos):\n",
    "    value = pos * 16\n",
    "    if value >= 255:\n",
    "        value = 255\n",
    "        \n",
    "    img[:] = value\n",
    "    cv2.imshow('image', img)\n",
    "    \n",
    "img = np.zeros((480,640), np.uint8)\n",
    "cv2.namedWindow('image')\n",
    "cv2.createTrackbar('level','image',0,16,on_level_change)\n",
    "\n",
    "cv2.imshow('image', img)\n",
    "cv2.waitKey()\n",
    "cv2.destroyAllWindows()"
   ]
  },
  {
   "cell_type": "markdown",
   "id": "98596a66",
   "metadata": {},
   "source": [
    "## 마우스 이벤트"
   ]
  },
  {
   "cell_type": "code",
   "execution_count": 30,
   "id": "fe1e737b",
   "metadata": {},
   "outputs": [],
   "source": [
    "def mouseHandler(event, x, y, flags, param):\n",
    "    if event == cv2.EVENT_LBUTTONDOWN:\n",
    "        if flags & cv2.EVENT_FLAG_CTRLKEY:\n",
    "            cv2.rectangle(img, (x,y), (x+20,y+20), (0,0,255), -1)\n",
    "        else:\n",
    "            cv2.rectangle(img, (x,y), (x+20,y+20), (0,255,0), 2)\n",
    "    elif event == cv2.EVENT_RBUTTONDOWN:\n",
    "        cv2.circle(img, (x,y), 10, (255,0,0), 2)\n",
    "    elif event == cv2.EVENT_LBUTTONDBLCLK:\n",
    "        cv2.circle(img, (x,y), 20, (255,0,0), -1)\n",
    "        \n",
    "img = np.full((512,512,3), 255, dtype = np.uint8)\n",
    "cv2.namedWindow('image')\n",
    "cv2.setMouseCallback('image', mouseHandler)\n",
    "\n",
    "while(1):\n",
    "    cv2.imshow('image', img)\n",
    "    if cv2.waitKey(20) & 0xFF == 27:\n",
    "        break\n",
    "        \n",
    "cv2.destroyAllWindows()"
   ]
  },
  {
   "cell_type": "markdown",
   "id": "6acbb4e7",
   "metadata": {},
   "source": [
    "## 트랙바만들기 2"
   ]
  },
  {
   "cell_type": "code",
   "execution_count": 33,
   "id": "f7bbbe3c",
   "metadata": {},
   "outputs": [],
   "source": [
    "img = np.zeros((200,500,3), np.uint8)\n",
    "cv2.namedWindow('image')\n",
    "\n",
    "def set_background(x):\n",
    "    global img\n",
    "    r = cv2.getTrackbarPos('Red', 'image')\n",
    "    g = cv2.getTrackbarPos('Green', 'image')\n",
    "    b = cv2.getTrackbarPos('Blue', 'image')\n",
    "    s = cv2.getTrackbarPos('0 or 1', 'image')\n",
    "    if s == 0:\n",
    "        img[:] = 0\n",
    "    else:\n",
    "        img[:] = [b,g,r]\n",
    "        \n",
    "cv2.createTrackbar('Red', 'image', 0, 255, set_background)\n",
    "cv2.createTrackbar('Green', 'image', 0, 255, set_background)\n",
    "cv2.createTrackbar('Blue', 'image', 0, 255, set_background)\n",
    "cv2.createTrackbar('0 or 1', 'image', 0, 255, set_background)\n",
    "\n",
    "while(1):\n",
    "    cv2.imshow('image', img)\n",
    "    k = cv2.waitKey(1) & 0xFF\n",
    "    if k == 27:\n",
    "        break\n",
    "        \n",
    "cv2.destroyAllWindows()"
   ]
  },
  {
   "cell_type": "code",
   "execution_count": null,
   "id": "e1227c07",
   "metadata": {},
   "outputs": [],
   "source": []
  }
 ],
 "metadata": {
  "kernelspec": {
   "display_name": "Python 3 (ipykernel)",
   "language": "python",
   "name": "python3"
  },
  "language_info": {
   "codemirror_mode": {
    "name": "ipython",
    "version": 3
   },
   "file_extension": ".py",
   "mimetype": "text/x-python",
   "name": "python",
   "nbconvert_exporter": "python",
   "pygments_lexer": "ipython3",
   "version": "3.9.12"
  }
 },
 "nbformat": 4,
 "nbformat_minor": 5
}
