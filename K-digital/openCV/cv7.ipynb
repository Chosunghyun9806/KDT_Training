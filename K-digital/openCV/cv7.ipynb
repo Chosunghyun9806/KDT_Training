{
 "cells": [
  {
   "cell_type": "code",
   "execution_count": 1,
   "id": "654de5b6",
   "metadata": {},
   "outputs": [],
   "source": [
    "import sys\n",
    "import numpy as np\n",
    "import cv2"
   ]
  },
  {
   "cell_type": "markdown",
   "id": "d9901eb6",
   "metadata": {},
   "source": [
    "### 필터링(블러링 : 평균값 필터)"
   ]
  },
  {
   "cell_type": "code",
   "execution_count": 7,
   "id": "9ec1aa05",
   "metadata": {},
   "outputs": [],
   "source": [
    "src = cv2.imread('./image/rose.bmp', cv2.IMREAD_GRAYSCALE)\n",
    "\n",
    "if src is None:\n",
    "    print(\"Image Load Failed!\")\n",
    "    sys.exit()\n",
    "    \n",
    "cv2.imshow('src', src)\n",
    "\n",
    "# 3x3,5x5,7x7로 표현\n",
    "for ksize in (3,5,7):\n",
    "    dst = cv2.blur(src, (ksize, ksize))\n",
    "    \n",
    "    desc = 'Mean {}x{}'.format(ksize,ksize)\n",
    "    cv2.putText(dst,desc,(10,30),cv2.FONT_HERSHEY_SIMPLEX,\n",
    "               1.0, 255, 1, cv2.LINE_AA)\n",
    "    \n",
    "    cv2.imshow('dst', dst)\n",
    "    cv2.waitKey()\n",
    "    \n",
    "cv2.destroyAllWindows()"
   ]
  },
  {
   "cell_type": "code",
   "execution_count": 6,
   "id": "e35706d2",
   "metadata": {},
   "outputs": [],
   "source": [
    "src = cv2.imread('./image/rose.bmp', cv2.IMREAD_GRAYSCALE)\n",
    "\n",
    "if src is None:\n",
    "    print(\"Image Load Failed!\")\n",
    "    sys.exit()\n",
    "    \n",
    "dst = cv2.blur(src, (3,3))\n",
    "\n",
    "cv2.imshow('src', src)\n",
    "cv2.imshow('dst', dst)\n",
    "cv2.waitKey()\n",
    "\n",
    "cv2.destroyAllWindows()"
   ]
  },
  {
   "cell_type": "markdown",
   "id": "ff00fd6d",
   "metadata": {},
   "source": [
    "### 필터링(블러링 : 가우시안 필터)"
   ]
  },
  {
   "cell_type": "code",
   "execution_count": 8,
   "id": "b1e71960",
   "metadata": {},
   "outputs": [],
   "source": [
    "src = cv2.imread('./image/rose.bmp', cv2.IMREAD_GRAYSCALE)\n",
    "\n",
    "if src is None:\n",
    "    print(\"Image Load Failed!\")\n",
    "    sys.exit()\n",
    "    \n",
    "dst = cv2.GaussianBlur(src, (0,0), 3)\n",
    "dst2 = cv2.blur(src, (7,7))\n",
    "\n",
    "cv2.imshow('src', src)\n",
    "cv2.imshow('dst', dst)\n",
    "cv2.imshow('dst2', dst2)\n",
    "cv2.waitKey()\n",
    "\n",
    "cv2.destroyAllWindows()"
   ]
  },
  {
   "cell_type": "code",
   "execution_count": null,
   "id": "752d75f2",
   "metadata": {},
   "outputs": [],
   "source": [
    "src = cv2.imread('./image/rose.bmp', cv2.IMREAD_GRAYSCALE)\n",
    "\n",
    "if src is None:\n",
    "    print(\"Image Load Failed!\")\n",
    "    sys.exit()\n",
    "    \n",
    "cv2.imshow('src', src)\n",
    "\n",
    "for sigma in range(1,6):\n",
    "    dst = cv2.GaussianBlur(src, (0,0), sigma)\n",
    "    \n",
    "    desc = 'sigma = {}'.format(sigma)\n",
    "    cv2.putText(dst, desc, (10,30), cv2.FONT_HERSHEY_SIMPLEX,\n",
    "               1.0, 255, 1, cv2.LINE_AA)\n",
    "    \n",
    "    cv2.imshow('dst', dst)\n",
    "    cv2.waitKey()\n",
    "    \n",
    "cv2.destroyAllWindows()"
   ]
  },
  {
   "cell_type": "markdown",
   "id": "c7e1ddd6",
   "metadata": {},
   "source": [
    "### 필터링(샤프팅 : 언샤프 마스크 필터)"
   ]
  },
  {
   "cell_type": "code",
   "execution_count": 9,
   "id": "73e9b8b2",
   "metadata": {},
   "outputs": [],
   "source": [
    "src = cv2.imread('./image/rose.bmp', cv2.IMREAD_GRAYSCALE)\n",
    "\n",
    "if src is None:\n",
    "    print(\"Image Load Failed!\")\n",
    "    sys.exit()\n",
    "    \n",
    "blr = cv2.GaussianBlur(src, (0,0), 3)\n",
    "dst = np.clip(2.0*src - blr, 0, 255).astype(np.uint8)\n",
    "\n",
    "cv2.imshow('src', src)\n",
    "cv2.imshow('dst', dst)\n",
    "cv2.waitKey()\n",
    "\n",
    "cv2.destroyAllWindows()"
   ]
  },
  {
   "cell_type": "markdown",
   "id": "da13ac9e",
   "metadata": {},
   "source": [
    "### 컬러 영상에 대한 언샤프 마스크 필터 구현하기"
   ]
  },
  {
   "cell_type": "code",
   "execution_count": 18,
   "id": "91b94a3d",
   "metadata": {},
   "outputs": [],
   "source": [
    "src = cv2.imread('./image/rose.bmp')\n",
    "\n",
    "if src is None:\n",
    "    print(\"Image Load Failed!\")\n",
    "    sys.exit()\n",
    "    \n",
    "dst_yrbg = cv2.cvtColor(src, cv2.COLOR_RGB2YCrCb)\n",
    "\n",
    "dst_f = dst_yrbg[:,:,0].astype(np.float32)\n",
    "blr = cv2.GaussianBlur(dst_f, (0,0), 2.0)\n",
    "dst_yrbg[:,:,0] = np.clip(2. * dst_f - blr, 0, 255).astype(np.uint8)\n",
    "\n",
    "dst = cv2.cvtColor(dst_yrbg, cv2.COLOR_YCrCb2RGB)\n",
    "\n",
    "cv2.imshow('src', src)\n",
    "cv2.imshow('dst', dst)\n",
    "cv2.waitKey()\n",
    "\n",
    "cv2.destroyAllWindows()"
   ]
  },
  {
   "cell_type": "markdown",
   "id": "c777522d",
   "metadata": {},
   "source": [
    "### 필터링(잡음 제거 : 미디언 필터)"
   ]
  },
  {
   "cell_type": "code",
   "execution_count": 25,
   "id": "b1af0d8a",
   "metadata": {},
   "outputs": [],
   "source": [
    "src = cv2.imread('./image/noise.bmp', cv2.IMREAD_GRAYSCALE)\n",
    "\n",
    "if src is None:\n",
    "    print(\"Image Load Failed!\")\n",
    "    sys.exit()\n",
    "    \n",
    "dst = cv2.medianBlur(src, 3)\n",
    "\n",
    "cv2.imshow('src', src)\n",
    "cv2.imshow('dst', dst)\n",
    "cv2.waitKey()\n",
    "\n",
    "cv2.destroyAllWindows()"
   ]
  },
  {
   "cell_type": "markdown",
   "id": "23c743e5",
   "metadata": {},
   "source": [
    "### 필터링(잡음 제거 : 양방향 필터)"
   ]
  },
  {
   "cell_type": "code",
   "execution_count": 31,
   "id": "f05601d5",
   "metadata": {},
   "outputs": [],
   "source": [
    "src = cv2.imread('./image/lenna.bmp')\n",
    "\n",
    "if src is None:\n",
    "    print(\"Image Load Failed!\")\n",
    "    sys.exit()\n",
    "    \n",
    "dst = cv2.bilateralFilter(src, -1, 10, 5)\n",
    "\n",
    "cv2.imshow('src', src)\n",
    "cv2.imshow('dst', dst)\n",
    "cv2.waitKey()\n",
    "\n",
    "cv2.destroyAllWindows()"
   ]
  }
 ],
 "metadata": {
  "kernelspec": {
   "display_name": "Python 3 (ipykernel)",
   "language": "python",
   "name": "python3"
  },
  "language_info": {
   "codemirror_mode": {
    "name": "ipython",
    "version": 3
   },
   "file_extension": ".py",
   "mimetype": "text/x-python",
   "name": "python",
   "nbconvert_exporter": "python",
   "pygments_lexer": "ipython3",
   "version": "3.9.12"
  }
 },
 "nbformat": 4,
 "nbformat_minor": 5
}
