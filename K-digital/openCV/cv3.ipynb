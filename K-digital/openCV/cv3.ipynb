{
 "cells": [
  {
   "cell_type": "code",
   "execution_count": 8,
   "id": "3d84f250",
   "metadata": {},
   "outputs": [],
   "source": [
    "import numpy as np\n",
    "import cv2"
   ]
  },
  {
   "cell_type": "code",
   "execution_count": 5,
   "id": "e5eddb09",
   "metadata": {},
   "outputs": [],
   "source": [
    "img1 = np.empty((240,320), dtype=np.uint8)\n",
    "img2 = np.zeros((240, 320, 3), dtype=np.uint8)\n",
    "img3 = np.ones((240, 320), dtype=np.uint8)\n",
    "img4 = np.full((240, 320, 3), (0, 255, 255), dtype=np.uint8)\n",
    "\n",
    "cv2.imshow('img1', img1)\n",
    "cv2.imshow('img2', img2)\n",
    "cv2.imshow('img3', img3)\n",
    "cv2.imshow('img4', img4)\n",
    "cv2.waitKey()\n",
    "cv2.destroyAllWindows()"
   ]
  },
  {
   "cell_type": "code",
   "execution_count": 12,
   "id": "45f19a9c",
   "metadata": {},
   "outputs": [],
   "source": [
    "img1 = cv2.imread('HappyFish.jpg')\n",
    "\n",
    "img2 = img1\n",
    "img3 = img1.copy()\n",
    "\n",
    "cv2.imshow('img1', img1)\n",
    "cv2.imshow('img2', img2)\n",
    "cv2.imshow('img3', img3)\n",
    "\n",
    "cv2.waitKey()\n",
    "cv2.destroyAllWindows()"
   ]
  },
  {
   "cell_type": "code",
   "execution_count": 19,
   "id": "c2fd27f8",
   "metadata": {},
   "outputs": [],
   "source": [
    "img1 = cv2.imread('HappyFish.jpg')\n",
    "\n",
    "img2 = img1[40:120, 30:150]\n",
    "img3 = img1[40:120, 30:150].copy()\n",
    "\n",
    "\n",
    "img2.fill(88)\n",
    "\n",
    "cv2.imshow('img1', img1)\n",
    "cv2.imshow('img2', img2)\n",
    "cv2.imshow('img3', img3)\n",
    "\n",
    "cv2.waitKey()\n",
    "cv2.destroyAllWindows()"
   ]
  },
  {
   "cell_type": "code",
   "execution_count": null,
   "id": "4871f3db",
   "metadata": {},
   "outputs": [],
   "source": []
  }
 ],
 "metadata": {
  "kernelspec": {
   "display_name": "Python 3 (ipykernel)",
   "language": "python",
   "name": "python3"
  },
  "language_info": {
   "codemirror_mode": {
    "name": "ipython",
    "version": 3
   },
   "file_extension": ".py",
   "mimetype": "text/x-python",
   "name": "python",
   "nbconvert_exporter": "python",
   "pygments_lexer": "ipython3",
   "version": "3.9.12"
  }
 },
 "nbformat": 4,
 "nbformat_minor": 5
}
