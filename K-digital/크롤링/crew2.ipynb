{
 "cells": [
  {
   "cell_type": "code",
   "execution_count": 23,
   "id": "c22e9d43",
   "metadata": {},
   "outputs": [
    {
     "name": "stdout",
     "output_type": "stream",
     "text": [
      " For you 함께 클릭한 상품 추천 \n",
      "박셀바이오\n",
      "현대바이오\n",
      "카나리아바이오\n",
      "압타바이오\n",
      "에이비엘바이오\n",
      "박셀바이오 주가\n",
      "제넨바이오\n",
      "삼성바이오\n",
      "바이오 그릭요거트\n",
      "sk바이오\n"
     ]
    }
   ],
   "source": [
    "from urllib.request import urlopen\n",
    "import requests\n",
    "import bs4\n",
    "\n",
    "url = 'https://search.naver.com/search.naver?where=nexearch&sm=top_hty&fbm=1&ie=utf8&query=%EB%B0%94%EC%9D%B4%EC%98%A4'\n",
    "html = urlopen(url)\n",
    "\n",
    "bs_obj = bs4.BeautifulSoup(html, 'html.parser')\n",
    "atag = bs_obj.findAll('div', {'class':'tit'})\n",
    "\n",
    "for i in range(len(atag)):\n",
    "    print(atag[i].text)\n",
    "\n"
   ]
  },
  {
   "cell_type": "code",
   "execution_count": 29,
   "id": "96ebdfec",
   "metadata": {},
   "outputs": [
    {
     "name": "stdout",
     "output_type": "stream",
     "text": [
      "박셀바이오\n",
      "현대바이오\n",
      "카나리아바이오\n",
      "압타바이오\n",
      "에이비엘바이오\n",
      "박셀바이오 주가\n",
      "제넨바이오\n",
      "삼성바이오\n",
      "바이오 그릭요거트\n",
      "sk바이오\n"
     ]
    }
   ],
   "source": [
    "from urllib.request import urlopen\n",
    "import requests\n",
    "import bs4\n",
    "\n",
    "url = 'https://search.naver.com/search.naver?where=nexearch&sm=top_hty&fbm=1&ie=utf8&query=%EB%B0%94%EC%9D%B4%EC%98%A4'\n",
    "html = urlopen(url)\n",
    "\n",
    "bs_obj = bs4.BeautifulSoup(html, 'html.parser')\n",
    "atag = bs_obj.find('div', {'class':'related_srch'})\n",
    "atag2 = atag.findAll('div', {'class':'tit'})\n",
    "\n",
    "for i in range(len(atag2)):\n",
    "    print(atag2[i].text)\n",
    "\n"
   ]
  },
  {
   "cell_type": "code",
   "execution_count": null,
   "id": "483bef45",
   "metadata": {},
   "outputs": [],
   "source": []
  }
 ],
 "metadata": {
  "kernelspec": {
   "display_name": "Python 3 (ipykernel)",
   "language": "python",
   "name": "python3"
  },
  "language_info": {
   "codemirror_mode": {
    "name": "ipython",
    "version": 3
   },
   "file_extension": ".py",
   "mimetype": "text/x-python",
   "name": "python",
   "nbconvert_exporter": "python",
   "pygments_lexer": "ipython3",
   "version": "3.9.12"
  }
 },
 "nbformat": 4,
 "nbformat_minor": 5
}
