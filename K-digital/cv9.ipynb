{
 "cells": [
  {
   "cell_type": "code",
   "execution_count": 1,
   "id": "d1aa744a",
   "metadata": {},
   "outputs": [],
   "source": [
    "import sys\n",
    "import numpy as np\n",
    "import cv2"
   ]
  },
  {
   "cell_type": "code",
   "execution_count": 5,
   "id": "70a2fb0c",
   "metadata": {},
   "outputs": [],
   "source": [
    "src = cv2.imread('./lenna.bmp', cv2.IMREAD_GRAYSCALE)\n",
    "\n",
    "if src is None:\n",
    "    print('Image Load Failed!')\n",
    "    sys.exit()\n",
    "\n",
    "kernal = np.array([[-1,0,1],\n",
    "                  [-2,0,2],\n",
    "                  [-1,0,1]], dtype=np.float32)\n",
    "\n",
    "dx = cv2.filter2D(src,-1,kernal, delta=128)\n",
    "cv2.imshow('src', src)\n",
    "cv2.imshow('dx', dx)\n",
    "\n",
    "cv2.waitKey()\n",
    "cv2.destroyAllWindows()"
   ]
  },
  {
   "cell_type": "code",
   "execution_count": 8,
   "id": "84f91f39",
   "metadata": {},
   "outputs": [],
   "source": [
    "src = cv2.imread('./lenna.bmp', cv2.IMREAD_GRAYSCALE)\n",
    "\n",
    "if src is None:\n",
    "    print('Image Load Failed!')\n",
    "    sys.exit()\n",
    "\n",
    "dx = cv2.Sobel(src, -1,1,0, delta=128)\n",
    "dy = cv2.Sobel(src, -1,0,1, delta=128)\n",
    "\n",
    "cv2.imshow('src', src)\n",
    "cv2.imshow('dx', dx)\n",
    "cv2.imshow('dy', dy)\n",
    "\n",
    "cv2.waitKey()\n",
    "cv2.destroyAllWindows()"
   ]
  },
  {
   "cell_type": "code",
   "execution_count": null,
   "id": "62830710",
   "metadata": {},
   "outputs": [],
   "source": []
  }
 ],
 "metadata": {
  "kernelspec": {
   "display_name": "Python 3 (ipykernel)",
   "language": "python",
   "name": "python3"
  },
  "language_info": {
   "codemirror_mode": {
    "name": "ipython",
    "version": 3
   },
   "file_extension": ".py",
   "mimetype": "text/x-python",
   "name": "python",
   "nbconvert_exporter": "python",
   "pygments_lexer": "ipython3",
   "version": "3.9.12"
  }
 },
 "nbformat": 4,
 "nbformat_minor": 5
}
